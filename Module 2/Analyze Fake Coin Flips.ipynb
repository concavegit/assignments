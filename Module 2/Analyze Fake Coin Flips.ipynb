{
 "cells": [
  {
   "cell_type": "code",
   "execution_count": 1,
   "metadata": {},
   "outputs": [],
   "source": [
    "import pandas as pd\n",
    "\n",
    "df_fake = pd.read_csv('coin_flips.csv')"
   ]
  },
  {
   "cell_type": "code",
   "execution_count": 2,
   "metadata": {},
   "outputs": [],
   "source": [
    "from random import randint\n",
    "def sample_random_flips(x):\n",
    "    return ''.join(str(randint(0,1)) for _ in range(len(x)))\n",
    "\n",
    "df_real = df_fake.copy()\n",
    "df_real['flips'] = df_fake['flips'].map(sample_random_flips)"
   ]
  },
  {
   "cell_type": "code",
   "execution_count": 3,
   "metadata": {},
   "outputs": [],
   "source": [
    "#!pip install regex\n",
    "import regex as re\n",
    "\n",
    "def count_overlapping(text, search_for):\n",
    "    return len(re.findall(search_for, text, overlapped=True))\n",
    "\n",
    "def make_seq_column(df, seq):\n",
    "    df['seq_' + seq] = df['flips'].map(lambda x: count_overlapping(x, seq)/(len(x) - len(seq) + 1))"
   ]
  },
  {
   "cell_type": "code",
   "execution_count": null,
   "metadata": {},
   "outputs": [],
   "source": [
    "import itertools\n",
    "\n",
    "def populate_length_n_seqs(n):\n",
    "    for s in itertools.product(*([['0', '1']]*n)):\n",
    "        make_seq_column(df_real, ''.join(s))\n",
    "        make_seq_column(df_fake, ''.join(s))\n",
    "\n",
    "for n in range(10):\n",
    "    populate_length_n_seqs(n)"
   ]
  },
  {
   "cell_type": "code",
   "execution_count": 274,
   "metadata": {},
   "outputs": [
    {
     "data": {
      "image/png": "[encoded data removed]",
      "text/plain": [
       "<Figure size 432x288 with 1 Axes>"
      ]
     },
     "metadata": {
      "needs_background": "light"
     },
     "output_type": "display_data"
    }
   ],
   "source": [
    "import matplotlib.pyplot as plt\n",
    "import seaborn as sns\n",
    "\n",
    "def make_seq_hists(seq):\n",
    "    sns.distplot(df_fake['seq_' + seq], kde=False)\n",
    "    sns.distplot(df_real['seq_' + seq], kde=False)\n",
    "    plt.legend(['fake', 'real'])\n",
    "    plt.show()\n",
    "\n",
    "make_seq_hists('11111')"
   ]
  },
  {
   "cell_type": "code",
   "execution_count": 276,
   "metadata": {},
   "outputs": [
    {
     "data": {
      "image/png": "[encoded data removed]",
      "text/plain": [
       "<Figure size 432x288 with 1 Axes>"
      ]
     },
     "metadata": {
      "needs_background": "light"
     },
     "output_type": "display_data"
    }
   ],
   "source": [
    "# these are conditional probability plots could formalize them.\n",
    "# it might make sense to think of characterizing the population of fake versus population of real \n",
    "sns.distplot((df_fake['seq_001'] / df_fake['seq_00']).dropna(), kde=False)\n",
    "sns.distplot((df_real['seq_001'] / df['seq_00']).dropna(), kde=False)\n",
    "plt.show()"
   ]
  },
  {
   "cell_type": "code",
   "execution_count": 284,
   "metadata": {},
   "outputs": [],
   "source": [
    "def get_conditional_probs(df, conditioning_seq):\n",
    "    seq_count = df['seq_' + conditioning_seq] * (df['flips'].map(len)-1)\n",
    "    followed_by_1 = df['seq_' + conditioning_seq + '1'] * (df['flips'].map(len)-2)\n",
    "    followed_by_0 = df['seq_' + conditioning_seq + '0'] * (df['flips'].map(len)-2)\n",
    "    p_1_given_conditioning_seq = followed_by_1.sum() / seq_count.sum()\n",
    "    p_0_given_conditioning_seq = followed_by_0.sum() / seq_count.sum()\n",
    "    return p_0_given_conditioning_seq / (p_1_given_conditioning_seq + p_0_given_conditioning_seq), \\\n",
    "            p_1_given_conditioning_seq / (p_1_given_conditioning_seq + p_0_given_conditioning_seq)"
   ]
  },
  {
   "cell_type": "code",
   "execution_count": 299,
   "metadata": {},
   "outputs": [
    {
     "data": {
      "text/plain": [
       "(0.4999292885925334, 0.5000707114074667)"
      ]
     },
     "execution_count": 299,
     "metadata": {},
     "output_type": "execute_result"
    }
   ],
   "source": [
    "get_conditional_probs(df_real, '111111')"
   ]
  },
  {
   "cell_type": "code",
   "execution_count": null,
   "metadata": {},
   "outputs": [],
   "source": []
  }
 ],
 "metadata": {
  "kernelspec": {
   "display_name": "Python 3",
   "language": "python",
   "name": "python3"
  },
  "language_info": {
   "codemirror_mode": {
    "name": "ipython",
    "version": 3
   },
   "file_extension": ".py",
   "mimetype": "text/x-python",
   "name": "python",
   "nbconvert_exporter": "python",
   "pygments_lexer": "ipython3",
   "version": "3.6.8"
  }
 },
 "nbformat": 4,
 "nbformat_minor": 2
}
