{
  "nbformat": 4,
  "nbformat_minor": 0,
  "metadata": {
    "colab": {
      "name": "Assignment 1 Companion Notebook.ipynb",
      "provenance": [],
      "collapsed_sections": [],
      "include_colab_link": true
    },
    "kernelspec": {
      "name": "python3",
      "display_name": "Python 3"
    }
  },
  "cells": [
    {
      "cell_type": "markdown",
      "metadata": {
        "id": "view-in-github",
        "colab_type": "text"
      },
      "source": [
        "<a href=\"https://colab.research.google.com/github/mlfa19/assignments/blob/master/Module%202/01/Assignment_1_Companion_Notebook.ipynb\" target=\"_parent\"><img src=\"https://colab.research.google.com/assets/colab-badge.svg\" alt=\"Open In Colab\"/></a>"
      ]
    },
    {
      "cell_type": "markdown",
      "metadata": {
        "id": "bTeHxkfKSJl_",
        "colab_type": "text"
      },
      "source": [
        "# Assignment 1 Companion Notebook\n",
        "\n",
        "In this notebook you'll be applying Bayesian analysis to a couple of problems.  The presentation will follow Allen's workshop from PyCon [Bayes Made Simple](https://github.com/AllenDowney/BayesMadeSimple).\n",
        "\n",
        "First, install some packages and import the necessary libraries."
      ]
    },
    {
      "cell_type": "code",
      "metadata": {
        "id": "n-SZXiuRSEmS",
        "colab_type": "code",
        "outputId": "59c50a01-609f-4aaa-e7c7-f8d54ecd8dc8",
        "colab": {
          "base_uri": "https://localhost:8080/",
          "height": 188
        }
      },
      "source": [
        "!pip install empyrical-dist\n",
        "\n",
        "%matplotlib inline\n",
        "\n",
        "import numpy as np\n",
        "import pandas as pd\n",
        "\n",
        "import seaborn as sns\n",
        "sns.set_style('white')\n",
        "sns.set_context('talk')\n",
        "\n",
        "import matplotlib.pyplot as plt\n",
        "\n",
        "from empyrical_dist import Pmf"
      ],
      "execution_count": 2,
      "outputs": [
        {
          "output_type": "stream",
          "text": [
            "Collecting empyrical-dist\n",
            "  Downloading https://files.pythonhosted.org/packages/33/01/677b7cfba73873b91d6239ae961870028469f9b2c85e5830b4d200e56f1f/empyrical_dist-0.2.0.tar.gz\n",
            "Building wheels for collected packages: empyrical-dist\n",
            "  Building wheel for empyrical-dist (setup.py) ... \u001b[?25l\u001b[?25hdone\n",
            "  Created wheel for empyrical-dist: filename=empyrical_dist-0.2.0-cp36-none-any.whl size=8074 sha256=15a2c908f8e73851246e95879f550bcaa5be1234b221f976054a49643ddd93cf\n",
            "  Stored in directory: /root/.cache/pip/wheels/b5/33/56/c1f9f4c185160b176514f3d2550eabaf9a2cd514ec033ebba6\n",
            "Successfully built empyrical-dist\n",
            "Installing collected packages: empyrical-dist\n",
            "Successfully installed empyrical-dist-0.2.0\n"
          ],
          "name": "stdout"
        }
      ]
    },
    {
      "cell_type": "markdown",
      "metadata": {
        "id": "0LzIdZ6xkQeW",
        "colab_type": "text"
      },
      "source": [
        "### Working with Pmfs\n",
        "\n",
        "*Recall from the main assignment document that a PMF (probability mass function) specifies the probability that a random variable takes on a particular value.  In this problem we can think of the random variable $X$ as representing the outcome of rolling a single, six-sided die.*\n",
        "\n",
        "Create a Pmf object to represent a six-sided die."
      ]
    },
    {
      "cell_type": "code",
      "metadata": {
        "id": "1sFWerG6kVLe",
        "colab_type": "code",
        "colab": {}
      },
      "source": [
        "d6 = Pmf()"
      ],
      "execution_count": 0,
      "outputs": []
    },
    {
      "cell_type": "markdown",
      "metadata": {
        "id": "3zMmzE6XkWLQ",
        "colab_type": "text"
      },
      "source": [
        "A Pmf is a map from possible outcomes to their probabilities."
      ]
    },
    {
      "cell_type": "code",
      "metadata": {
        "id": "7pq7XA3QkZVK",
        "colab_type": "code",
        "colab": {}
      },
      "source": [
        "for x in [1,2,3,4,5,6]:\n",
        "    d6[x] = 1"
      ],
      "execution_count": 0,
      "outputs": []
    },
    {
      "cell_type": "markdown",
      "metadata": {
        "id": "xK8uyFRgkcng",
        "colab_type": "text"
      },
      "source": [
        "Initially the probabilities don't add up to 1. *Just as a probability measure must add to 1 when summed over a set of mutually exclusive, exhaustive events, a PMF must also add to 1*"
      ]
    },
    {
      "cell_type": "code",
      "metadata": {
        "id": "G8yMoR--kbay",
        "colab_type": "code",
        "outputId": "5607e580-d4a5-4741-d6f6-04825291691e",
        "colab": {
          "base_uri": "https://localhost:8080/",
          "height": 225
        }
      },
      "source": [
        "d6"
      ],
      "execution_count": 5,
      "outputs": [
        {
          "output_type": "execute_result",
          "data": {
            "text/html": [
              "<div>\n",
              "<style scoped>\n",
              "    .dataframe tbody tr th:only-of-type {\n",
              "        vertical-align: middle;\n",
              "    }\n",
              "\n",
              "    .dataframe tbody tr th {\n",
              "        vertical-align: top;\n",
              "    }\n",
              "\n",
              "    .dataframe thead th {\n",
              "        text-align: right;\n",
              "    }\n",
              "</style>\n",
              "<table border=\"1\" class=\"dataframe\">\n",
              "  <thead>\n",
              "    <tr style=\"text-align: right;\">\n",
              "      <th></th>\n",
              "      <th>probs</th>\n",
              "    </tr>\n",
              "  </thead>\n",
              "  <tbody>\n",
              "    <tr>\n",
              "      <th>1</th>\n",
              "      <td>1</td>\n",
              "    </tr>\n",
              "    <tr>\n",
              "      <th>2</th>\n",
              "      <td>1</td>\n",
              "    </tr>\n",
              "    <tr>\n",
              "      <th>3</th>\n",
              "      <td>1</td>\n",
              "    </tr>\n",
              "    <tr>\n",
              "      <th>4</th>\n",
              "      <td>1</td>\n",
              "    </tr>\n",
              "    <tr>\n",
              "      <th>5</th>\n",
              "      <td>1</td>\n",
              "    </tr>\n",
              "    <tr>\n",
              "      <th>6</th>\n",
              "      <td>1</td>\n",
              "    </tr>\n",
              "  </tbody>\n",
              "</table>\n",
              "</div>"
            ],
            "text/plain": [
              "1    1\n",
              "2    1\n",
              "3    1\n",
              "4    1\n",
              "5    1\n",
              "6    1\n",
              "dtype: int64"
            ]
          },
          "metadata": {
            "tags": []
          },
          "execution_count": 5
        }
      ]
    },
    {
      "cell_type": "markdown",
      "metadata": {
        "id": "sPM4TfHHkiIW",
        "colab_type": "text"
      },
      "source": [
        "`normalize` adds up the probabilities and divides through.  The return value is the total probability before normalizing."
      ]
    },
    {
      "cell_type": "code",
      "metadata": {
        "id": "0jAflu2HkhUL",
        "colab_type": "code",
        "outputId": "efb9476f-f030-4728-ccaf-9b5fa2435155",
        "colab": {
          "base_uri": "https://localhost:8080/",
          "height": 34
        }
      },
      "source": [
        "d6.normalize()"
      ],
      "execution_count": 6,
      "outputs": [
        {
          "output_type": "execute_result",
          "data": {
            "text/plain": [
              "6"
            ]
          },
          "metadata": {
            "tags": []
          },
          "execution_count": 6
        }
      ]
    },
    {
      "cell_type": "markdown",
      "metadata": {
        "id": "N3Feu8LWkkft",
        "colab_type": "text"
      },
      "source": [
        "Now the Pmf is normalized."
      ]
    },
    {
      "cell_type": "code",
      "metadata": {
        "id": "BKtNE8qcknxd",
        "colab_type": "code",
        "outputId": "255c99e1-94cd-45b8-ffbb-b6eadbc079af",
        "colab": {
          "base_uri": "https://localhost:8080/",
          "height": 225
        }
      },
      "source": [
        "d6"
      ],
      "execution_count": 7,
      "outputs": [
        {
          "output_type": "execute_result",
          "data": {
            "text/html": [
              "<div>\n",
              "<style scoped>\n",
              "    .dataframe tbody tr th:only-of-type {\n",
              "        vertical-align: middle;\n",
              "    }\n",
              "\n",
              "    .dataframe tbody tr th {\n",
              "        vertical-align: top;\n",
              "    }\n",
              "\n",
              "    .dataframe thead th {\n",
              "        text-align: right;\n",
              "    }\n",
              "</style>\n",
              "<table border=\"1\" class=\"dataframe\">\n",
              "  <thead>\n",
              "    <tr style=\"text-align: right;\">\n",
              "      <th></th>\n",
              "      <th>probs</th>\n",
              "    </tr>\n",
              "  </thead>\n",
              "  <tbody>\n",
              "    <tr>\n",
              "      <th>1</th>\n",
              "      <td>0.166667</td>\n",
              "    </tr>\n",
              "    <tr>\n",
              "      <th>2</th>\n",
              "      <td>0.166667</td>\n",
              "    </tr>\n",
              "    <tr>\n",
              "      <th>3</th>\n",
              "      <td>0.166667</td>\n",
              "    </tr>\n",
              "    <tr>\n",
              "      <th>4</th>\n",
              "      <td>0.166667</td>\n",
              "    </tr>\n",
              "    <tr>\n",
              "      <th>5</th>\n",
              "      <td>0.166667</td>\n",
              "    </tr>\n",
              "    <tr>\n",
              "      <th>6</th>\n",
              "      <td>0.166667</td>\n",
              "    </tr>\n",
              "  </tbody>\n",
              "</table>\n",
              "</div>"
            ],
            "text/plain": [
              "1    0.166667\n",
              "2    0.166667\n",
              "3    0.166667\n",
              "4    0.166667\n",
              "5    0.166667\n",
              "6    0.166667\n",
              "dtype: float64"
            ]
          },
          "metadata": {
            "tags": []
          },
          "execution_count": 7
        }
      ]
    },
    {
      "cell_type": "markdown",
      "metadata": {
        "id": "S40ZE3FPkrHn",
        "colab_type": "text"
      },
      "source": [
        "And we can compute its mean (which only works if it's normalized)."
      ]
    },
    {
      "cell_type": "code",
      "metadata": {
        "id": "1LMpqmONkfE7",
        "colab_type": "code",
        "colab": {
          "base_uri": "https://localhost:8080/",
          "height": 34
        },
        "outputId": "f566a9aa-b0ff-4d88-e874-39e54ce86576"
      },
      "source": [
        "d6.mean()"
      ],
      "execution_count": 8,
      "outputs": [
        {
          "output_type": "execute_result",
          "data": {
            "text/plain": [
              "3.5"
            ]
          },
          "metadata": {
            "tags": []
          },
          "execution_count": 8
        }
      ]
    },
    {
      "cell_type": "markdown",
      "metadata": {
        "id": "jf0wJKjSk7OD",
        "colab_type": "text"
      },
      "source": [
        "### The cookie problem\n",
        "\n",
        "`Pmf.from_seq` makes a `Pmf` object from a sequence of values.\n",
        "\n",
        "Here's how we can use it to create a `Pmf` with two equally likely hypotheses."
      ]
    },
    {
      "cell_type": "code",
      "metadata": {
        "id": "H4QJKoPLk_nW",
        "colab_type": "code",
        "outputId": "51dd678b-2f20-4b1e-e612-f7f87e432965",
        "colab": {
          "base_uri": "https://localhost:8080/",
          "height": 106
        }
      },
      "source": [
        "cookie = Pmf.from_seq(['Bowl 1', 'Bowl 2'])\n",
        "cookie"
      ],
      "execution_count": 9,
      "outputs": [
        {
          "output_type": "execute_result",
          "data": {
            "text/html": [
              "<div>\n",
              "<style scoped>\n",
              "    .dataframe tbody tr th:only-of-type {\n",
              "        vertical-align: middle;\n",
              "    }\n",
              "\n",
              "    .dataframe tbody tr th {\n",
              "        vertical-align: top;\n",
              "    }\n",
              "\n",
              "    .dataframe thead th {\n",
              "        text-align: right;\n",
              "    }\n",
              "</style>\n",
              "<table border=\"1\" class=\"dataframe\">\n",
              "  <thead>\n",
              "    <tr style=\"text-align: right;\">\n",
              "      <th></th>\n",
              "      <th>probs</th>\n",
              "    </tr>\n",
              "  </thead>\n",
              "  <tbody>\n",
              "    <tr>\n",
              "      <th>Bowl 1</th>\n",
              "      <td>0.5</td>\n",
              "    </tr>\n",
              "    <tr>\n",
              "      <th>Bowl 2</th>\n",
              "      <td>0.5</td>\n",
              "    </tr>\n",
              "  </tbody>\n",
              "</table>\n",
              "</div>"
            ],
            "text/plain": [
              "Bowl 1    0.5\n",
              "Bowl 2    0.5\n",
              "dtype: float64"
            ]
          },
          "metadata": {
            "tags": []
          },
          "execution_count": 9
        }
      ]
    },
    {
      "cell_type": "markdown",
      "metadata": {
        "id": "RxMNasssk-l5",
        "colab_type": "text"
      },
      "source": [
        "Now we can update each hypothesis with the likelihood of the data (a vanilla cookie).  *This is Bayes' rule in action!*"
      ]
    },
    {
      "cell_type": "code",
      "metadata": {
        "id": "VE8k5yaklEzR",
        "colab_type": "code",
        "outputId": "5030b3d8-ef41-4937-86b0-3190b496e681",
        "colab": {
          "base_uri": "https://localhost:8080/",
          "height": 34
        }
      },
      "source": [
        "cookie['Bowl 1'] *= 0.75\n",
        "cookie['Bowl 2'] *= 0.5\n",
        "cookie.normalize()"
      ],
      "execution_count": 0,
      "outputs": [
        {
          "output_type": "execute_result",
          "data": {
            "text/plain": [
              "0.625"
            ]
          },
          "metadata": {
            "tags": []
          },
          "execution_count": 30
        }
      ]
    },
    {
      "cell_type": "markdown",
      "metadata": {
        "id": "JN17HQYqlIfO",
        "colab_type": "text"
      },
      "source": [
        "And display the posterior probabilities."
      ]
    },
    {
      "cell_type": "code",
      "metadata": {
        "id": "OvU-RNP-lKUd",
        "colab_type": "code",
        "outputId": "65831b83-2e0c-4b8c-f86b-90e3650fded5",
        "colab": {
          "base_uri": "https://localhost:8080/",
          "height": 106
        }
      },
      "source": [
        "cookie"
      ],
      "execution_count": 0,
      "outputs": [
        {
          "output_type": "execute_result",
          "data": {
            "text/html": [
              "<div>\n",
              "<style scoped>\n",
              "    .dataframe tbody tr th:only-of-type {\n",
              "        vertical-align: middle;\n",
              "    }\n",
              "\n",
              "    .dataframe tbody tr th {\n",
              "        vertical-align: top;\n",
              "    }\n",
              "\n",
              "    .dataframe thead th {\n",
              "        text-align: right;\n",
              "    }\n",
              "</style>\n",
              "<table border=\"1\" class=\"dataframe\">\n",
              "  <thead>\n",
              "    <tr style=\"text-align: right;\">\n",
              "      <th></th>\n",
              "      <th>probs</th>\n",
              "    </tr>\n",
              "  </thead>\n",
              "  <tbody>\n",
              "    <tr>\n",
              "      <th>Bowl 1</th>\n",
              "      <td>0.6</td>\n",
              "    </tr>\n",
              "    <tr>\n",
              "      <th>Bowl 2</th>\n",
              "      <td>0.4</td>\n",
              "    </tr>\n",
              "  </tbody>\n",
              "</table>\n",
              "</div>"
            ],
            "text/plain": [
              "Bowl 1    0.6\n",
              "Bowl 2    0.4\n",
              "dtype: float64"
            ]
          },
          "metadata": {
            "tags": []
          },
          "execution_count": 31
        }
      ]
    },
    {
      "cell_type": "markdown",
      "metadata": {
        "id": "hK_-lwF-k_74",
        "colab_type": "text"
      },
      "source": [
        "You might be wondering what happened to the denominator in Bayes' rule.  You would think that to update the probability of bowl 1 you should be doing the following calculation:\n",
        "\n",
        "$$p(\\mbox{Bowl 1} | \\mbox{vanilla}) = \\frac{p(\\mbox{vanilla} | \\mbox{Bowl 1})}{p(\\mbox{vanilla})}$$ .\n",
        "\n",
        "in Allen's code, all he does is multiply by the likelihood.  It turns out that applying the *normalize* function has the same effect as dividing by $p(\\mbox{vanilla})$.  You can take this on faith, or show why this is true yourself (it should be pretty straightforward, post on NB if you need help)."
      ]
    },
    {
      "cell_type": "markdown",
      "metadata": {
        "id": "Aw9h4jpDlM39",
        "colab_type": "text"
      },
      "source": [
        "### *Notebook Exercise 1*\n",
        "\n",
        "Suppose we put the first cookie back, stir, choose again from the same bowl, and get a chocolate cookie.  \n",
        "\n",
        "What are the posterior probabilities after the second cookie?\n",
        "\n",
        "Hint: The posterior (after the first cookie) becomes the prior (before the second cookie)."
      ]
    },
    {
      "cell_type": "markdown",
      "metadata": {
        "id": "ZAl6Iat-mUu_",
        "colab_type": "text"
      },
      "source": [
        "#### *Expand for Solution*"
      ]
    },
    {
      "cell_type": "markdown",
      "metadata": {
        "id": "8tbJhqEfmYps",
        "colab_type": "text"
      },
      "source": [
        "***Solution***"
      ]
    },
    {
      "cell_type": "code",
      "metadata": {
        "id": "tCmdBJxGmatc",
        "colab_type": "code",
        "colab": {
          "base_uri": "https://localhost:8080/",
          "height": 106
        },
        "outputId": "0df8e39d-17df-4d55-b76e-f40665ce9b66"
      },
      "source": [
        "cookie['Bowl 1'] *= 0.75\n",
        "cookie['Bowl 2'] *= 0.5\n",
        "cookie.normalize()\n",
        "cookie"
      ],
      "execution_count": 11,
      "outputs": [
        {
          "output_type": "execute_result",
          "data": {
            "text/html": [
              "<div>\n",
              "<style scoped>\n",
              "    .dataframe tbody tr th:only-of-type {\n",
              "        vertical-align: middle;\n",
              "    }\n",
              "\n",
              "    .dataframe tbody tr th {\n",
              "        vertical-align: top;\n",
              "    }\n",
              "\n",
              "    .dataframe thead th {\n",
              "        text-align: right;\n",
              "    }\n",
              "</style>\n",
              "<table border=\"1\" class=\"dataframe\">\n",
              "  <thead>\n",
              "    <tr style=\"text-align: right;\">\n",
              "      <th></th>\n",
              "      <th>probs</th>\n",
              "    </tr>\n",
              "  </thead>\n",
              "  <tbody>\n",
              "    <tr>\n",
              "      <th>Bowl 1</th>\n",
              "      <td>0.6</td>\n",
              "    </tr>\n",
              "    <tr>\n",
              "      <th>Bowl 2</th>\n",
              "      <td>0.4</td>\n",
              "    </tr>\n",
              "  </tbody>\n",
              "</table>\n",
              "</div>"
            ],
            "text/plain": [
              "Bowl 1    0.6\n",
              "Bowl 2    0.4\n",
              "dtype: float64"
            ]
          },
          "metadata": {
            "tags": []
          },
          "execution_count": 11
        }
      ]
    },
    {
      "cell_type": "markdown",
      "metadata": {
        "id": "ct6p6U2ti_fH",
        "colab_type": "text"
      },
      "source": [
        "### The dice problem\n",
        "\n",
        "Create a Suite to represent dice with different numbers of sides."
      ]
    },
    {
      "cell_type": "code",
      "metadata": {
        "id": "LbWxojTBjCZ6",
        "colab_type": "code",
        "outputId": "7cf1fe99-0065-47a5-943a-80da3beb711d",
        "colab": {
          "base_uri": "https://localhost:8080/",
          "height": 166
        }
      },
      "source": [
        "dice = Pmf.from_seq([4, 6, 8, 12])\n",
        "dice"
      ],
      "execution_count": 0,
      "outputs": [
        {
          "output_type": "execute_result",
          "data": {
            "text/html": [
              "<div>\n",
              "<style scoped>\n",
              "    .dataframe tbody tr th:only-of-type {\n",
              "        vertical-align: middle;\n",
              "    }\n",
              "\n",
              "    .dataframe tbody tr th {\n",
              "        vertical-align: top;\n",
              "    }\n",
              "\n",
              "    .dataframe thead th {\n",
              "        text-align: right;\n",
              "    }\n",
              "</style>\n",
              "<table border=\"1\" class=\"dataframe\">\n",
              "  <thead>\n",
              "    <tr style=\"text-align: right;\">\n",
              "      <th></th>\n",
              "      <th>probs</th>\n",
              "    </tr>\n",
              "  </thead>\n",
              "  <tbody>\n",
              "    <tr>\n",
              "      <th>4</th>\n",
              "      <td>0.25</td>\n",
              "    </tr>\n",
              "    <tr>\n",
              "      <th>6</th>\n",
              "      <td>0.25</td>\n",
              "    </tr>\n",
              "    <tr>\n",
              "      <th>8</th>\n",
              "      <td>0.25</td>\n",
              "    </tr>\n",
              "    <tr>\n",
              "      <th>12</th>\n",
              "      <td>0.25</td>\n",
              "    </tr>\n",
              "  </tbody>\n",
              "</table>\n",
              "</div>"
            ],
            "text/plain": [
              "4     0.25\n",
              "6     0.25\n",
              "8     0.25\n",
              "12    0.25\n",
              "dtype: float64"
            ]
          },
          "metadata": {
            "tags": []
          },
          "execution_count": 6
        }
      ]
    },
    {
      "cell_type": "markdown",
      "metadata": {
        "id": "jEOsLqKvjBhB",
        "colab_type": "text"
      },
      "source": [
        "**Exercise 1:** We'll solve this problem two ways.  First we'll do it \"by hand\", as we did with the cookie problem; that is, we'll multiply each hypothesis by the likelihood of the data, and then renormalize.\n",
        "\n",
        "In the space below, update `dice` based on the likelihood of the data (rolling a 6), then normalize and display the results."
      ]
    },
    {
      "cell_type": "code",
      "metadata": {
        "id": "UQqQtYuaicsq",
        "colab_type": "code",
        "outputId": "1c372285-538d-4c10-a772-7c3167e32996",
        "colab": {
          "base_uri": "https://localhost:8080/",
          "height": 166
        }
      },
      "source": [
        "dice[4] *= 0\n",
        "dice[6] *= 1/6\n",
        "dice[8] *= 1/8\n",
        "dice[12] *= 1/12\n",
        "dice.normalize()\n",
        "dice"
      ],
      "execution_count": 0,
      "outputs": [
        {
          "output_type": "execute_result",
          "data": {
            "text/html": [
              "<div>\n",
              "<style scoped>\n",
              "    .dataframe tbody tr th:only-of-type {\n",
              "        vertical-align: middle;\n",
              "    }\n",
              "\n",
              "    .dataframe tbody tr th {\n",
              "        vertical-align: top;\n",
              "    }\n",
              "\n",
              "    .dataframe thead th {\n",
              "        text-align: right;\n",
              "    }\n",
              "</style>\n",
              "<table border=\"1\" class=\"dataframe\">\n",
              "  <thead>\n",
              "    <tr style=\"text-align: right;\">\n",
              "      <th></th>\n",
              "      <th>probs</th>\n",
              "    </tr>\n",
              "  </thead>\n",
              "  <tbody>\n",
              "    <tr>\n",
              "      <th>4</th>\n",
              "      <td>0.000000</td>\n",
              "    </tr>\n",
              "    <tr>\n",
              "      <th>6</th>\n",
              "      <td>0.444444</td>\n",
              "    </tr>\n",
              "    <tr>\n",
              "      <th>8</th>\n",
              "      <td>0.333333</td>\n",
              "    </tr>\n",
              "    <tr>\n",
              "      <th>12</th>\n",
              "      <td>0.222222</td>\n",
              "    </tr>\n",
              "  </tbody>\n",
              "</table>\n",
              "</div>"
            ],
            "text/plain": [
              "4     0.000000\n",
              "6     0.444444\n",
              "8     0.333333\n",
              "12    0.222222\n",
              "dtype: float64"
            ]
          },
          "metadata": {
            "tags": []
          },
          "execution_count": 7
        }
      ]
    },
    {
      "cell_type": "markdown",
      "metadata": {
        "id": "34SGwaNLjM7w",
        "colab_type": "text"
      },
      "source": [
        "**Exercise 2:**  Now let's do the same calculation using `Pmf.update`, which encodes the structure of a Bayesian update.\n",
        "\n",
        "Define a function called `likelihood_dice` that takes `data` and `hypo` and returns the probability of the data (the outcome of rolling the die) for a given hypothesis (number of sides on the die).\n",
        "\n",
        "Hint: What should you do if the outcome exceeds the hypothetical number of sides on the die?\n",
        "\n",
        "Here's an outline to get you started."
      ]
    },
    {
      "cell_type": "code",
      "metadata": {
        "id": "mxX6CO37jOu2",
        "colab_type": "code",
        "colab": {}
      },
      "source": [
        "def likelihood_dice(data, hypo):\n",
        "    \"\"\"Likelihood function for the dice problem.\n",
        "    \n",
        "    data: outcome of the die roll\n",
        "    hypo: number of sides\n",
        "    \n",
        "    returns: float probability\n",
        "    \"\"\"\n",
        "    if data > hypo:\n",
        "        return 0\n",
        "    return 1/hypo"
      ],
      "execution_count": 0,
      "outputs": []
    },
    {
      "cell_type": "code",
      "metadata": {
        "id": "jFo7XQJYjI65",
        "colab_type": "code",
        "outputId": "8c39bc8d-242a-452d-f90e-ed7ec7723a96",
        "colab": {
          "base_uri": "https://localhost:8080/",
          "height": 166
        }
      },
      "source": [
        "dice = Pmf.from_seq([4, 6, 8, 12])\n",
        "dice.update(likelihood_dice, 6)\n",
        "dice"
      ],
      "execution_count": 0,
      "outputs": [
        {
          "output_type": "execute_result",
          "data": {
            "text/html": [
              "<div>\n",
              "<style scoped>\n",
              "    .dataframe tbody tr th:only-of-type {\n",
              "        vertical-align: middle;\n",
              "    }\n",
              "\n",
              "    .dataframe tbody tr th {\n",
              "        vertical-align: top;\n",
              "    }\n",
              "\n",
              "    .dataframe thead th {\n",
              "        text-align: right;\n",
              "    }\n",
              "</style>\n",
              "<table border=\"1\" class=\"dataframe\">\n",
              "  <thead>\n",
              "    <tr style=\"text-align: right;\">\n",
              "      <th></th>\n",
              "      <th>probs</th>\n",
              "    </tr>\n",
              "  </thead>\n",
              "  <tbody>\n",
              "    <tr>\n",
              "      <th>4</th>\n",
              "      <td>0.000000</td>\n",
              "    </tr>\n",
              "    <tr>\n",
              "      <th>6</th>\n",
              "      <td>0.444444</td>\n",
              "    </tr>\n",
              "    <tr>\n",
              "      <th>8</th>\n",
              "      <td>0.333333</td>\n",
              "    </tr>\n",
              "    <tr>\n",
              "      <th>12</th>\n",
              "      <td>0.222222</td>\n",
              "    </tr>\n",
              "  </tbody>\n",
              "</table>\n",
              "</div>"
            ],
            "text/plain": [
              "4     0.000000\n",
              "6     0.444444\n",
              "8     0.333333\n",
              "12    0.222222\n",
              "dtype: float64"
            ]
          },
          "metadata": {
            "tags": []
          },
          "execution_count": 9
        }
      ]
    },
    {
      "cell_type": "markdown",
      "metadata": {
        "id": "R_pC_YWtjciT",
        "colab_type": "text"
      },
      "source": [
        "If we get more data, we can perform more updates."
      ]
    },
    {
      "cell_type": "code",
      "metadata": {
        "id": "CaYbxqLDjYM4",
        "colab_type": "code",
        "colab": {}
      },
      "source": [
        "for roll in [8, 7, 7, 5, 4]:\n",
        "    dice.update(likelihood_dice, roll)"
      ],
      "execution_count": 0,
      "outputs": []
    },
    {
      "cell_type": "markdown",
      "metadata": {
        "id": "Q57rKBN2jivv",
        "colab_type": "text"
      },
      "source": [
        "Here are the results."
      ]
    },
    {
      "cell_type": "code",
      "metadata": {
        "id": "nZyUFdF5jd8i",
        "colab_type": "code",
        "outputId": "1d36f192-63df-4a9a-8299-4547ae54ab90",
        "colab": {
          "base_uri": "https://localhost:8080/",
          "height": 166
        }
      },
      "source": [
        "dice"
      ],
      "execution_count": 0,
      "outputs": [
        {
          "output_type": "execute_result",
          "data": {
            "text/html": [
              "<div>\n",
              "<style scoped>\n",
              "    .dataframe tbody tr th:only-of-type {\n",
              "        vertical-align: middle;\n",
              "    }\n",
              "\n",
              "    .dataframe tbody tr th {\n",
              "        vertical-align: top;\n",
              "    }\n",
              "\n",
              "    .dataframe thead th {\n",
              "        text-align: right;\n",
              "    }\n",
              "</style>\n",
              "<table border=\"1\" class=\"dataframe\">\n",
              "  <thead>\n",
              "    <tr style=\"text-align: right;\">\n",
              "      <th></th>\n",
              "      <th>probs</th>\n",
              "    </tr>\n",
              "  </thead>\n",
              "  <tbody>\n",
              "    <tr>\n",
              "      <th>4</th>\n",
              "      <td>0.000000</td>\n",
              "    </tr>\n",
              "    <tr>\n",
              "      <th>6</th>\n",
              "      <td>0.000000</td>\n",
              "    </tr>\n",
              "    <tr>\n",
              "      <th>8</th>\n",
              "      <td>0.919294</td>\n",
              "    </tr>\n",
              "    <tr>\n",
              "      <th>12</th>\n",
              "      <td>0.080706</td>\n",
              "    </tr>\n",
              "  </tbody>\n",
              "</table>\n",
              "</div>"
            ],
            "text/plain": [
              "4     0.000000\n",
              "6     0.000000\n",
              "8     0.919294\n",
              "12    0.080706\n",
              "dtype: float64"
            ]
          },
          "metadata": {
            "tags": []
          },
          "execution_count": 12
        }
      ]
    },
    {
      "cell_type": "markdown",
      "metadata": {
        "id": "9mBBTTjOjnV3",
        "colab_type": "text"
      },
      "source": [
        "### The German tank problem\n",
        "\n",
        "The German tank problem is actually identical to the dice problem."
      ]
    },
    {
      "cell_type": "code",
      "metadata": {
        "id": "IWEtl_QxjwCN",
        "colab_type": "code",
        "colab": {}
      },
      "source": [
        "def likelihood_tank(data, hypo):\n",
        "    \"\"\"Likelihood function for the tank problem.\n",
        "    \n",
        "    data: observed serial number\n",
        "    hypo: number of tanks\n",
        "    \n",
        "    returns: float probability\n",
        "    \"\"\"\n",
        "    if data > hypo:\n",
        "        return 0\n",
        "    else:\n",
        "        return 1 / hypo"
      ],
      "execution_count": 0,
      "outputs": []
    },
    {
      "cell_type": "markdown",
      "metadata": {
        "id": "UIBETbkNjzB0",
        "colab_type": "text"
      },
      "source": [
        "Here is the update after seeing Tank #42."
      ]
    },
    {
      "cell_type": "code",
      "metadata": {
        "id": "o9vFLE8djswD",
        "colab_type": "code",
        "outputId": "9395828a-f05d-4f86-a51c-de6588ba2994",
        "colab": {
          "base_uri": "https://localhost:8080/",
          "height": 34
        }
      },
      "source": [
        "tank = Pmf.from_seq(range(100))\n",
        "tank.update(likelihood_tank, 42)\n",
        "tank.mean()"
      ],
      "execution_count": 0,
      "outputs": [
        {
          "output_type": "execute_result",
          "data": {
            "text/plain": [
              "66.32784309363326"
            ]
          },
          "metadata": {
            "tags": []
          },
          "execution_count": 17
        }
      ]
    },
    {
      "cell_type": "markdown",
      "metadata": {
        "id": "Snbv_xIEj7mv",
        "colab_type": "text"
      },
      "source": [
        "And here's what the posterior distribution looks like."
      ]
    },
    {
      "cell_type": "code",
      "metadata": {
        "id": "AKtabb8cj00w",
        "colab_type": "code",
        "colab": {}
      },
      "source": [
        "def decorate_tank(title):\n",
        "    \"\"\"Labels the axes.\n",
        "    \n",
        "    title: string\n",
        "    \"\"\"\n",
        "    plt.xlabel('Number of tanks')\n",
        "    plt.ylabel('PMF')\n",
        "    plt.title(title)"
      ],
      "execution_count": 0,
      "outputs": []
    },
    {
      "cell_type": "code",
      "metadata": {
        "id": "hlbwk80Yj64i",
        "colab_type": "code",
        "outputId": "020f760c-7ce8-46a3-8526-b94ec948f587",
        "colab": {
          "base_uri": "https://localhost:8080/",
          "height": 321
        }
      },
      "source": [
        "tank.plot()\n",
        "decorate_tank('Distribution after one tank')"
      ],
      "execution_count": 0,
      "outputs": [
        {
          "output_type": "display_data",
          "data": {
            "image/png": "[encoded data removed]",
            "text/plain": [
              "<Figure size 432x288 with 1 Axes>"
            ]
          },
          "metadata": {
            "tags": []
          }
        }
      ]
    },
    {
      "cell_type": "markdown",
      "metadata": {
        "id": "FzH3kDE5kC08",
        "colab_type": "text"
      },
      "source": [
        "**Exercise 3:**  Suppose we see another tank with serial number 17.  What effect does this have on the posterior probabilities?\n",
        "\n",
        "Update the `Pmf` with the new data and plot the results."
      ]
    },
    {
      "cell_type": "code",
      "metadata": {
        "id": "SKf_0ebAj-2D",
        "colab_type": "code",
        "outputId": "7dfc437b-a91f-4f54-95cc-6893b25594ad",
        "colab": {
          "base_uri": "https://localhost:8080/",
          "height": 34
        }
      },
      "source": [
        "tank.update(likelihood_tank, 17)\n",
        "tank.mean()"
      ],
      "execution_count": 0,
      "outputs": [
        {
          "output_type": "execute_result",
          "data": {
            "text/plain": [
              "62.25994473449364"
            ]
          },
          "metadata": {
            "tags": []
          },
          "execution_count": 21
        }
      ]
    },
    {
      "cell_type": "code",
      "metadata": {
        "id": "5KmevawhkEGa",
        "colab_type": "code",
        "outputId": "4c6684b5-f601-42c7-d9a7-f892df5f391f",
        "colab": {
          "base_uri": "https://localhost:8080/",
          "height": 321
        }
      },
      "source": [
        "tank.plot()\n",
        "decorate_tank('Distribution after two tanks')"
      ],
      "execution_count": 0,
      "outputs": [
        {
          "output_type": "display_data",
          "data": {
            "image/png": "[encoded data removed]",
            "text/plain": [
              "<Figure size 432x288 with 1 Axes>"
            ]
          },
          "metadata": {
            "tags": []
          }
        }
      ]
    }
  ]
}