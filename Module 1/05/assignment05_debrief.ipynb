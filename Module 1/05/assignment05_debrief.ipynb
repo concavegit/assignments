{
  "nbformat": 4,
  "nbformat_minor": 0,
  "metadata": {
    "colab": {
      "name": "assignment05_debrief",
      "provenance": [],
      "collapsed_sections": [],
      "include_colab_link": true
    },
    "kernelspec": {
      "display_name": "Python 3",
      "language": "python",
      "name": "python3"
    },
    "language_info": {
      "codemirror_mode": {
        "name": "ipython",
        "version": 3
      },
      "file_extension": ".py",
      "mimetype": "text/x-python",
      "name": "python",
      "nbconvert_exporter": "python",
      "pygments_lexer": "ipython3",
      "version": "3.6.8"
    }
  },
  "cells": [
    {
      "cell_type": "markdown",
      "metadata": {
        "id": "view-in-github",
        "colab_type": "text"
      },
      "source": [
        "<a href=\"https://colab.research.google.com/github/mlfa19/assignments/blob/master/Module%201/05/assignment05_debrief.ipynb\" target=\"_parent\"><img src=\"https://colab.research.google.com/assets/colab-badge.svg\" alt=\"Open In Colab\"/></a>"
      ]
    },
    {
      "cell_type": "markdown",
      "metadata": {
        "id": "wBlCvBE_k4iG",
        "colab_type": "text"
      },
      "source": [
        "# Debrief on Common Questions on the Assignment\n",
        "\n",
        "Based on your [experiences and questions related to assignment 5](https://docs.google.com/document/d/10GkR4LS2FY722CpCM_H8IMjdA_XIOaihPJxFiI4HFsY/edit?usp=sharing), we put together this notebook.  We focused on things that were confusing / frustrating to increase understanding and comfort within the class.  In addition to answering common questions with text, we'll also include code examples and links to external resources.\n",
        "\n",
        "Before we get started, let's download the datasets and import some libraries we're going to be working with (we'll talk a bit about Cactus and MNIST, but the code examples will only use these three).\n",
        "* Titanic\n",
        "* Smile Detection\n",
        "* Pet Adoption"
      ]
    },
    {
      "cell_type": "code",
      "metadata": {
        "id": "6iWMpsWVk4iI",
        "colab_type": "code",
        "outputId": "27c06268-6f72-47c9-d65f-5cc046895855",
        "colab": {
          "base_uri": "https://localhost:8080/",
          "height": 357
        }
      },
      "source": [
        "import gdown\n",
        "from scipy.io import loadmat\n",
        "from sklearn.linear_model import LogisticRegression\n",
        "import pandas as pd\n",
        "import numpy as np\n",
        "import matplotlib.pyplot as plt\n",
        "%matplotlib inline\n",
        "import seaborn as sns\n",
        "\n",
        "gdown.download('https://drive.google.com/uc?authuser=0&id=0B0UHkPLHsgyoclIxTlhDd29tMjQ&export=download', 'train_human_genki.mat', False)\n",
        "data = loadmat('train_human_genki.mat')\n",
        "smile_images = data['images']\n",
        "smile_images_vectorized = smile_images.reshape(-1, smile_images.shape[2]).T\n",
        "# smile_expressions contains the expressions of each face (1 for smiling, 0 for not smiling)\n",
        "smile_y = data['expressions']\n",
        "\n",
        "gdown.download('https://drive.google.com/uc?authuser=0&id=1XIFiL3WxxR6M2nWgADi3xWvuRO6A-Ov8&export=download', 'titanic_train.csv', False)\n",
        "titanic_df = pd.read_csv('titanic_train.csv')\n",
        "\n",
        "gdown.download('https://drive.google.com/uc?authuser=0&id=1ckBa2ULUhF8qvlXwX3qWMs2TJNNdPHbq&export=download', 'pet_finder_train.csv', False)\n",
        "gdown.download('https://drive.google.com/uc?authuser=0&id=1A_0y9OQhLB6GrI6FW3PXXtiyGdwtXF6z&export=download', 'breed_labels.csv', False)\n",
        "gdown.download('https://drive.google.com/uc?authuser=0&id=1hRb7pOd86eYTYg1D_4WF7hSkHVPeFKfJ&export=download', 'color_labels.csv', False)\n",
        "\n",
        "pets_df = pd.read_csv('pet_finder_train.csv')\n",
        "pets_breeds_df = pd.read_csv('breed_labels.csv')\n",
        "pets_colors_df = pd.read_csv('color_labels.csv')"
      ],
      "execution_count": 0,
      "outputs": [
        {
          "output_type": "stream",
          "text": [
            "Downloading...\n",
            "From: https://drive.google.com/uc?authuser=0&id=0B0UHkPLHsgyoclIxTlhDd29tMjQ&export=download\n",
            "To: /content/train_human_genki.mat\n",
            "64.1MB [00:00, 141MB/s]\n",
            "Downloading...\n",
            "From: https://drive.google.com/uc?authuser=0&id=1XIFiL3WxxR6M2nWgADi3xWvuRO6A-Ov8&export=download\n",
            "To: /content/titanic_train.csv\n",
            "100%|██████████| 61.2k/61.2k [00:00<00:00, 14.8MB/s]\n",
            "Downloading...\n",
            "From: https://drive.google.com/uc?authuser=0&id=1ckBa2ULUhF8qvlXwX3qWMs2TJNNdPHbq&export=download\n",
            "To: /content/pet_finder_train.csv\n",
            "6.69MB [00:00, 76.4MB/s]\n",
            "Downloading...\n",
            "From: https://drive.google.com/uc?authuser=0&id=1A_0y9OQhLB6GrI6FW3PXXtiyGdwtXF6z&export=download\n",
            "To: /content/breed_labels.csv\n",
            "100%|██████████| 6.98k/6.98k [00:00<00:00, 1.60MB/s]\n",
            "Downloading...\n",
            "From: https://drive.google.com/uc?authuser=0&id=1hRb7pOd86eYTYg1D_4WF7hSkHVPeFKfJ&export=download\n",
            "To: /content/color_labels.csv\n",
            "100%|██████████| 88.0/88.0 [00:00<00:00, 113kB/s]\n"
          ],
          "name": "stderr"
        }
      ]
    },
    {
      "cell_type": "markdown",
      "metadata": {
        "id": "mGVktnjwk4iO",
        "colab_type": "text"
      },
      "source": [
        "## How Much Should I Know?!?\n",
        "\n",
        "A number of folks felt unsure about how much we expected them to know about these tools at this point in the course.  As we mentioned in class, we view this as the very beginning of the process of you building comfort with these tools.  We are here to scaffold this to help improve your learning and increase your confidence (this was a major motivator behind the creation of this notebook).\n",
        "\n",
        "Beyond the specifics of the tools we are using, the machine learning workflow is something you'll be engaging with all semester.  You will have many opportunities to learn to deal with different sorts of data.  You will learn how to train, evaluate, understand, and improve these models.\n",
        "\n",
        "Here are some questions / comments that are representative of this class of concerns.\n",
        "\n",
        "> We’ve gained more insight on machine learning as a whole but still felt limited in our ability to analyze the datasets\n",
        "\n",
        "That's to be expected at this point.  That said, it does seem that we under-scaffolded this assignment.  We hope this notebook helps fill in some of these gaps.\n",
        "\n",
        "> How much are we expected to know at this point?\n",
        "\n",
        "We expect that you are becoming more familiar with scikit learn, pandas, matplotlib, etc.  If you were completely unfamiliar with these tools initially, you will likely still feel uncomfortable with them.  Hopefully your general understanding is improving even if you are still like you have a lot of lingering questions.\n",
        "\n",
        "> How much are we supposed to create on our own versus use libraries?\n",
        "\n",
        "On some assignments we may ask you to implement an algorithm.  When we do this it will almost always be for improving understanding rather than to use in the context of an application.  For projects, we expect that you will build things using appropriate libraries, which in this class means things like scikit learn and pytorch.  If you have learning goals around implementing your own version of some of these algorithms, that is also something that can be accomodated in the structure of the course.\n",
        "\n",
        "> It is hard to realize how much I know vs. how much I don’t know\n",
        "\n",
        "We empathize with this dilemma.  Hopefully as we get deeper into the semester this will feel like less of an issue, but if you still have this feeling please let us know.  We can schedule a meeting to help you better contextualize what we are doing in this class within a larger body of knowledge.  If enough people feel like this, we can write something or have an in class activity to help answer these questions.  Please keep the dialogue open and keep asking (specific) questions along these lines."
      ]
    },
    {
      "cell_type": "markdown",
      "metadata": {
        "id": "z9oZTiBRk4iO",
        "colab_type": "text"
      },
      "source": [
        "## Data Visualization Tools\n",
        "\n",
        "> Graphs were not necessarily helpful\n",
        "\n",
        "> Don’t really know how to create graphs that are helpful, or how to analyze graphs\n",
        "\n",
        "> Sometimes data was distributed over a large range, so it was hard to get a sense of it\n",
        "\n",
        "> May be helpful to have a walk-through/notebook focused on experimenting with seaborn & other libraries\n",
        "\n",
        "> May also be helpful to have more scaffolding on data analysis/data science/statistics (so you know what graphs to generate for different types of data)\n",
        "\n",
        "In total these commments point to the need to have better scaffolding around what sorts of plots are best-suited to particular types of data or particular types of analysis.  Before we jump into our own examples, you should seriously consider checking out some of these external resources.\n",
        "* [Matplotlib tutorial](https://github.com/rougier/matplotlib-tutorial)\n",
        "* Jake VanderPlas' [guide to visualizing data in Seaborn](https://jakevdp.github.io/PythonDataScienceHandbook/04.14-visualization-with-seaborn.html).\n",
        "* [Top 50 Matplotlib Visualizations](https://www.machinelearningplus.com/plots/top-50-matplotlib-visualizations-the-master-plots-python/)\n",
        "\n",
        "We won't do a comprehensive guide to data visualization here, but we'll try to give a couple of examples as they relate to the Titanic dataset.  We'll focus on things that were not in the assignment 5 walkthrough, since you already have those.  In the future we can provide more scaffolding as we encounter new challenges related to data visualization."
      ]
    },
    {
      "cell_type": "markdown",
      "metadata": {
        "id": "rqitemWGk4iP",
        "colab_type": "text"
      },
      "source": [
        "### Examining the impact of a continuous variable on a binary outcome\n",
        "\n",
        "We saw some examples of showing the impact of a binary variable on survival rate in the walkthrough.  We also showed some histograms of survival rate versus age.  We want to come back to the survival rate versus age example and do a bit more work with it.  We'll also show the visualization of survival rate versus a discrete quantity (in this case sex) as a counterpoint.\n",
        "\n",
        "One of the tools we'll use for this a scipy function called `binned_statistic`. To understand what this is doing think back to some of the histograms we created in the Titanic walkthrough.  These histograms chopped up the x-axis into discrete bins and drew bars whose heights indicated how many points fell within each bin.  `binned_statistic` will generalize this idea by allowing us to compute many different statistics on data that fall within a particular bin.  For instance, we can plot the survival rate for all passengers that fall within a particular age bin (e.g., 8-12 year olds).  We'll show you how to do that for the Titanic dataset in just a bit.  First, execute the code cell below to import the function and display the help."
      ]
    },
    {
      "cell_type": "code",
      "metadata": {
        "id": "QqrVNHSNqHWx",
        "colab_type": "code",
        "outputId": "cc0d3f7d-12ad-47ab-9ce2-f9e315637ee1",
        "colab": {
          "base_uri": "https://localhost:8080/",
          "height": 1000
        }
      },
      "source": [
        "from scipy.stats import binned_statistic\n",
        "help(binned_statistic)"
      ],
      "execution_count": 0,
      "outputs": [
        {
          "output_type": "stream",
          "text": [
            "Help on function binned_statistic in module scipy.stats._binned_statistic:\n",
            "\n",
            "binned_statistic(x, values, statistic='mean', bins=10, range=None)\n",
            "    Compute a binned statistic for one or more sets of data.\n",
            "    \n",
            "    This is a generalization of a histogram function.  A histogram divides\n",
            "    the space into bins, and returns the count of the number of points in\n",
            "    each bin.  This function allows the computation of the sum, mean, median,\n",
            "    or other statistic of the values (or set of values) within each bin.\n",
            "    \n",
            "    Parameters\n",
            "    ----------\n",
            "    x : (N,) array_like\n",
            "        A sequence of values to be binned.\n",
            "    values : (N,) array_like or list of (N,) array_like\n",
            "        The data on which the statistic will be computed.  This must be\n",
            "        the same shape as `x`, or a set of sequences - each the same shape as\n",
            "        `x`.  If `values` is a set of sequences, the statistic will be computed\n",
            "        on each independently.\n",
            "    statistic : string or callable, optional\n",
            "        The statistic to compute (default is 'mean').\n",
            "        The following statistics are available:\n",
            "    \n",
            "          * 'mean' : compute the mean of values for points within each bin.\n",
            "            Empty bins will be represented by NaN.\n",
            "          * 'std' : compute the standard deviation within each bin. This \n",
            "            is implicitly calculated with ddof=0.\n",
            "          * 'median' : compute the median of values for points within each\n",
            "            bin. Empty bins will be represented by NaN.\n",
            "          * 'count' : compute the count of points within each bin.  This is\n",
            "            identical to an unweighted histogram.  `values` array is not\n",
            "            referenced.\n",
            "          * 'sum' : compute the sum of values for points within each bin.\n",
            "            This is identical to a weighted histogram.\n",
            "          * 'min' : compute the minimum of values for points within each bin.\n",
            "            Empty bins will be represented by NaN.\n",
            "          * 'max' : compute the maximum of values for point within each bin.\n",
            "            Empty bins will be represented by NaN.\n",
            "          * function : a user-defined function which takes a 1D array of\n",
            "            values, and outputs a single numerical statistic. This function\n",
            "            will be called on the values in each bin.  Empty bins will be\n",
            "            represented by function([]), or NaN if this returns an error.\n",
            "    \n",
            "    bins : int or sequence of scalars, optional\n",
            "        If `bins` is an int, it defines the number of equal-width bins in the\n",
            "        given range (10 by default).  If `bins` is a sequence, it defines the\n",
            "        bin edges, including the rightmost edge, allowing for non-uniform bin\n",
            "        widths.  Values in `x` that are smaller than lowest bin edge are\n",
            "        assigned to bin number 0, values beyond the highest bin are assigned to\n",
            "        ``bins[-1]``.  If the bin edges are specified, the number of bins will\n",
            "        be, (nx = len(bins)-1).\n",
            "    range : (float, float) or [(float, float)], optional\n",
            "        The lower and upper range of the bins.  If not provided, range\n",
            "        is simply ``(x.min(), x.max())``.  Values outside the range are\n",
            "        ignored.\n",
            "    \n",
            "    Returns\n",
            "    -------\n",
            "    statistic : array\n",
            "        The values of the selected statistic in each bin.\n",
            "    bin_edges : array of dtype float\n",
            "        Return the bin edges ``(length(statistic)+1)``.\n",
            "    binnumber: 1-D ndarray of ints\n",
            "        Indices of the bins (corresponding to `bin_edges`) in which each value\n",
            "        of `x` belongs.  Same length as `values`.  A binnumber of `i` means the\n",
            "        corresponding value is between (bin_edges[i-1], bin_edges[i]).\n",
            "    \n",
            "    See Also\n",
            "    --------\n",
            "    numpy.digitize, numpy.histogram, binned_statistic_2d, binned_statistic_dd\n",
            "    \n",
            "    Notes\n",
            "    -----\n",
            "    All but the last (righthand-most) bin is half-open.  In other words, if\n",
            "    `bins` is ``[1, 2, 3, 4]``, then the first bin is ``[1, 2)`` (including 1,\n",
            "    but excluding 2) and the second ``[2, 3)``.  The last bin, however, is\n",
            "    ``[3, 4]``, which *includes* 4.\n",
            "    \n",
            "    .. versionadded:: 0.11.0\n",
            "    \n",
            "    Examples\n",
            "    --------\n",
            "    >>> from scipy import stats\n",
            "    >>> import matplotlib.pyplot as plt\n",
            "    \n",
            "    First some basic examples:\n",
            "    \n",
            "    Create two evenly spaced bins in the range of the given sample, and sum the\n",
            "    corresponding values in each of those bins:\n",
            "    \n",
            "    >>> values = [1.0, 1.0, 2.0, 1.5, 3.0]\n",
            "    >>> stats.binned_statistic([1, 1, 2, 5, 7], values, 'sum', bins=2)\n",
            "    (array([ 4. ,  4.5]), array([ 1.,  4.,  7.]), array([1, 1, 1, 2, 2]))\n",
            "    \n",
            "    Multiple arrays of values can also be passed.  The statistic is calculated\n",
            "    on each set independently:\n",
            "    \n",
            "    >>> values = [[1.0, 1.0, 2.0, 1.5, 3.0], [2.0, 2.0, 4.0, 3.0, 6.0]]\n",
            "    >>> stats.binned_statistic([1, 1, 2, 5, 7], values, 'sum', bins=2)\n",
            "    (array([[ 4. ,  4.5], [ 8. ,  9. ]]), array([ 1.,  4.,  7.]),\n",
            "        array([1, 1, 1, 2, 2]))\n",
            "    \n",
            "    >>> stats.binned_statistic([1, 2, 1, 2, 4], np.arange(5), statistic='mean',\n",
            "    ...                        bins=3)\n",
            "    (array([ 1.,  2.,  4.]), array([ 1.,  2.,  3.,  4.]),\n",
            "        array([1, 2, 1, 2, 3]))\n",
            "    \n",
            "    As a second example, we now generate some random data of sailing boat speed\n",
            "    as a function of wind speed, and then determine how fast our boat is for\n",
            "    certain wind speeds:\n",
            "    \n",
            "    >>> windspeed = 8 * np.random.rand(500)\n",
            "    >>> boatspeed = .3 * windspeed**.5 + .2 * np.random.rand(500)\n",
            "    >>> bin_means, bin_edges, binnumber = stats.binned_statistic(windspeed,\n",
            "    ...                 boatspeed, statistic='median', bins=[1,2,3,4,5,6,7])\n",
            "    >>> plt.figure()\n",
            "    >>> plt.plot(windspeed, boatspeed, 'b.', label='raw data')\n",
            "    >>> plt.hlines(bin_means, bin_edges[:-1], bin_edges[1:], colors='g', lw=5,\n",
            "    ...            label='binned statistic of data')\n",
            "    >>> plt.legend()\n",
            "    \n",
            "    Now we can use ``binnumber`` to select all datapoints with a windspeed\n",
            "    below 1:\n",
            "    \n",
            "    >>> low_boatspeed = boatspeed[binnumber == 0]\n",
            "    \n",
            "    As a final example, we will use ``bin_edges`` and ``binnumber`` to make a\n",
            "    plot of a distribution that shows the mean and distribution around that\n",
            "    mean per bin, on top of a regular histogram and the probability\n",
            "    distribution function:\n",
            "    \n",
            "    >>> x = np.linspace(0, 5, num=500)\n",
            "    >>> x_pdf = stats.maxwell.pdf(x)\n",
            "    >>> samples = stats.maxwell.rvs(size=10000)\n",
            "    \n",
            "    >>> bin_means, bin_edges, binnumber = stats.binned_statistic(x, x_pdf,\n",
            "    ...         statistic='mean', bins=25)\n",
            "    >>> bin_width = (bin_edges[1] - bin_edges[0])\n",
            "    >>> bin_centers = bin_edges[1:] - bin_width/2\n",
            "    \n",
            "    >>> plt.figure()\n",
            "    >>> plt.hist(samples, bins=50, density=True, histtype='stepfilled',\n",
            "    ...          alpha=0.2, label='histogram of data')\n",
            "    >>> plt.plot(x, x_pdf, 'r-', label='analytical pdf')\n",
            "    >>> plt.hlines(bin_means, bin_edges[:-1], bin_edges[1:], colors='g', lw=2,\n",
            "    ...            label='binned statistic of data')\n",
            "    >>> plt.plot((binnumber - 0.5) * bin_width, x_pdf, 'g.', alpha=0.5)\n",
            "    >>> plt.legend(fontsize=10)\n",
            "    >>> plt.show()\n",
            "\n"
          ],
          "name": "stdout"
        }
      ]
    },
    {
      "cell_type": "markdown",
      "metadata": {
        "id": "x-QFn4yWsSD7",
        "colab_type": "text"
      },
      "source": [
        "Next, we'll show survival rate by sex to remind you of how you handle this problem when the x-axis is a categorical variable (can only take on a few values).  We'll also plot the binned statistic of survival rate by age."
      ]
    },
    {
      "cell_type": "code",
      "metadata": {
        "id": "jSDepRKAk4iP",
        "colab_type": "code",
        "outputId": "35db3167-ef5e-4c6a-8966-32aa88a6a6c3",
        "colab": {
          "base_uri": "https://localhost:8080/",
          "height": 549
        }
      },
      "source": [
        "sns.barplot(x='Sex', y='Survived', data=titanic_df)\n",
        "plt.show()\n",
        "\n",
        "filtered = titanic_df[['Age', 'Survived']].dropna()\n",
        "\n",
        "s, edges, _ = binned_statistic(filtered['Age'], filtered['Survived'], bins=8, statistic=np.mean)\n",
        "plt.bar(edges[:-1], s, width=np.diff(edges), align=\"edge\", ec=\"k\")\n",
        "plt.xlabel('Age (years)')\n",
        "plt.ylabel('Probability of Survival')\n",
        "plt.show()"
      ],
      "execution_count": 0,
      "outputs": [
        {
          "output_type": "display_data",
          "data": {
            "image/png": "[encoded data removed]",
            "text/plain": [
              "<Figure size 432x288 with 1 Axes>"
            ]
          },
          "metadata": {
            "tags": []
          }
        },
        {
          "output_type": "display_data",
          "data": {
            "image/png": "[encoded data removed]",
            "text/plain": [
              "<Figure size 432x288 with 1 Axes>"
            ]
          },
          "metadata": {
            "tags": []
          }
        }
      ]
    },
    {
      "cell_type": "markdown",
      "metadata": {
        "id": "ACvALeL0k4iR",
        "colab_type": "text"
      },
      "source": [
        "A variation on this last one is that you can actually fit a [logistic function](https://en.wikipedia.org/wiki/Logistic_function) (the sigmoid is a special case of the logistic function).  The plot below has the following features.\n",
        "\n",
        "* The line is the estimate of the probability of survival based on a logistic model\n",
        "* The shaded area around the line provides a confidence interval (areas with wide confidence intervals indicate *lower* confidence).  Confidence is dictated primarily by the amount of data in a particular area.\n",
        "* The plot has a bit of jitter applied to it so that points don't overlap as much in the scatter plot (survived is either 0 or 1, but the plot shows values that are close to 0 and 1 but not exactly equal to either of those values).\n",
        "\n",
        "Hint: if you want to know more about how regplot works, you can look up the documentation online or type:\n",
        "\n",
        "```python\n",
        "help(sns.regplot)\n",
        "```"
      ]
    },
    {
      "cell_type": "code",
      "metadata": {
        "id": "sQ7QoAXSk4iS",
        "colab_type": "code",
        "outputId": "d903a4bb-59e6-4c18-85f9-c44114a569c6",
        "colab": {
          "base_uri": "https://localhost:8080/",
          "height": 300
        }
      },
      "source": [
        "sns.regplot(x=\"Age\", y=\"Survived\", data=filtered,\n",
        "...                  logistic=True, n_boot=500, y_jitter=.03)"
      ],
      "execution_count": 0,
      "outputs": [
        {
          "output_type": "execute_result",
          "data": {
            "text/plain": [
              "<matplotlib.axes._subplots.AxesSubplot at 0x7fb7b969f160>"
            ]
          },
          "metadata": {
            "tags": []
          },
          "execution_count": 5
        },
        {
          "output_type": "display_data",
          "data": {
            "image/png": "[encoded data removed]",
            "text/plain": [
              "<Figure size 432x288 with 1 Axes>"
            ]
          },
          "metadata": {
            "tags": []
          }
        }
      ]
    },
    {
      "cell_type": "markdown",
      "metadata": {
        "id": "egp6TAdwk4iT",
        "colab_type": "text"
      },
      "source": [
        "## Small increases in accuracy are sad\n",
        "\n",
        "> Unexpected that variables that should have an effect didn’t end up having an effect (adding another variable increased accuracy by only 1% (or even caused the accuracy to decrease))\n",
        "\n",
        "Maybe this was addressed partially by our peptalk at the end of the in-class activity, but we wanted to reiterate that you should not get hung up on the accuracy numbers.  To help demonstrate this we will provide an example that shows why accuracy increases may not be what you predict based on your exploration of the data.\n",
        "\n",
        "For this example, we'll use the Titanic dataset.  In the example we'll do the following.\n",
        "\n",
        "1.  Construct a dataset with sex (coded as a binary column called `male`), age, plus a feature to represent young males (under the age of 5).\n",
        "2.  Construxt a dataset with all of the features of (1) as well as the `Pclass` attribute (this was the cabin class the passenger was in).\n",
        "3.  We'll divide the data into 10 randomly selected, non-overlapping subsets and use these a [cross validation folds](https://en.wikipedia.org/wiki/Cross-validation_(statistics)#k-fold_cross-validation).\n",
        "4.  We'll train model (1) and (2) on all but 1 of the folds and test on the remaining fold.  We'll do this 10 times so that every fold is used as the test set.\n",
        "5.  We'll compare the performance of the models on each of these 10 folds."
      ]
    },
    {
      "cell_type": "code",
      "metadata": {
        "id": "h5k_-AS2k4iU",
        "colab_type": "code",
        "outputId": "2e2af92a-0447-4f09-9755-e69d4f198813",
        "colab": {
          "base_uri": "https://localhost:8080/",
          "height": 590
        }
      },
      "source": [
        "# show survival as a function of pclass\n",
        "# do some evaluation of whether or not it helps over age / sex / young male model.\n",
        "from sklearn.model_selection import cross_val_score, KFold\n",
        "\n",
        "titanic_age_sex = pd.concat((pd.get_dummies(titanic_df['Sex'], drop_first=True), titanic_df['Age']),axis=1)\n",
        "titanic_age_sex['Age'] = titanic_age_sex['Age'].fillna(titanic_age_sex['Age'].mean())\n",
        "titanic_age_sex_young_male = pd.concat((titanic_age_sex, (titanic_age_sex['Age'] < 5 & titanic_age_sex['male']).astype(int)), axis=1)\n",
        "\n",
        "# manually create the fold iterator so we ensure we have the same folds over each model\n",
        "kf = KFold(n_splits=10)\n",
        "\n",
        "X = titanic_age_sex_young_male\n",
        "y = titanic_df['Survived']\n",
        "cv_scores = cross_val_score(LogisticRegression(solver='lbfgs'), X, y, cv=kf)\n",
        "sns.distplot(cv_scores, kde=False, label='without Pclass')\n",
        "\n",
        "# now let's add Pclass\n",
        "\n",
        "X_with_pclass = pd.concat((titanic_age_sex_young_male, titanic_df['Pclass']), axis=1)\n",
        "cv_scores_with_pclass = cross_val_score(LogisticRegression(solver='lbfgs'), X_with_pclass, y, cv=kf)\n",
        "sns.distplot(cv_scores_with_pclass, kde=False, label='with Pclass')\n",
        "\n",
        "plt.ylabel('Count (how often did this show up in the cv folds)')\n",
        "plt.xlabel('Accuracy')\n",
        "plt.legend()\n",
        "\n",
        "plt.show()\n",
        "\n",
        "sns.distplot(cv_scores_with_pclass - cv_scores, kde=False)\n",
        "plt.ylabel('Count (how often did this show up in the cv folds)')\n",
        "plt.xlabel('Accuracy difference (with Pclass - without Pclass)')\n",
        "plt.show()\n",
        "\n",
        "print(\"Average performance difference\", (cv_scores_with_pclass - cv_scores).mean())"
      ],
      "execution_count": 0,
      "outputs": [
        {
          "output_type": "display_data",
          "data": {
            "image/png": "[encoded data removed]",
            "text/plain": [
              "<Figure size 432x288 with 1 Axes>"
            ]
          },
          "metadata": {
            "tags": []
          }
        },
        {
          "output_type": "display_data",
          "data": {
            "image/png": "[encoded data removed]",
            "text/plain": [
              "<Figure size 432x288 with 1 Axes>"
            ]
          },
          "metadata": {
            "tags": []
          }
        },
        {
          "output_type": "stream",
          "text": [
            "Average performance difference 0.0022846441947565466\n"
          ],
          "name": "stdout"
        }
      ]
    },
    {
      "cell_type": "markdown",
      "metadata": {
        "id": "J_E8uRiik4iV",
        "colab_type": "text"
      },
      "source": [
        "You should notice based on the graph above that sometimes adding Pclass helps (positive accurace difference) and sometimes it hurts (negative accuracy difference).  This shows us that if we have a variable that seems weakly correlated with the outcome and we add it to the model, depending on which other parameters are already in the model it might not help us all that much.  Further, based on the luck of the draw (how we pick training versus test set) it might actually hurt.  ***WHEN YOU'RE PERFORMANCE GOES DOWN WHEN YOU PREDICTED IT WOULD GO UP, THAT DOES NOT MEAN YOU ARE BAD OR DON'T KNOW WHAT'S GOING ON.***\n",
        "\n",
        "*rant complete*\n",
        "\n",
        "As a counterpoint to this, there are other times when adding a variable to a model might produce a bit more reliable performance increase.  In general it is hard to know how things will turn out until you actually run the experiment.  Next, we'll do the same analysis as before but we'll add the `Sex` feature to a dataset that originally just includes `Pclass`."
      ]
    },
    {
      "cell_type": "code",
      "metadata": {
        "id": "pgmEMnH2k4iW",
        "colab_type": "code",
        "outputId": "f9555e58-de6f-48e8-aa79-15c3c7f23693",
        "colab": {
          "base_uri": "https://localhost:8080/",
          "height": 590
        }
      },
      "source": [
        "X = pd.concat((pd.get_dummies(titanic_df['Sex'], drop_first=True), titanic_df['Pclass']),axis=1)\n",
        "y = titanic_df['Survived']\n",
        "cv_scores_with_male = cross_val_score(LogisticRegression(solver='lbfgs'), X, y, cv=kf)\n",
        "sns.distplot(cv_scores_with_male, kde=False, label='with male')\n",
        "\n",
        "X = titanic_df[['Pclass']]\n",
        "y = titanic_df['Survived']\n",
        "cv_scores_without_male = cross_val_score(LogisticRegression(solver='lbfgs'), X, y, cv=kf)\n",
        "sns.distplot(cv_scores_without_male, kde=False, label='without male')\n",
        "plt.ylabel('Count (how often did this show up in the cv folds)')\n",
        "plt.xlabel('Accuracy difference (with is young male - without is young male)')\n",
        "plt.show()\n",
        "\n",
        "sns.distplot(cv_scores_with_male - cv_scores_without_male, kde=False)\n",
        "plt.ylabel('Count (how often did this show up in the cv folds)')\n",
        "plt.xlabel('Accuracy difference (with is young male - without is young male)')\n",
        "plt.show()\n",
        "\n",
        "print(\"Average performance difference\", (cv_scores_with_male - cv_scores_without_male).mean())"
      ],
      "execution_count": 0,
      "outputs": [
        {
          "output_type": "display_data",
          "data": {
            "image/png": "[encoded data removed]",
            "text/plain": [
              "<Figure size 432x288 with 1 Axes>"
            ]
          },
          "metadata": {
            "tags": []
          }
        },
        {
          "output_type": "display_data",
          "data": {
            "image/png": "[encoded data removed]",
            "text/plain": [
              "<Figure size 432x288 with 1 Axes>"
            ]
          },
          "metadata": {
            "tags": []
          }
        },
        {
          "output_type": "stream",
          "text": [
            "Average performance difference 0.10759051186017479\n"
          ],
          "name": "stdout"
        }
      ]
    },
    {
      "cell_type": "markdown",
      "metadata": {
        "id": "FA6Fso8zk4iX",
        "colab_type": "text"
      },
      "source": [
        "In ths case the performance difference is dramatically positive.  This analysis would give us high confidence that the model with the information on the sex of the passenger would score better on a test set."
      ]
    },
    {
      "cell_type": "markdown",
      "metadata": {
        "id": "3kYVn3bPk4iY",
        "colab_type": "text"
      },
      "source": [
        "## How do I Interpret the bias term of a logistic regression model?\n",
        "\n",
        "> Question: All of us were confused on how to interpret the bias term. The term depends on the mix of the dataset.\n",
        "\n",
        "In order to answer this question, let's fit a very simple logistic regression model to the titanic age / sex data."
      ]
    },
    {
      "cell_type": "code",
      "metadata": {
        "id": "NySlxg6pk4iY",
        "colab_type": "code",
        "outputId": "9d8ff19d-10ed-4d42-d01c-425fc078563f",
        "colab": {
          "base_uri": "https://localhost:8080/",
          "height": 51
        }
      },
      "source": [
        "X = titanic_age_sex\n",
        "y = titanic_df['Survived']\n",
        "# silence annoying warning about solver not being set and turn off weight penalty to ease comparison\n",
        "model = LogisticRegression(solver='lbfgs', penalty='none')\n",
        "model.fit(X, y)\n",
        "\n",
        "print('model coefficients are', model.coef_)\n",
        "print('model bias weight is', model.intercept_)"
      ],
      "execution_count": 0,
      "outputs": [
        {
          "output_type": "stream",
          "text": [
            "model coefficients are [[-2.50392072 -0.0054935 ]]\n",
            "model bias weight is [1.21280233]\n"
          ],
          "name": "stdout"
        }
      ]
    },
    {
      "cell_type": "markdown",
      "metadata": {
        "id": "GwmBA1Gek4ia",
        "colab_type": "text"
      },
      "source": [
        "We've had a lot of practice interpreting the model coefficients (e.g., the first one indicates that being male has a negative effect on survival and being younger helps survival to a limited extent).  Given the way we are currently encoding the features, the bias term is difficult to interpret.  The reason for this is that the bias term is doing multiple things here.  First, it is encoding the overall mix of survived versus not survived in the data.  Secondly, it is allowing each of the models to effectively subtract a constant from each of the features before multiplying it by its corresponding weight.  When we mix these two things together, we wind up with a term that is pretty hard to interpret.\n",
        "\n",
        "It turns out that if we transform our input data, `X`, by subtracing the mean of each column (such that the resulting dataset will have a mean of 0 for each column) will make the bias term easier to interpret.  Let's see how this works."
      ]
    },
    {
      "cell_type": "code",
      "metadata": {
        "id": "gHKzBa_sk4ib",
        "colab_type": "code",
        "outputId": "514adc2e-4471-4e33-fc89-4d9b2c261c47",
        "colab": {
          "base_uri": "https://localhost:8080/",
          "height": 119
        }
      },
      "source": [
        "X_mean_zero = X - X.mean(axis=0)\n",
        "print(\"just checking the mean!\", X_mean_zero.mean(axis=0))\n",
        "print()\n",
        "\n",
        "# silence annoying warning about solver not being set and turn off weight penalty to ease comparison\n",
        "model = LogisticRegression(solver='lbfgs', penalty='none')\n",
        "model.fit(X_mean_zero, y)\n",
        "\n",
        "print('model coefficients are', model.coef_)\n",
        "print('model bias weight is', model.intercept_)"
      ],
      "execution_count": 0,
      "outputs": [
        {
          "output_type": "stream",
          "text": [
            "just checking the mean! male   -4.984166e-17\n",
            "Age     6.408442e-14\n",
            "dtype: float64\n",
            "\n",
            "model coefficients are [[-2.50395081 -0.00549348]]\n",
            "model bias weight is [-0.57185846]\n"
          ],
          "name": "stdout"
        }
      ]
    },
    {
      "cell_type": "markdown",
      "metadata": {
        "id": "rTaW0KU4k4id",
        "colab_type": "text"
      },
      "source": [
        "Notice that the model coefficients are basically the same.  What did change is the bias term.  It will turn out that the bias term now roughly encodes the frequency of survived versus survived in the dataset.  Specifically the survival rate will be roughly (but not exactly)\n",
        "\n",
        "$$\\frac{1}{1+e^{-bias}}$$"
      ]
    },
    {
      "cell_type": "code",
      "metadata": {
        "id": "MvyyXTalk4id",
        "colab_type": "code",
        "outputId": "5a453ae0-82ab-4a3c-e721-6c912213938e",
        "colab": {
          "base_uri": "https://localhost:8080/",
          "height": 51
        }
      },
      "source": [
        "print('Overall surival rate', y.mean())\n",
        "print('Survival rate based on model bias term', 1/(1+np.exp(-model.intercept_)))"
      ],
      "execution_count": 0,
      "outputs": [
        {
          "output_type": "stream",
          "text": [
            "Overall surival rate 0.3838383838383838\n",
            "Survival rate based on model bias term [0.3608081]\n"
          ],
          "name": "stdout"
        }
      ]
    },
    {
      "cell_type": "markdown",
      "metadata": {
        "id": "V5VelvmYk4if",
        "colab_type": "text"
      },
      "source": [
        "## Interpreting the Weights for non-Binary Features\n",
        "> The biggest unanswered question is definitely how to interpret the weights, especially when dealing with non-binary features. \n",
        "\n",
        "We won't try to recreate this [very good explanation of how weight interpretation in logistic regression models works (link to NB)](http://nb.mit.edu/f/55512).  Once you've read it, we'll tie things up with a quick example.\n",
        "\n",
        "Let's quickly train a logistic regression model on is male and age for the titanic dataset.  We'll examine the coefficients and discuss how they can be interpreted."
      ]
    },
    {
      "cell_type": "code",
      "metadata": {
        "id": "Fg0WO7uVk4ig",
        "colab_type": "code",
        "outputId": "cb49ac30-ed10-4ed7-9173-9c3f7226c2a6",
        "colab": {
          "base_uri": "https://localhost:8080/",
          "height": 34
        }
      },
      "source": [
        "X = titanic_age_sex\n",
        "y = titanic_df['Survived']\n",
        "# silence annoying warning about solver not being set and turn off weight penalty to ease comparison\n",
        "model = LogisticRegression(solver='lbfgs', penalty='none')\n",
        "model.fit(X, y)\n",
        "\n",
        "print('model coefficients are', model.coef_)"
      ],
      "execution_count": 0,
      "outputs": [
        {
          "output_type": "stream",
          "text": [
            "model coefficients are [[-2.50392072 -0.0054935 ]]\n"
          ],
          "name": "stdout"
        }
      ]
    },
    {
      "cell_type": "markdown",
      "metadata": {
        "id": "tonkEsrzk4ih",
        "colab_type": "text"
      },
      "source": [
        "Based on the resource we linked above, we know that if we exponentiate these coefficients we can interpret them as the change in odds of the output being class 1 versus class 0 per unit change of the corresponding input feature.\n",
        "\n",
        "So, if we change the is male column 1 unit (e.g., go from 0 to 1), this would change the odds of survival, $\\frac{p(survived)}{p(died)}$, by a factor of $e^{-2.504} = 0.0818$.\n",
        "\n",
        "Similarly, for each increase in age of 1 year (e.g., a 70 year old female passenger versus a 71 year old female passenger). this would change the odds of survival by a factor of $e^{-0.00549} = 0.994$.\n",
        "\n",
        "To make this very precise, we'll show both of these below."
      ]
    },
    {
      "cell_type": "code",
      "metadata": {
        "id": "24OKYT1Mk4ii",
        "colab_type": "code",
        "outputId": "5ca46229-06f8-417c-f46d-29906fc64f46",
        "colab": {
          "base_uri": "https://localhost:8080/",
          "height": 51
        }
      },
      "source": [
        "# We're using a 20 year old for this calculation, but it would work for any age.\n",
        "\n",
        "# [0, 20] represents a female 20 year old\n",
        "p_died, p_survived = model.predict_proba([[0, 20]])[0]\n",
        "odds_for_female_20_year_old = p_survived / p_died\n",
        "\n",
        "# [1, 20] represents a male 20 year old\n",
        "p_died, p_survived = model.predict_proba([[1, 20]])[0]\n",
        "odds_for_male_20_year_old = p_survived / p_died\n",
        "print(\"Change in survival odds from increasing male feature by 1\", odds_for_male_20_year_old / odds_for_female_20_year_old)\n",
        "\n",
        "\n",
        "# We'll compare a female 20 year old with a female 21 year old\n",
        "# the result is the same no matter the gender and the initial age\n",
        "\n",
        "# [0, 21] represents a female 21 year old\n",
        "p_died, p_survived = model.predict_proba([[0, 21]])[0]\n",
        "odds_for_female_21_year_old = p_survived / p_died\n",
        "\n",
        "print(\"Change in survival odds from increasing age feature by 1\", odds_for_female_21_year_old / odds_for_female_20_year_old)"
      ],
      "execution_count": 0,
      "outputs": [
        {
          "output_type": "stream",
          "text": [
            "Change in survival odds from increasing male feature by 1 0.08176379634081835\n",
            "Change in survival odds from increasing age feature by 1 0.9945215623811882\n"
          ],
          "name": "stdout"
        }
      ]
    },
    {
      "cell_type": "markdown",
      "metadata": {
        "id": "6vxQSf4Ok4ij",
        "colab_type": "text"
      },
      "source": [
        "## How Do I Get High Performance with Image Data?!?\n",
        "\n",
        "> Visual examples didn’t seem to work as well as the text-based examples because they didn’t give the opportunity to work different features (certain pixels having a certain weight vs certain features having a certain weight).\n",
        "\n",
        "A few things to say here.\n",
        "\n",
        "* We should have probably given more scaffolding on various image features to try.  There are a vast array of possible [image features](https://opencv-python-tutroals.readthedocs.io/en/latest/py_tutorials/py_feature2d/py_table_of_contents_feature2d/py_table_of_contents_feature2d.html).\n",
        "* In order to get position invariance of a feature (which was an issue for some datasets and not so much for others), you can do things like create a histogram of a feature (if your feature is 1-dimensional) and then use the histogram counts as input to your logistic regression model.  Another, more advanced technique uses the notion of visual words to summarize multidimensional features extracted from an image (a precise explanation of this is beyond the scope of this document, but see [this slide deck](https://kth.instructure.com/files/663173/download?download_frd=1) for more information). \n",
        "\n",
        "> How to effectively choose coefficients for things like Canny edge detection, HOG, and other image manipulation functions.\n",
        "\n",
        "There are two, somewhat unsatisfying answers to this question.\n",
        "1.  Play around with the various parameters of these image manipulation functions.  Visualize what it does to your training data (actually look at the transformed images).  If you are doing it right you should see salient features for the task becoming more prevalent.\n",
        "2.  Think of the parameters of these functions as hyperparameters and search for good values using cross validation methods (such as [gridsearch](https://scikit-learn.org/stable/modules/generated/sklearn.model_selection.GridSearchCV.html)).  Jake VanderPlas also has a good resource for learning about [tuning hyperparameters](https://github.com/jakevdp/PythonDataScienceHandbook/blob/master/notebooks/05.03-Hyperparameters-and-Model-Validation.ipynb)."
      ]
    },
    {
      "cell_type": "markdown",
      "metadata": {
        "id": "bk7mrQE5k4ik",
        "colab_type": "text"
      },
      "source": [
        "## How Do I Interpret the Weights Learned for an Image Model?\n",
        "\n",
        "> What are the best ways to look at the features of an image for a regression model? Are there any good visualization/plotting techniques for exploring image’s differently compared to straight feature data (like the Titanic dataset was)\n",
        "\n",
        "The technique we showed in the assignment document for interpreting the weights for the smile dataset when pixels are used as inputs is a pretty good one.  We'll show it here for the smile dataset."
      ]
    },
    {
      "cell_type": "code",
      "metadata": {
        "id": "VtvwFzQrk4ik",
        "colab_type": "code",
        "outputId": "97547a67-1682-42f0-82fb-12b22a87ff64",
        "colab": {
          "base_uri": "https://localhost:8080/",
          "height": 269
        }
      },
      "source": [
        "# setting C low (lambda = 1/C) makes the weights more interpretable\n",
        "model = LogisticRegression(C=1/100, solver='lbfgs', max_iter=1000)\n",
        "X = smile_images_vectorized\n",
        "y = smile_y.ravel()\n",
        "model.fit(X, y)\n",
        "plt.imshow(model.coef_.reshape(24, 24), cmap='gray')\n",
        "plt.show()"
      ],
      "execution_count": 0,
      "outputs": [
        {
          "output_type": "display_data",
          "data": {
            "image/png": "[encoded data removed]",
            "text/plain": [
              "<Figure size 432x288 with 1 Axes>"
            ]
          },
          "metadata": {
            "tags": []
          }
        }
      ]
    },
    {
      "cell_type": "markdown",
      "metadata": {
        "id": "Mf9f5mOzk4il",
        "colab_type": "text"
      },
      "source": [
        "## How Do I Know What Model to Apply?\n",
        "\n",
        "> There are so many different models to apply. How do you know which ones are most promising? Does it just come with experience and breadth of knowledge?\n",
        "\n",
        "* Yes, experience does play a role.\n",
        "* The more time you put into visualizing data, understanding model weights, and examining model errors the better you will be able to do this.  When you get into trouble is when you just start randomly changing your model around in unmotivated ways.  This is very tempting and easy to do with tools like scikit-learn, but it's best to focus on understanding the models you fit rather than improving performance.\n",
        "\n",
        "> Accuracy increases follow understanding increases.\n",
        ">\n",
        ">        - anonymous -\n",
        "\n",
        "(please print this slogan on a sticker and give it us)."
      ]
    },
    {
      "cell_type": "markdown",
      "metadata": {
        "id": "SqIsPLxorFDy",
        "colab_type": "text"
      },
      "source": [
        "## Issues with Multiclass Data\n",
        "\n",
        "A lot of folks had issues working with the pets dataset due to the fact that it was both multiclass and didn't seem to have very clear relationships between the factors and adoption speed.\n",
        "\n",
        "In the next few cells we'll show some visualizations you can create for such data."
      ]
    },
    {
      "cell_type": "code",
      "metadata": {
        "id": "-pemmLoYsqAG",
        "colab_type": "code",
        "outputId": "0d491b04-2d10-4484-998a-30559cc3c14d",
        "colab": {
          "base_uri": "https://localhost:8080/",
          "height": 102
        }
      },
      "source": [
        "pets_df.columns"
      ],
      "execution_count": 0,
      "outputs": [
        {
          "output_type": "execute_result",
          "data": {
            "text/plain": [
              "Index(['Type', 'Name', 'Age', 'Breed1', 'Breed2', 'Gender', 'Color1', 'Color2',\n",
              "       'Color3', 'MaturitySize', 'FurLength', 'Vaccinated', 'Dewormed',\n",
              "       'Sterilized', 'Health', 'Quantity', 'Fee', 'State', 'RescuerID',\n",
              "       'VideoAmt', 'Description', 'PetID', 'PhotoAmt', 'AdoptionSpeed'],\n",
              "      dtype='object')"
            ]
          },
          "metadata": {
            "tags": []
          },
          "execution_count": 24
        }
      ]
    },
    {
      "cell_type": "code",
      "metadata": {
        "id": "Nw8eHueKrTEW",
        "colab_type": "code",
        "outputId": "d2d1c420-9bcf-424d-f263-2d12ba976144",
        "colab": {
          "base_uri": "https://localhost:8080/",
          "height": 283
        }
      },
      "source": [
        "sns.barplot(x='AdoptionSpeed', y='Age', data=pets_df)\n",
        "plt.show()"
      ],
      "execution_count": 0,
      "outputs": [
        {
          "output_type": "display_data",
          "data": {
            "image/png": "[encoded data removed]",
            "text/plain": [
              "<Figure size 432x288 with 1 Axes>"
            ]
          },
          "metadata": {
            "tags": []
          }
        }
      ]
    },
    {
      "cell_type": "code",
      "metadata": {
        "id": "ZfuALjpjuOo3",
        "colab_type": "code",
        "outputId": "fffdfa76-12c6-4347-dbaf-242c4a1f18b2",
        "colab": {
          "base_uri": "https://localhost:8080/",
          "height": 279
        }
      },
      "source": [
        "# Note: 1 is male, 2 is female, 3 is mixed (e.g., for adoptions with multiple animals)\n",
        "pets_df.groupby('AdoptionSpeed')['Gender'].value_counts().unstack(0).plot.bar()\n",
        "plt.show()"
      ],
      "execution_count": 0,
      "outputs": [
        {
          "output_type": "display_data",
          "data": {
            "image/png": "[encoded data removed]",
            "text/plain": [
              "<Figure size 432x288 with 1 Axes>"
            ]
          },
          "metadata": {
            "tags": []
          }
        }
      ]
    },
    {
      "cell_type": "code",
      "metadata": {
        "id": "UGWQ4DzMsuZK",
        "colab_type": "code",
        "outputId": "fbda1627-86af-4373-808c-bfa0c099b54c",
        "colab": {
          "base_uri": "https://localhost:8080/",
          "height": 279
        }
      },
      "source": [
        "pets_df.groupby('AdoptionSpeed')['Vaccinated'].value_counts().unstack(0).plot.bar()\n",
        "plt.show()"
      ],
      "execution_count": 0,
      "outputs": [
        {
          "output_type": "display_data",
          "data": {
            "image/png": "[encoded data removed]",
            "text/plain": [
              "<Figure size 432x288 with 1 Axes>"
            ]
          },
          "metadata": {
            "tags": []
          }
        }
      ]
    },
    {
      "cell_type": "code",
      "metadata": {
        "id": "LlsKewIAvTT7",
        "colab_type": "code",
        "outputId": "6982f505-d93c-4008-92ec-09bae532c221",
        "colab": {
          "base_uri": "https://localhost:8080/",
          "height": 279
        }
      },
      "source": [
        "pets_df.groupby('AdoptionSpeed')['Sterilized'].value_counts().unstack(0).plot.bar()\n",
        "plt.show()"
      ],
      "execution_count": 0,
      "outputs": [
        {
          "output_type": "display_data",
          "data": {
            "image/png": "[encoded data removed]",
            "text/plain": [
              "<Figure size 432x288 with 1 Axes>"
            ]
          },
          "metadata": {
            "tags": []
          }
        }
      ]
    },
    {
      "cell_type": "markdown",
      "metadata": {
        "id": "GVxR_AU_0yhZ",
        "colab_type": "text"
      },
      "source": [
        "This tells us that, surprisingly, sterilized pets are *less* likely to be adopted.  Age could be a confounding variable here (older pets are more likely to be fixed).\n",
        "\n",
        "Next, we'll fit a model with gender, vaccinated, sterilized, quantity (of animals being adopted), and age.  We'll compare it to the model just using age.  The visualizations we'll use will be the same as in the \"Small changes in accuracy are sad\" section."
      ]
    },
    {
      "cell_type": "code",
      "metadata": {
        "id": "QeVt335_vg0V",
        "colab_type": "code",
        "outputId": "b3d3e944-4f85-438c-8f5d-3ed788f41ecf",
        "colab": {
          "base_uri": "https://localhost:8080/",
          "height": 652
        }
      },
      "source": [
        "gender_dummy_vars = pd.get_dummies(pets_df['Gender'], drop_first=True)\n",
        "vaccinated_dummy_vars = pd.get_dummies(pets_df['Vaccinated'], drop_first=True)\n",
        "sterilized_dummy_vars = pd.get_dummies(pets_df['Sterilized'], drop_first=True)\n",
        "\n",
        "X = pd.concat((gender_dummy_vars, vaccinated_dummy_vars, sterilized_dummy_vars, pets_df['Quantity'], pets_df['Age']), axis=1)\n",
        "y = pets_df['AdoptionSpeed']\n",
        "\n",
        "kf = KFold(n_splits=10)\n",
        "\n",
        "cv_scores_all_features = cross_val_score(LogisticRegression(solver='lbfgs', multi_class='auto'), X, y, cv=kf)\n",
        "cv_scores_only_age = cross_val_score(LogisticRegression(solver='lbfgs', multi_class='auto'), pets_df[['Age']], y, cv=kf)\n",
        "\n",
        "sns.distplot(cv_scores_all_features - cv_scores_only_age, kde=False)\n",
        "plt.ylabel('Count (how often did this show up in the cv folds)')\n",
        "plt.xlabel('Accuracy difference (with gender, vaccinated, quantity, and age) - just age)')\n",
        "plt.show()\n",
        "\n",
        "print(\"Average performance difference\", (cv_scores_all_features - cv_scores_only_age).mean())"
      ],
      "execution_count": 0,
      "outputs": [
        {
          "output_type": "stream",
          "text": [
            "/usr/local/lib/python3.6/dist-packages/sklearn/linear_model/logistic.py:947: ConvergenceWarning: lbfgs failed to converge. Increase the number of iterations.\n",
            "  \"of iterations.\", ConvergenceWarning)\n",
            "/usr/local/lib/python3.6/dist-packages/sklearn/linear_model/logistic.py:947: ConvergenceWarning: lbfgs failed to converge. Increase the number of iterations.\n",
            "  \"of iterations.\", ConvergenceWarning)\n",
            "/usr/local/lib/python3.6/dist-packages/sklearn/linear_model/logistic.py:947: ConvergenceWarning: lbfgs failed to converge. Increase the number of iterations.\n",
            "  \"of iterations.\", ConvergenceWarning)\n",
            "/usr/local/lib/python3.6/dist-packages/sklearn/linear_model/logistic.py:947: ConvergenceWarning: lbfgs failed to converge. Increase the number of iterations.\n",
            "  \"of iterations.\", ConvergenceWarning)\n",
            "/usr/local/lib/python3.6/dist-packages/sklearn/linear_model/logistic.py:947: ConvergenceWarning: lbfgs failed to converge. Increase the number of iterations.\n",
            "  \"of iterations.\", ConvergenceWarning)\n",
            "/usr/local/lib/python3.6/dist-packages/sklearn/linear_model/logistic.py:947: ConvergenceWarning: lbfgs failed to converge. Increase the number of iterations.\n",
            "  \"of iterations.\", ConvergenceWarning)\n",
            "/usr/local/lib/python3.6/dist-packages/sklearn/linear_model/logistic.py:947: ConvergenceWarning: lbfgs failed to converge. Increase the number of iterations.\n",
            "  \"of iterations.\", ConvergenceWarning)\n",
            "/usr/local/lib/python3.6/dist-packages/sklearn/linear_model/logistic.py:947: ConvergenceWarning: lbfgs failed to converge. Increase the number of iterations.\n",
            "  \"of iterations.\", ConvergenceWarning)\n",
            "/usr/local/lib/python3.6/dist-packages/sklearn/linear_model/logistic.py:947: ConvergenceWarning: lbfgs failed to converge. Increase the number of iterations.\n",
            "  \"of iterations.\", ConvergenceWarning)\n",
            "/usr/local/lib/python3.6/dist-packages/sklearn/linear_model/logistic.py:947: ConvergenceWarning: lbfgs failed to converge. Increase the number of iterations.\n",
            "  \"of iterations.\", ConvergenceWarning)\n"
          ],
          "name": "stderr"
        },
        {
          "output_type": "display_data",
          "data": {
            "image/png": "[encoded data removed]",
            "text/plain": [
              "<Figure size 432x288 with 1 Axes>"
            ]
          },
          "metadata": {
            "tags": []
          }
        },
        {
          "output_type": "stream",
          "text": [
            "Average performance difference 0.011937558372248164\n"
          ],
          "name": "stdout"
        }
      ]
    },
    {
      "cell_type": "markdown",
      "metadata": {
        "id": "7vS6vQEzyKEb",
        "colab_type": "text"
      },
      "source": [
        "We can also view the weights to understand what the model is learning."
      ]
    },
    {
      "cell_type": "code",
      "metadata": {
        "id": "WFIPZDjww9kE",
        "colab_type": "code",
        "outputId": "c16e815c-717f-4130-e5fc-19f8d21a3473",
        "colab": {
          "base_uri": "https://localhost:8080/",
          "height": 557
        }
      },
      "source": [
        "model = LogisticRegression(solver='lbfgs')\n",
        "model.fit(X, y)\n",
        "plt.figure(figsize=(12,8))\n",
        "plt.pcolor(model.coef_)\n",
        "plt.colorbar()\n",
        "plt.ylabel('Adoption Speed')\n",
        "plt.xticks(np.arange(0.5, 8.5, 1), ['Female', 'Mixed', 'No Vacc.', 'Vacc. Unsure', 'Not fixed', 'Fixed Unsure', 'Quantity', 'Age'])\n",
        "plt.yticks(np.arange(0.5, 5.5, 1), ['Same day adoption', '1-7 days', '8-30 days', '31-90 days', 'no adoption'])\n",
        "print(X.columns)"
      ],
      "execution_count": 0,
      "outputs": [
        {
          "output_type": "stream",
          "text": [
            "/usr/local/lib/python3.6/dist-packages/sklearn/linear_model/logistic.py:469: FutureWarning: Default multi_class will be changed to 'auto' in 0.22. Specify the multi_class option to silence this warning.\n",
            "  \"this warning.\", FutureWarning)\n"
          ],
          "name": "stderr"
        },
        {
          "output_type": "stream",
          "text": [
            "Index([2, 3, 2, 3, 2, 3, 'Quantity', 'Age'], dtype='object')\n"
          ],
          "name": "stdout"
        },
        {
          "output_type": "display_data",
          "data": {
            "image/png": "[encoded data removed]",
            "text/plain": [
              "<Figure size 864x576 with 2 Axes>"
            ]
          },
          "metadata": {
            "tags": []
          }
        }
      ]
    },
    {
      "cell_type": "markdown",
      "metadata": {
        "id": "2LlPce4C1WWI",
        "colab_type": "text"
      },
      "source": [
        "The heat map above shows us how the odds of a particular adoption speed change as we increase a particular feature by 1.  For instance, the yellow regions in this plot tell us that animals that are not fixed or where we don't know if they are fised are actually adopted faster."
      ]
    },
    {
      "cell_type": "markdown",
      "metadata": {
        "id": "xy-XVUgqk4im",
        "colab_type": "text"
      },
      "source": [
        "## Reframing Multiclass Problems as a Binary Classification Problem\n",
        "\n",
        "Some folks transformed the pet adoption problem into a binary classification task (adopted versus not adopted).  For some this made interpreting what the model was doing much easier (since we had given more scaffolding for binary classification).  It also made the performance of the model go up (since the task was now easier).  Comparing the performance for the original 5-way classification task to the binary classification task is like comparing apples to oranges.\n",
        "\n",
        "If you wanted to use binary classification to solve the multiclass problem, you could chain together multiple binary classifiers.\n",
        "* First predicted adopted versus not adopted.\n",
        "* Using only the adopted pets, build a model of adopted in first 30 days versus 31-100 days.\n",
        "* Using only the pets adopted in the first 30 days, build a model of adopted in a week or less versus 8-30 days.\n",
        ".. etc.\n",
        "\n",
        "In this way each model is only focusing on a specific binary decision and chaining the models together gives the result.  This sort of model is called a cascaded classifier."
      ]
    },
    {
      "cell_type": "markdown",
      "metadata": {
        "id": "kp2C13pYk4im",
        "colab_type": "text"
      },
      "source": [
        "## General Feedback on Assignment Structure\n",
        "\n",
        "> (student) wasn’t a big a fan of all the new code that was introduced at once\n",
        "Took a while to understand the example problems\n",
        "\n",
        "This is great feedback.  We probably should have given more scaffolding, we'll be spiraling back to these libraries but we could have made it a bit smoother getting started with them.\n",
        "\n",
        "> (student) thinks that more tutorials would be nice to help understand the assignments.\n",
        "\n",
        "This part of the motivation for this notebook.\n",
        "\n",
        "> Would like more time with the toolboxes to understand the concepts better\n",
        "\n",
        "You will be getting more opportunities to explore these tools.\n",
        "\n",
        "*** Thanks for the great feedback ***"
      ]
    }
  ]
}