{
  "nbformat": 4,
  "nbformat_minor": 0,
  "metadata": {
    "colab": {
      "name": "Creating a Dataset Wrapper.ipynb",
      "provenance": [],
      "collapsed_sections": [],
      "include_colab_link": true
    },
    "kernelspec": {
      "name": "python3",
      "display_name": "Python 3"
    },
    "accelerator": "GPU"
  },
  "cells": [
    {
      "cell_type": "markdown",
      "metadata": {
        "id": "view-in-github",
        "colab_type": "text"
      },
      "source": [
        "<a href=\"https://colab.research.google.com/github/mlfa19/assignments/blob/master/Module%201/m1_project/Examples/Creating_a_Dataset_Wrapper.ipynb\" target=\"_parent\"><img src=\"https://colab.research.google.com/assets/colab-badge.svg\" alt=\"Open In Colab\"/></a>"
      ]
    },
    {
      "cell_type": "markdown",
      "metadata": {
        "id": "Pi1HhEVYrOyA",
        "colab_type": "text"
      },
      "source": [
        "# Creating a Dataset Wrapper\n",
        "\n",
        "If you are having trouble getting your data into Colab for use with pytorch, this notebook might be for you. This will cover the case where it is not feasible to create a giant tensor with all of your images.  For instance, if you are trying to learn on a dataset with tens of thousands of images, the images will take up too much memory when decompressed.\n",
        "\n",
        "Instead, we will write a dataset class that will allow pytorch to selectively decompress images when it needs them.  For our example, we're going to use the Caltech 256 dataset, which we've uploaded to Google Drive."
      ]
    },
    {
      "cell_type": "code",
      "metadata": {
        "id": "M8XI8q81rqnG",
        "colab_type": "code",
        "colab": {
          "base_uri": "https://localhost:8080/",
          "height": 104
        },
        "outputId": "99d84d39-aaa6-49b1-f433-9f7462794197"
      },
      "source": [
        "import gdown\n",
        "gdown.download('https://drive.google.com/uc?authuser=0&id=1GMtKmoH2Yu9yY6jx4Mm5fZ1sLkGV9i_c&export=download',\n",
        "               'caltech256.zip',\n",
        "               quiet=False)\n",
        "!unzip -qq caltech256.zip"
      ],
      "execution_count": 1,
      "outputs": [
        {
          "output_type": "stream",
          "text": [
            "Downloading...\n",
            "From: https://drive.google.com/uc?authuser=0&id=1GMtKmoH2Yu9yY6jx4Mm5fZ1sLkGV9i_c&export=download\n",
            "To: /content/caltech256.zip\n",
            "1.15GB [00:07, 160MB/s]\n"
          ],
          "name": "stderr"
        },
        {
          "output_type": "stream",
          "text": [
            "replace 256_ObjectCategories/138.mattress/138_0117.jpg? [y]es, [n]o, [A]ll, [N]one, [r]ename: A\n"
          ],
          "name": "stdout"
        }
      ]
    },
    {
      "cell_type": "code",
      "metadata": {
        "id": "FyMURCpbs2dA",
        "colab_type": "code",
        "colab": {
          "base_uri": "https://localhost:8080/",
          "height": 285
        },
        "outputId": "2264bb94-a1a8-47d3-9764-da1fffc938af"
      },
      "source": [
        "from torch.utils.data import Dataset\n",
        "from PIL import Image\n",
        "from torchvision.datasets import VisionDataset\n",
        "import os\n",
        "from glob import glob\n",
        "import torchvision.transforms as transforms\n",
        "import matplotlib.pyplot as plt\n",
        "\n",
        "def show_image(img_tensor):\n",
        "    # need to reorder the tensor dimensions to work properly with imshow\n",
        "    plt.imshow(img_tensor.transpose(0,2).transpose(0,1))\n",
        "    plt.axis('off')\n",
        "    plt.show()\n",
        "\n",
        "class Caltech256(VisionDataset):\n",
        "    def __init__(self, transform=None, target_transform=None):\n",
        "        super(Caltech256, self).__init__('.',\n",
        "                                         transform=transform,\n",
        "                                         target_transform=target_transform)\n",
        "        self.categories = []\n",
        "        self.index = []\n",
        "        self.y = []\n",
        "        for c in sorted(glob(os.path.join(self.root, \"256_ObjectCategories\",'???.*'))):\n",
        "            _, category_dir = os.path.split(c)\n",
        "            class_idx = int(category_dir[0:3]) - 1\n",
        "            if class_idx >= 256:\n",
        "                # skip the clutter category\n",
        "                continue\n",
        "            n = len(glob(os.path.join(self.root, \"256_ObjectCategories\", category_dir, '*.jpg')))\n",
        "            self.categories.append(category_dir)\n",
        "            self.index.extend(range(1, n + 1))\n",
        "            self.y.extend(n * [class_idx])\n",
        "\n",
        "    def __getitem__(self, index):\n",
        "        \"\"\"\n",
        "        Args:\n",
        "            index (int): Index\n",
        "        Returns:\n",
        "            tuple: (image, target) where target is index of the target class.\n",
        "        \"\"\"\n",
        "        # a gotcha is when some of the images are black and white, we can use\n",
        "        # the convert('RGB') command to make sure everything is a three channel\n",
        "        # RGB image.\n",
        "        img = Image.open(os.path.join(self.root,\n",
        "                                      \"256_ObjectCategories\",\n",
        "                                      self.categories[self.y[index]],\n",
        "                                      \"{:03d}_{:04d}.jpg\".format(self.y[index] + 1, self.index[index]))).convert('RGB')\n",
        "\n",
        "        target = self.y[index]\n",
        "\n",
        "        if self.transform is not None:\n",
        "            img = self.transform(img)\n",
        "\n",
        "        if self.target_transform is not None:\n",
        "            target = self.target_transform(target)\n",
        "\n",
        "        return img.float(), target\n",
        "    def __len__(self):\n",
        "        return len(self.index)\n",
        "\n",
        "\n",
        "# center crop 200, 200 pixel patch and then resize to 100 by 100 for\n",
        "# computational efficiency\n",
        "cal_tech = Caltech256(transform=transforms.Compose([transforms.CenterCrop((200,200)),\n",
        "                                                    transforms.Resize((100,100)),\n",
        "                                                    transforms.ToTensor()]))\n",
        "\n",
        "im, target = cal_tech[30]\n",
        "show_image(im)\n",
        "print(im.shape)"
      ],
      "execution_count": 12,
      "outputs": [
        {
          "output_type": "display_data",
          "data": {
            "image/png": "[encoded data removed]",
            "text/plain": [
              "<Figure size 432x288 with 1 Axes>"
            ]
          },
          "metadata": {
            "tags": []
          }
        },
        {
          "output_type": "stream",
          "text": [
            "torch.Size([3, 100, 100])\n"
          ],
          "name": "stdout"
        }
      ]
    },
    {
      "cell_type": "markdown",
      "metadata": {
        "id": "B-s1-ds-zOnL",
        "colab_type": "text"
      },
      "source": [
        "The rest is adapted from the other notebook on working with the COCO dataset."
      ]
    },
    {
      "cell_type": "code",
      "metadata": {
        "id": "5AF4auKH2MpW",
        "colab_type": "code",
        "colab": {}
      },
      "source": [
        "from torch.utils.data.sampler import SubsetRandomSampler\n",
        "import torch\n",
        "import numpy as np\n",
        "\n",
        "batch_size = 32\n",
        "learning_rate = 3e-3\n",
        "n_epochs = 8\n",
        "image_dims = 3, 100, 100"
      ],
      "execution_count": 0,
      "outputs": []
    },
    {
      "cell_type": "code",
      "metadata": {
        "id": "sfBe_EY2vY0-",
        "colab_type": "code",
        "colab": {}
      },
      "source": [
        "import torch.optim as optim\n",
        "import torch.nn as nn\n",
        "\n",
        "class myCNN(nn.Module):\n",
        "    def __init__(self):\n",
        "        super(myCNN, self).__init__()\n",
        "        class_len = 256\n",
        "        self.activation_func = torch.nn.ReLU()\n",
        "        self.sigmoid = torch.nn.Sigmoid()\n",
        "        self.pool2 = nn.MaxPool2d(kernel_size=2, stride=2, padding=0)\n",
        "        self.pool5 = nn.MaxPool2d(kernel_size=5, stride=5, padding=0)\n",
        "        self.fc1_size = 512\n",
        "        self.fc2_size = class_len\n",
        "        # Convolutional Layers\n",
        "        self.conv1 = nn.Conv2d(image_dims[0], 32, kernel_size=3,\n",
        "                  stride=1, padding=1)\n",
        "        self.conv2 = nn.Conv2d(32, 64, kernel_size=3,\n",
        "          stride=1, padding=1)\n",
        "        self.conv3 = nn.Conv2d(64, 128, kernel_size=3,\n",
        "          stride=1, padding=1)\n",
        "        self.maxpool_output_size = int(128 * (image_dims[1] / 20) * (image_dims[2] / 20))\n",
        "\n",
        "        # Fully Connected Layers\n",
        "        self.fc1 = nn.Linear(self.maxpool_output_size, self.fc1_size)\n",
        "        self.fc2 = nn.Linear(self.fc1_size, self.fc2_size)\n",
        "        \n",
        "    def forward(self, x):\n",
        "        # Convolutional Layers\n",
        "        x = self.activation_func(self.pool2(self.conv1(x)))\n",
        "        x = self.activation_func(self.pool2(self.conv2(x)))\n",
        "        x = self.activation_func(self.pool5(self.conv3(x)))\n",
        "\n",
        "        # Fully Connected Layers\n",
        "        x = x.view(-1, self.maxpool_output_size)\n",
        "        x = self.fc1(x)\n",
        "        x = self.activation_func(x)\n",
        "        x = self.fc2(x)\n",
        "        return x\n",
        "\n",
        "    def get_loss(self, learning_rate):\n",
        "      # Loss function, we'll use BCE or Binary CrossEntropy that does not assume one class fer example\n",
        "      # https://pytorch.org/docs/stable/nn.html\n",
        "      loss = nn.CrossEntropyLoss()\n",
        "      # Optimizer, self.parameters() returns all the Pytorch operations that are attributes of the class\n",
        "      optimizer = optim.Adam(self.parameters(), lr=learning_rate)\n",
        "      return loss, optimizer"
      ],
      "execution_count": 0,
      "outputs": []
    },
    {
      "cell_type": "code",
      "metadata": {
        "id": "I4r3hpNazRR5",
        "colab_type": "code",
        "colab": {}
      },
      "source": [
        "net = myCNN()\n",
        "loss, optimizer = net.get_loss(learning_rate)\n",
        "\n",
        "# Define some parameters to keep track of metrics\n",
        "print_every = 20\n",
        "test_every = 2000\n"
      ],
      "execution_count": 0,
      "outputs": []
    },
    {
      "cell_type": "code",
      "metadata": {
        "id": "tHDKNYRf520B",
        "colab_type": "code",
        "colab": {
          "base_uri": "https://localhost:8080/",
          "height": 1000
        },
        "outputId": "20b0d346-937c-4071-c29e-311b1bff67d1"
      },
      "source": [
        "import time\n",
        "from torch.autograd import Variable\n",
        "\n",
        "def test_loss(run_idx):\n",
        "    # do a pass on the test set\n",
        "    total_test_loss = 0\n",
        "    idx = 0\n",
        "    for inputs, labels in test_loader:\n",
        "\n",
        "        # Wrap tensors in Variables\n",
        "        inputs, labels = Variable(inputs).to(device), Variable(labels).to(device)\n",
        "\n",
        "        # Forward pass\n",
        "        test_outputs = net(inputs)\n",
        "        test_loss_size = loss(test_outputs, labels)\n",
        "        total_test_loss += test_loss_size.data.item()\n",
        "        idx += 1\n",
        "    test_loss_hist.append(total_test_loss / (idx+1))\n",
        "    test_hist_x.append(run_idx)\n",
        "    print(\"Validation loss = {:.4f}\".format(\n",
        "        total_test_loss / (idx+1)))\n",
        "idx = 0\n",
        "train_hist_x = []\n",
        "train_loss_hist = []\n",
        "test_hist_x = []\n",
        "test_loss_hist = []\n",
        "\n",
        "n_train = 20000\n",
        "indices = torch.randperm(len(cal_tech))\n",
        "\n",
        "train_idx, test_idx = indices[:n_train], indices[n_train:]\n",
        "train_sampler = SubsetRandomSampler(train_idx)\n",
        "test_sampler = SubsetRandomSampler(test_idx)\n",
        "\n",
        "# Get our data into the mini batch size that we defined\n",
        "train_loader = torch.utils.data.DataLoader(cal_tech, batch_size=batch_size,\n",
        "                                        sampler=train_sampler)\n",
        "\n",
        "\n",
        "test_loader = torch.utils.data.DataLoader(cal_tech, batch_size=batch_size,\n",
        "                                        sampler=test_sampler)\n",
        "\n",
        "\n",
        "device = 'cuda'\n",
        "net.to(device)\n",
        "\n",
        "for epoch in range(n_epochs):\n",
        "    running_loss = 0.0\n",
        "    start_time = time.time()\n",
        "\n",
        "    for i, data in enumerate(train_loader, 0):\n",
        "        # Get inputs in right form\n",
        "        inputs, labels = data\n",
        "        inputs, labels = Variable(inputs).to(device), Variable(labels).to(device)\n",
        "        \n",
        "        # In Pytorch, We need to always remember to set the optimizer gradients to 0 before we recompute the new gradients\n",
        "        optimizer.zero_grad()\n",
        "\n",
        "        # Forward pass\n",
        "        outputs = net(inputs)\n",
        "        # Compute the loss and find the loss with respect to each parameter of the model\n",
        "        loss_size = loss(outputs, labels)\n",
        "        loss_size.backward()\n",
        "        \n",
        "        # Change each parameter with respect to the recently computed loss.\n",
        "        optimizer.step()\n",
        "\n",
        "        # Update statistics\n",
        "        running_loss += loss_size.data.item()\n",
        "        \n",
        "        # Print every 20th batch of an epoch\n",
        "        if (i % print_every) == print_every-1:\n",
        "            print(\"Epoch {}, Iteration {}\\t train_loss: {:.4f} took: {:.4f}s\".format(\n",
        "                epoch + 1, i+1,running_loss / print_every, time.time() - start_time))\n",
        "            # Reset running loss and time\n",
        "            train_loss_hist.append(running_loss / print_every)\n",
        "            train_hist_x.append(idx)\n",
        "            running_loss = 0.0\n",
        "            start_time = time.time()\n",
        "        # Check test set every nth batch\n",
        "        if (i % test_every) == test_every -1:\n",
        "            test_loss(idx)\n",
        "            idx += 1\n",
        "\n",
        "print(\"Training finished, took {:.2f}s\".format(\n",
        "    time.time() - training_start_time))"
      ],
      "execution_count": 0,
      "outputs": [
        {
          "output_type": "stream",
          "text": [
            "Epoch 1, Iteration 20\t train_loss: 5.5392 took: 2.8569s\n",
            "Epoch 1, Iteration 40\t train_loss: 5.5021 took: 3.0422s\n",
            "Epoch 1, Iteration 60\t train_loss: 5.4192 took: 2.6790s\n",
            "Epoch 1, Iteration 80\t train_loss: 5.4187 took: 3.1818s\n",
            "Epoch 1, Iteration 100\t train_loss: 5.3931 took: 2.9813s\n",
            "Epoch 1, Iteration 120\t train_loss: 5.3568 took: 2.9217s\n",
            "Epoch 1, Iteration 140\t train_loss: 5.3311 took: 2.9677s\n",
            "Epoch 1, Iteration 160\t train_loss: 5.3943 took: 2.8755s\n",
            "Epoch 1, Iteration 180\t train_loss: 5.3155 took: 2.8748s\n",
            "Epoch 1, Iteration 200\t train_loss: 5.4462 took: 3.1629s\n",
            "Epoch 1, Iteration 220\t train_loss: 5.3545 took: 3.0355s\n",
            "Epoch 1, Iteration 240\t train_loss: 5.3342 took: 3.0870s\n",
            "Epoch 1, Iteration 260\t train_loss: 5.2933 took: 3.0530s\n",
            "Epoch 1, Iteration 280\t train_loss: 5.3264 took: 3.0441s\n",
            "Epoch 1, Iteration 300\t train_loss: 5.3162 took: 3.0513s\n",
            "Epoch 1, Iteration 320\t train_loss: 5.2900 took: 2.9648s\n",
            "Epoch 1, Iteration 340\t train_loss: 5.2736 took: 2.9348s\n",
            "Epoch 1, Iteration 360\t train_loss: 5.2365 took: 3.0954s\n",
            "Epoch 1, Iteration 380\t train_loss: 5.3260 took: 3.0599s\n",
            "Epoch 1, Iteration 400\t train_loss: 5.1968 took: 3.0902s\n",
            "Epoch 1, Iteration 420\t train_loss: 5.1245 took: 2.9363s\n",
            "Epoch 1, Iteration 440\t train_loss: 5.1427 took: 2.9080s\n",
            "Epoch 1, Iteration 460\t train_loss: 5.1505 took: 3.4489s\n",
            "Epoch 1, Iteration 480\t train_loss: 5.1370 took: 2.8582s\n",
            "Epoch 1, Iteration 500\t train_loss: 5.0203 took: 3.1448s\n",
            "Epoch 1, Iteration 520\t train_loss: 5.1638 took: 3.2615s\n",
            "Epoch 1, Iteration 540\t train_loss: 5.0121 took: 3.2788s\n",
            "Epoch 1, Iteration 560\t train_loss: 4.9491 took: 3.3093s\n",
            "Epoch 1, Iteration 580\t train_loss: 5.0458 took: 2.8408s\n",
            "Epoch 1, Iteration 600\t train_loss: 4.9553 took: 3.2515s\n",
            "Epoch 1, Iteration 620\t train_loss: 5.0947 took: 3.0283s\n",
            "Epoch 2, Iteration 20\t train_loss: 4.8000 took: 2.9101s\n",
            "Epoch 2, Iteration 40\t train_loss: 4.8627 took: 3.1825s\n",
            "Epoch 2, Iteration 60\t train_loss: 4.9026 took: 3.1286s\n",
            "Epoch 2, Iteration 80\t train_loss: 4.8950 took: 2.8532s\n",
            "Epoch 2, Iteration 100\t train_loss: 4.8575 took: 2.9116s\n",
            "Epoch 2, Iteration 120\t train_loss: 4.7876 took: 2.8762s\n",
            "Epoch 2, Iteration 140\t train_loss: 4.8651 took: 2.8476s\n",
            "Epoch 2, Iteration 160\t train_loss: 4.7697 took: 2.9119s\n",
            "Epoch 2, Iteration 180\t train_loss: 4.7649 took: 3.1662s\n",
            "Epoch 2, Iteration 200\t train_loss: 4.8158 took: 2.8638s\n",
            "Epoch 2, Iteration 220\t train_loss: 4.8118 took: 3.1517s\n",
            "Epoch 2, Iteration 240\t train_loss: 4.6613 took: 3.3853s\n",
            "Epoch 2, Iteration 260\t train_loss: 4.6877 took: 3.0332s\n",
            "Epoch 2, Iteration 280\t train_loss: 4.7145 took: 3.1737s\n",
            "Epoch 2, Iteration 300\t train_loss: 4.7767 took: 2.9162s\n",
            "Epoch 2, Iteration 320\t train_loss: 4.8517 took: 3.3434s\n",
            "Epoch 2, Iteration 340\t train_loss: 4.7294 took: 2.9572s\n",
            "Epoch 2, Iteration 360\t train_loss: 4.7248 took: 2.9436s\n",
            "Epoch 2, Iteration 380\t train_loss: 4.6486 took: 3.0934s\n",
            "Epoch 2, Iteration 400\t train_loss: 4.7304 took: 3.0646s\n",
            "Epoch 2, Iteration 420\t train_loss: 4.6134 took: 2.9819s\n",
            "Epoch 2, Iteration 440\t train_loss: 4.5657 took: 3.1793s\n",
            "Epoch 2, Iteration 460\t train_loss: 4.5868 took: 3.2848s\n",
            "Epoch 2, Iteration 480\t train_loss: 4.7755 took: 3.2543s\n",
            "Epoch 2, Iteration 500\t train_loss: 4.6125 took: 3.4236s\n",
            "Epoch 2, Iteration 520\t train_loss: 4.6661 took: 3.1002s\n",
            "Epoch 2, Iteration 540\t train_loss: 4.5076 took: 3.1045s\n",
            "Epoch 2, Iteration 560\t train_loss: 4.6660 took: 3.1333s\n",
            "Epoch 2, Iteration 580\t train_loss: 4.6272 took: 3.0858s\n",
            "Epoch 2, Iteration 600\t train_loss: 4.7183 took: 2.9689s\n",
            "Epoch 2, Iteration 620\t train_loss: 4.6262 took: 3.1691s\n",
            "Epoch 3, Iteration 20\t train_loss: 4.4609 took: 3.1580s\n",
            "Epoch 3, Iteration 40\t train_loss: 4.5311 took: 3.3847s\n",
            "Epoch 3, Iteration 60\t train_loss: 4.4053 took: 2.8605s\n",
            "Epoch 3, Iteration 80\t train_loss: 4.3446 took: 3.3076s\n",
            "Epoch 3, Iteration 100\t train_loss: 4.4826 took: 3.3144s\n",
            "Epoch 3, Iteration 120\t train_loss: 4.3620 took: 3.0555s\n",
            "Epoch 3, Iteration 140\t train_loss: 4.4655 took: 2.9713s\n",
            "Epoch 3, Iteration 160\t train_loss: 4.3612 took: 2.9515s\n",
            "Epoch 3, Iteration 180\t train_loss: 4.4282 took: 2.9777s\n",
            "Epoch 3, Iteration 200\t train_loss: 4.4450 took: 3.0621s\n",
            "Epoch 3, Iteration 220\t train_loss: 4.4192 took: 2.9599s\n",
            "Epoch 3, Iteration 240\t train_loss: 4.3406 took: 2.7756s\n",
            "Epoch 3, Iteration 260\t train_loss: 4.3539 took: 3.1267s\n",
            "Epoch 3, Iteration 280\t train_loss: 4.3018 took: 3.1264s\n"
          ],
          "name": "stdout"
        }
      ]
    },
    {
      "cell_type": "code",
      "metadata": {
        "id": "Nz5a5aP-E52u",
        "colab_type": "code",
        "colab": {}
      },
      "source": [
        ""
      ],
      "execution_count": 0,
      "outputs": []
    }
  ]
}