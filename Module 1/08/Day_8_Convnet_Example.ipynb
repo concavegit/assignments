{
  "nbformat": 4,
  "nbformat_minor": 0,
  "metadata": {
    "colab": {
      "name": "Day 8 Convnet Example",
      "provenance": [],
      "collapsed_sections": [
        "t-35nSvVIbiT"
      ],
      "include_colab_link": true
    },
    "kernelspec": {
      "name": "python3",
      "display_name": "Python 3"
    },
    "accelerator": "GPU"
  },
  "cells": [
    {
      "cell_type": "markdown",
      "metadata": {
        "id": "view-in-github",
        "colab_type": "text"
      },
      "source": [
        "<a href=\"https://colab.research.google.com/github/mlfa19/assignments/blob/master/Module%201/08/Day_8_Convnet_Example.ipynb\" target=\"_parent\"><img src=\"https://colab.research.google.com/assets/colab-badge.svg\" alt=\"Open In Colab\"/></a>"
      ]
    },
    {
      "cell_type": "markdown",
      "metadata": {
        "id": "sVFu3OVp3Xix",
        "colab_type": "text"
      },
      "source": [
        "# Boilerplate Convnet example\n",
        "In this notebook we'll be looking at training a convolutional neural network the [CIFAR 10 Dataset](https://www.cs.toronto.edu/~kriz/cifar.html). The CIFAR dataset contains relatively low resolution (32x32 pixel) images of 10 distinct categories of objects.\n",
        "\n",
        "* airplane\t\t\t\t\t\t\t\t\t\t\n",
        "* automobile\t\t\t\t\t\t\t\t\t\t\n",
        "* bird\t\t\t\t\t\t\t\t\t\t\n",
        "* cat\t\t\t\t\t\t\t\t\t\t\n",
        "* deer\t\t\t\t\t\t\t\t\t\t\n",
        "* dog\t\t\t\t\t\t\t\t\t\t\n",
        "* frog\t\t\t\t\t\t\t\t\t\t\n",
        "* horse\t\t\t\t\t\t\t\t\t\t\n",
        "* ship\t\t\t\t\t\t\t\t\t\t\n",
        "* truck\n",
        "\n",
        "We recommend that you run, examine, and understand all the code before attempting any of the exercises so that they make sense in a broader context.\n",
        "\n",
        "Thanks to [Algorithmia](https://blog.algorithmia.com/convolutional-neural-nets-in-pytorch/) for some of the base code for this example."
      ]
    },
    {
      "cell_type": "markdown",
      "metadata": {
        "id": "jt3N5feFwBVL",
        "colab_type": "text"
      },
      "source": [
        "## Use a GPU!\n",
        "\n",
        "This notebook uses the GPU functionality of Pytorch and Google Collab. We need to make sure we are running our operations on the GPU, verify this in you notebook settings at the top. Setting found under:\n",
        "\n",
        "`Runtime > Change runtime type > Hardware Accelerator -> GPU`"
      ]
    },
    {
      "cell_type": "markdown",
      "metadata": {
        "id": "E3alCNsXcczI",
        "colab_type": "text"
      },
      "source": [
        "Let's start by installing a package and importing some modules we'll need later."
      ]
    },
    {
      "cell_type": "code",
      "metadata": {
        "id": "gjeB52XEcWmD",
        "colab_type": "code",
        "outputId": "212f2e95-24bf-407e-c85e-8cb28759c28a",
        "colab": {
          "base_uri": "https://localhost:8080/",
          "height": 238
        }
      },
      "source": [
        "!pip install torchviz\n",
        "from torch.utils.data.sampler import SubsetRandomSampler\n",
        "from torch.autograd import Variable\n",
        "from torchviz import make_dot\n",
        "import torch\n",
        "import torch.nn as nn\n",
        "import torchvision\n",
        "import torchvision.transforms as transforms\n",
        "import torch.optim as optim\n",
        "\n",
        "\n",
        "import matplotlib.pyplot as plt\n",
        "import numpy as np # we always love numpy\n",
        "import time"
      ],
      "execution_count": 0,
      "outputs": [
        {
          "output_type": "stream",
          "text": [
            "Collecting torchviz\n",
            "\u001b[?25l  Downloading https://files.pythonhosted.org/packages/8f/8e/a9630c7786b846d08b47714dd363a051f5e37b4ea0e534460d8cdfc1644b/torchviz-0.0.1.tar.gz (41kB)\n",
            "\u001b[K     |████████████████████████████████| 51kB 2.1MB/s \n",
            "\u001b[?25hRequirement already satisfied: torch in /usr/local/lib/python3.6/dist-packages (from torchviz) (1.1.0)\n",
            "Requirement already satisfied: graphviz in /usr/local/lib/python3.6/dist-packages (from torchviz) (0.10.1)\n",
            "Requirement already satisfied: numpy in /usr/local/lib/python3.6/dist-packages (from torch->torchviz) (1.16.5)\n",
            "Building wheels for collected packages: torchviz\n",
            "  Building wheel for torchviz (setup.py) ... \u001b[?25l\u001b[?25hdone\n",
            "  Created wheel for torchviz: filename=torchviz-0.0.1-cp36-none-any.whl size=3520 sha256=d6c2b6047200c1f0420083c2e8488c21df2e8a2c702f8e3de04fd2d2208bec76\n",
            "  Stored in directory: /root/.cache/pip/wheels/2a/c2/c5/b8b4d0f7992c735f6db5bfa3c5f354cf36502037ca2b585667\n",
            "Successfully built torchviz\n",
            "Installing collected packages: torchviz\n",
            "Successfully installed torchviz-0.0.1\n"
          ],
          "name": "stdout"
        }
      ]
    },
    {
      "cell_type": "markdown",
      "metadata": {
        "id": "US13M6R4cxbL",
        "colab_type": "text"
      },
      "source": [
        "## Load the data\n",
        "This dataset happens to be included with pytorch so we can call some pytorch functions to automatically load and parse the data we need to. \n",
        "\n",
        "Don't worry too much about the specifics of this part. Data loading, cleaning, and parsing is often taylored to every dataset so functions from one dataset loading don't often directly transfer to another."
      ]
    },
    {
      "cell_type": "code",
      "metadata": {
        "id": "rKQk3V09cxrC",
        "colab_type": "code",
        "outputId": "12d05008-44cf-40a8-d2e8-43bac485d658",
        "colab": {
          "base_uri": "https://localhost:8080/",
          "height": 51
        }
      },
      "source": [
        "# Data set information\n",
        "image_dims = 3, 32, 32\n",
        "n_training_samples = 20000 # How many training images to use\n",
        "n_test_samples = 5000 # How many test images to use\n",
        "classes = ('plane', 'car', 'bird', 'cat',\n",
        "           'deer', 'dog', 'frog', 'horse', 'ship', 'truck')\n",
        "\n",
        "# Load the training set\n",
        "train_set = torchvision.datasets.CIFAR10(\n",
        "    root='./cifardata', train=True, download=True, transform=transforms.ToTensor())\n",
        "train_sampler = SubsetRandomSampler(\n",
        "    np.arange(n_training_samples, dtype=np.int64))\n",
        "\n",
        "#Load the test set\n",
        "test_set = torchvision.datasets.CIFAR10(\n",
        "    root='./cifardata', train=False, download=True, transform=transforms.ToTensor())\n",
        "test_sampler = SubsetRandomSampler(np.arange(n_test_samples, dtype=np.int64))"
      ],
      "execution_count": 0,
      "outputs": [
        {
          "output_type": "stream",
          "text": [
            "\r0it [00:00, ?it/s]"
          ],
          "name": "stderr"
        },
        {
          "output_type": "stream",
          "text": [
            "Downloading https://www.cs.toronto.edu/~kriz/cifar-10-python.tar.gz to ./cifardata/cifar-10-python.tar.gz\n"
          ],
          "name": "stdout"
        },
        {
          "output_type": "stream",
          "text": [
            " 99%|█████████▉| 169197568/170498071 [00:11<00:00, 18052259.59it/s]"
          ],
          "name": "stderr"
        },
        {
          "output_type": "stream",
          "text": [
            "Files already downloaded and verified\n"
          ],
          "name": "stdout"
        }
      ]
    },
    {
      "cell_type": "markdown",
      "metadata": {
        "id": "FbZb_B62w_fg",
        "colab_type": "text"
      },
      "source": [
        "Explore the data a bit.  Here are some suggestions.  (If you haven't yet, enable \"Automatically trigger code completion suggestions\" by first enabling beta features through the beaker icon and then clicking on the relevant option under \"tools->preferences->editor\")\n",
        "* Check the shapes of various tensors (note that the training data is stored under `train_set.data`)\n",
        "* Visualize some of the images in the dataset (you can grab data from the train_set using square brackets).  Sample code below. In the past we've shown you how to use subplots to show many images at once (refer to, e.g., the [assignment 5 notebook](https://colab.research.google.com/github/mlfa19/assignments/blob/master/Module%201/05/assignment05.ipynb) for guidance)."
      ]
    },
    {
      "cell_type": "code",
      "metadata": {
        "id": "_l-xHj-Gw-7r",
        "colab_type": "code",
        "outputId": "c771907d-38b4-45c4-dea2-d748d963ca89",
        "colab": {
          "base_uri": "https://localhost:8080/",
          "height": 315
        }
      },
      "source": [
        "def disp_image(image, class_idx, predicted=None):\n",
        "    # need to reorder the tensor dimensions to work properly with imshow\n",
        "    plt.imshow(image.transpose(0,2).transpose(0,1))\n",
        "    plt.axis('off')\n",
        "    if predicted:\n",
        "        plt.title(\"Actual: \" + classes[class_idx] + \"     Predicted: \" + classes[predicted])\n",
        "    else:\n",
        "        plt.title(\"Actual: \" + classes[class_idx])\n",
        "    plt.show()\n",
        "\n",
        "print(\"training set input data shape\", train_set.data.shape)\n",
        "print(\"Number of training outputs\", len(train_set.targets))\n",
        "x, y = train_set[1]\n",
        "disp_image(x, y)"
      ],
      "execution_count": 0,
      "outputs": [
        {
          "output_type": "stream",
          "text": [
            "training set input data shape (50000, 32, 32, 3)\n",
            "Number of training outputs 50000\n"
          ],
          "name": "stdout"
        },
        {
          "output_type": "display_data",
          "data": {
            "image/png": "[encoded data removed]",
            "text/plain": [
              "<Figure size 432x288 with 1 Axes>"
            ]
          },
          "metadata": {
            "tags": []
          }
        }
      ]
    },
    {
      "cell_type": "markdown",
      "metadata": {
        "id": "hi1zzYOazFJ4",
        "colab_type": "text"
      },
      "source": [
        "As another quick example, let's show the number of training data points for each particular class."
      ]
    },
    {
      "cell_type": "code",
      "metadata": {
        "id": "s1i02DlZzJzl",
        "colab_type": "code",
        "outputId": "e8ef7052-8611-443b-e86e-60f24ce1557d",
        "colab": {
          "base_uri": "https://localhost:8080/",
          "height": 269
        }
      },
      "source": [
        "import seaborn as sns\n",
        "\n",
        "sns.countplot(train_set.targets)\n",
        "plt.xticks(ticks=range(10), labels=classes)\n",
        "plt.show()"
      ],
      "execution_count": 0,
      "outputs": [
        {
          "output_type": "display_data",
          "data": {
            "image/png": "[encoded data removed]",
            "text/plain": [
              "<Figure size 432x288 with 1 Axes>"
            ]
          },
          "metadata": {
            "tags": []
          }
        }
      ]
    },
    {
      "cell_type": "markdown",
      "metadata": {
        "id": "8_Z46lIIzLP8",
        "colab_type": "text"
      },
      "source": [
        "Add your own explorations as you see fit, or skip ahead for now if you want to spend more time on the convnet stuff."
      ]
    },
    {
      "cell_type": "code",
      "metadata": {
        "id": "1Jc8znegzlB4",
        "colab_type": "code",
        "colab": {}
      },
      "source": [
        ""
      ],
      "execution_count": 0,
      "outputs": []
    },
    {
      "cell_type": "markdown",
      "metadata": {
        "id": "zcfcP8pzdLNo",
        "colab_type": "text"
      },
      "source": [
        "## Model Architecture\n",
        "Now that we have the data loaded, let's define our model architecture. As you saw on the previous assignment, convolutional networks have the following basic layer structure.\n",
        "1. Convolutional layer (this helps detect various image features such as edges and corners)\n",
        "2. (optional) non-linear tranformation (e.g., ReLu)\n",
        "3. Max pooling (this reduces the dimensionality of the image and focuses the network on features that are most salient)\n",
        "4. (repeat 1-3 some number of times)\n",
        "5. Fully connected layer\n",
        "6. (repeat (4) some number of times)\n",
        "7. Output layer\n",
        "\n",
        "So a typically convnet would look something like this.  Note: that the softmax in the figure below is just the multiclass generalization of the sigmoid we've been using for binary classification.\n",
        "\n",
        "![](https://miro.medium.com/max/2510/1*vkQ0hXDaQv57sALXAJquxA.jpeg)\n",
        "\n",
        "For this example we're going to start off by using one convolutional layer to pick up local image features, then a [maxpool operation](https://computersciencewiki.org/index.php/Max-pooling_/_Pooling) to reduce our dimensionality a bit, followed by a fully connected layer to perform some logic computations on those features, and finally a fully connected layer to turn those outputs into predictions for the class.  Typically we might have more of each of these sorts of layers, but we are aiming for a simpler network for our first go.\n",
        "\n",
        "## Software Architecture\n",
        "\n",
        "In `pytorch` our neural network will be a class.  Here are a few things to remember about how `pytorch` works with neural networks.\n",
        "\n",
        "* Your neural network class must inherit from `nn.Module`\n",
        "* You should create the layer objects in the `__init__` method.\n",
        "* The forward call is where the action happens (data inputs are transformed into outputs of the network).\n",
        "\n",
        "Consider consulting [the assignment 7 notebook](https://colab.research.google.com/github/mlfa19/assignments/blob/master/Module%201/07/Assignment_07_Companion_Pytorch_Titanic.ipynb) for a refresher."
      ]
    },
    {
      "cell_type": "code",
      "metadata": {
        "id": "cbxu5y57dLn_",
        "colab_type": "code",
        "colab": {}
      },
      "source": [
        "class MyCNN(nn.Module):\n",
        "    # The init funciton in Pytorch classes is used to keep track of the parameters of the model\n",
        "    # specifically the ones we want to update with gradient descent + backprop\n",
        "    # So we need to make sure we keep track of all of them here\n",
        "    def __init__(self):\n",
        "        super(MyCNN, self).__init__()\n",
        "        # layers defined here\n",
        "\n",
        "        # Make sure you understand what this convolutional layer is doing.\n",
        "        # E.g., considering looking at help(nn.Conv2D).  Draw a picture of what\n",
        "        # this layer does to the data.\n",
        "\n",
        "        # note: image_dims[0] will be 3 as there are 3 color channels (R, G, B)\n",
        "        num_kernels = 16\n",
        "        self.conv1 = nn.Conv2d(image_dims[0], num_kernels, kernel_size=3, stride=1, padding=1)\n",
        "\n",
        "        # Make sure you understand what this MaxPool2D layer is doing.\n",
        "        # E.g., considering looking at help(nn.MaxPool2d).  Draw a picture of\n",
        "        # what this layer does to the data.\n",
        "\n",
        "        self.pool = nn.MaxPool2d(kernel_size=2, stride=2, padding=0)\n",
        "\n",
        "        # maxpool_output_size is the total amount of data coming out of that\n",
        "        # layer.  We have an exercise that asks you to explain why the line of\n",
        "        # code below computes this quantity.\n",
        "        self.maxpool_output_size = int(num_kernels * (image_dims[1] / 2) * (image_dims[2] / 2))\n",
        "\n",
        "        # Add on a fully connected layer (like in our MLP)\n",
        "        # fc stands for fully connected\n",
        "        fc1_size = 64\n",
        "        self.fc1 = nn.Linear(self.maxpool_output_size, fc1_size)\n",
        "\n",
        "        # we'll use this activation function internally in the network\n",
        "        self.activation_func = torch.nn.ReLU()\n",
        "\n",
        "        # Convert our fully connected layer into outputs that we can compare to the result\n",
        "        fc2_size = len(classes)\n",
        "        self.fc2 = nn.Linear(fc1_size, fc2_size)\n",
        "\n",
        "        # Note: that the output will not represent the probability of the\n",
        "        # output being in each class.  The loss function we will use\n",
        "        # `CrossEntropyLoss` will take care of convering these values to\n",
        "        # probabilities and then computing the log loss with respect to the\n",
        "        # true label.  We could break this out into multiple steps, but it turns\n",
        "        # out that the algorithm will be more numerically stable if we do it in\n",
        "        # one go.  We have included a cell to show you the documentation for\n",
        "        # `CrossEntropyLoss` if you'd like to check it out.\n",
        "        \n",
        "    # The forward function in the class defines the operations performed on a given input to the model\n",
        "    # and returns the output of the model\n",
        "    def forward(self, x):\n",
        "        x = self.conv1(x)\n",
        "        x = self.pool(x)\n",
        "        x = self.activation_func(x)\n",
        "        # this code flattens the output of the convolution, max pool,\n",
        "        # activation sequence of steps into a vector\n",
        "        x = x.view(-1, self.maxpool_output_size)\n",
        "        x = self.fc1(x)\n",
        "        x = self.activation_func(x)\n",
        "        x = self.fc2(x)\n",
        "        return x\n",
        "\n",
        "    # The loss function (which we chose to include as a method of the class, but doesn't need to be)\n",
        "    # returns the loss and optimizer used by the model\n",
        "    def get_loss(self, learning_rate):\n",
        "      # Loss function\n",
        "      loss = nn.CrossEntropyLoss()\n",
        "      # Optimizer, self.parameters() returns all the Pytorch operations that are attributes of the class\n",
        "      optimizer = optim.Adam(self.parameters(), lr=learning_rate)\n",
        "      return loss, optimizer"
      ],
      "execution_count": 0,
      "outputs": []
    },
    {
      "cell_type": "markdown",
      "metadata": {
        "id": "sWSZHeWKcGuP",
        "colab_type": "text"
      },
      "source": [
        "#### Exercise\n",
        "\n",
        "(a) Draw a picture of this specific network similar to the generic convnet picture shown previously (it doesn't have to be in the exact same format, just try to include similar information).\n",
        "\n",
        "(b) Explain what is happening in the following line of code (e.g., what is the point of it and where does thsi formula come frome)?\n",
        "\n",
        "```python\n",
        "self.maxpool_output_size = int(num_kernels * (image_dims[1] / 2) * (image_dims[2] / 2))\n",
        "```"
      ]
    },
    {
      "cell_type": "markdown",
      "metadata": {
        "id": "MKyjN1VsewEg",
        "colab_type": "text"
      },
      "source": [
        "#### Solution\n",
        "\n",
        "(a) We don't have time to render it for you, but it would include one conv + relu layer, one max pool, a fully connected layer, and finally the outputs.\n",
        "\n",
        "(b) We needs to know the max pool output size so we can properly size the first fully connected layer.  The max pool output size is based on the number of convolutional kernels, the stride of the max pool (in this case max pool goes moves in steps of 2 along row and column, downsampling the filtered image by a factor of 2 in each direction).  If we didn't set padding=1 in the convolutional layer we would also have to account for edge effects from the convolution.  Here the convolution doesn't change the size of the filtered image. "
      ]
    },
    {
      "cell_type": "markdown",
      "metadata": {
        "id": "upA76kARcosL",
        "colab_type": "text"
      },
      "source": [
        "### Reading the Docs\n",
        "\n",
        "Consider reading up on functions in Pytorch that are confusing using the `help` function."
      ]
    },
    {
      "cell_type": "code",
      "metadata": {
        "id": "y7yW3u9F4Rtc",
        "colab_type": "code",
        "colab": {}
      },
      "source": [
        "help(nn.CrossEntropyLoss)"
      ],
      "execution_count": 0,
      "outputs": []
    },
    {
      "cell_type": "markdown",
      "metadata": {
        "id": "OQHPW08-f5fK",
        "colab_type": "text"
      },
      "source": [
        "## Model Architecture\n",
        "First let's create our model. Let's also check out a graphical representation of our model (using a library we downloaded earlier) to validate the model looks like we think it should.  This is definitely not the prettiest visualization, and there are lots of things included in here that are related to doing the backward pass (to compute the gradients).  Of particular relevance are the blue nodes, which tell you about the various model parameters and layers.\n",
        "\n",
        "**Running the below cell will override your model if have already trained one**"
      ]
    },
    {
      "cell_type": "code",
      "metadata": {
        "id": "vXeauNXlBIK6",
        "colab_type": "code",
        "outputId": "94a2f8ff-c5b4-4b07-f268-59bcb0f89345",
        "colab": {
          "base_uri": "https://localhost:8080/",
          "height": 678
        }
      },
      "source": [
        "def visualize_network(net):\n",
        "    # Visualize the architecture of the model\n",
        "    # We need to give the net a fake input for this library to visualize the architecture\n",
        "    fake_input = Variable(torch.zeros((1,image_dims[0], image_dims[1], image_dims[2]))).to(device)\n",
        "    outputs = net(fake_input)\n",
        "    # Plot the DAG (Directed Acyclic Graph) of the model\n",
        "    return make_dot(outputs, dict(net.named_parameters()))\n",
        "\n",
        "# Define what device we want to use\n",
        "device = 'cuda' # 'cpu' if we want to not use the gpu\n",
        "# Initialize the model, loss, and optimization function\n",
        "net = MyCNN()\n",
        "# This tells our model to send all of the tensors and operations to the GPU (or keep them at the CPU if we're not using GPU)\n",
        "net.to(device)\n",
        "\n",
        "visualize_network(net)"
      ],
      "execution_count": 0,
      "outputs": [
        {
          "output_type": "execute_result",
          "data": {
            "text/plain": [
              "<graphviz.dot.Digraph at 0x7f0f65a00668>"
            ],
            "image/svg+xml": "<?xml version=\"1.0\" encoding=\"UTF-8\" standalone=\"no\"?>\n<!DOCTYPE svg PUBLIC \"-//W3C//DTD SVG 1.1//EN\"\n \"http://www.w3.org/Graphics/SVG/1.1/DTD/svg11.dtd\">\n<!-- Generated by graphviz version 2.40.1 (20161225.0304)\n -->\n<!-- Title: %3 Pages: 1 -->\n<svg width=\"267pt\" height=\"493pt\"\n viewBox=\"0.00 0.00 266.50 493.00\" xmlns=\"http://www.w3.org/2000/svg\" xmlns:xlink=\"http://www.w3.org/1999/xlink\">\n<g id=\"graph0\" class=\"graph\" transform=\"scale(1 1) rotate(0) translate(4 489)\">\n<title>%3</title>\n<polygon fill=\"#ffffff\" stroke=\"transparent\" points=\"-4,4 -4,-489 262.5,-489 262.5,4 -4,4\"/>\n<!-- 139704106225392 -->\n<g id=\"node1\" class=\"node\">\n<title>139704106225392</title>\n<polygon fill=\"#caff70\" stroke=\"#000000\" points=\"171,-21 67,-21 67,0 171,0 171,-21\"/>\n<text text-anchor=\"middle\" x=\"119\" y=\"-7.4\" font-family=\"Times,serif\" font-size=\"12.00\" fill=\"#000000\">AddmmBackward</text>\n</g>\n<!-- 139704106317472 -->\n<g id=\"node2\" class=\"node\">\n<title>139704106317472</title>\n<polygon fill=\"#add8e6\" stroke=\"#000000\" points=\"54,-91 0,-91 0,-57 54,-57 54,-91\"/>\n<text text-anchor=\"middle\" x=\"27\" y=\"-77.4\" font-family=\"Times,serif\" font-size=\"12.00\" fill=\"#000000\">fc2.bias</text>\n<text text-anchor=\"middle\" x=\"27\" y=\"-64.4\" font-family=\"Times,serif\" font-size=\"12.00\" fill=\"#000000\"> (10)</text>\n</g>\n<!-- 139704106317472&#45;&gt;139704106225392 -->\n<g id=\"edge1\" class=\"edge\">\n<title>139704106317472&#45;&gt;139704106225392</title>\n<path fill=\"none\" stroke=\"#000000\" d=\"M51.6543,-56.9832C65.1894,-47.641 81.8926,-36.1122 95.278,-26.8734\"/>\n<polygon fill=\"#000000\" stroke=\"#000000\" points=\"97.2865,-29.7398 103.5283,-21.1788 93.3102,-23.9788 97.2865,-29.7398\"/>\n</g>\n<!-- 139704106317248 -->\n<g id=\"node3\" class=\"node\">\n<title>139704106317248</title>\n<polygon fill=\"#d3d3d3\" stroke=\"#000000\" points=\"166,-84.5 72,-84.5 72,-63.5 166,-63.5 166,-84.5\"/>\n<text text-anchor=\"middle\" x=\"119\" y=\"-70.9\" font-family=\"Times,serif\" font-size=\"12.00\" fill=\"#000000\">ReluBackward0</text>\n</g>\n<!-- 139704106317248&#45;&gt;139704106225392 -->\n<g id=\"edge2\" class=\"edge\">\n<title>139704106317248&#45;&gt;139704106225392</title>\n<path fill=\"none\" stroke=\"#000000\" d=\"M119,-63.2281C119,-54.5091 119,-41.9699 119,-31.3068\"/>\n<polygon fill=\"#000000\" stroke=\"#000000\" points=\"122.5001,-31.1128 119,-21.1128 115.5001,-31.1129 122.5001,-31.1128\"/>\n</g>\n<!-- 139704106319432 -->\n<g id=\"node4\" class=\"node\">\n<title>139704106319432</title>\n<polygon fill=\"#d3d3d3\" stroke=\"#000000\" points=\"170,-154.5 66,-154.5 66,-133.5 170,-133.5 170,-154.5\"/>\n<text text-anchor=\"middle\" x=\"118\" y=\"-140.9\" font-family=\"Times,serif\" font-size=\"12.00\" fill=\"#000000\">AddmmBackward</text>\n</g>\n<!-- 139704106319432&#45;&gt;139704106317248 -->\n<g id=\"edge3\" class=\"edge\">\n<title>139704106319432&#45;&gt;139704106317248</title>\n<path fill=\"none\" stroke=\"#000000\" d=\"M118.1519,-133.3685C118.2972,-123.1925 118.5206,-107.5606 118.7016,-94.8912\"/>\n<polygon fill=\"#000000\" stroke=\"#000000\" points=\"122.2034,-94.7806 118.8467,-84.7315 115.2041,-94.6805 122.2034,-94.7806\"/>\n</g>\n<!-- 139704106317024 -->\n<g id=\"node5\" class=\"node\">\n<title>139704106317024</title>\n<polygon fill=\"#add8e6\" stroke=\"#000000\" points=\"54,-231 0,-231 0,-197 54,-197 54,-231\"/>\n<text text-anchor=\"middle\" x=\"27\" y=\"-217.4\" font-family=\"Times,serif\" font-size=\"12.00\" fill=\"#000000\">fc1.bias</text>\n<text text-anchor=\"middle\" x=\"27\" y=\"-204.4\" font-family=\"Times,serif\" font-size=\"12.00\" fill=\"#000000\"> (64)</text>\n</g>\n<!-- 139704106317024&#45;&gt;139704106319432 -->\n<g id=\"edge4\" class=\"edge\">\n<title>139704106317024&#45;&gt;139704106319432</title>\n<path fill=\"none\" stroke=\"#000000\" d=\"M49.4944,-196.6966C63.7034,-185.7666 81.9745,-171.7119 96.0735,-160.8666\"/>\n<polygon fill=\"#000000\" stroke=\"#000000\" points=\"98.447,-163.4565 104.2393,-154.5852 94.179,-157.9081 98.447,-163.4565\"/>\n</g>\n<!-- 139704106318816 -->\n<g id=\"node6\" class=\"node\">\n<title>139704106318816</title>\n<polygon fill=\"#d3d3d3\" stroke=\"#000000\" points=\"163.5,-224.5 72.5,-224.5 72.5,-203.5 163.5,-203.5 163.5,-224.5\"/>\n<text text-anchor=\"middle\" x=\"118\" y=\"-210.9\" font-family=\"Times,serif\" font-size=\"12.00\" fill=\"#000000\">ViewBackward</text>\n</g>\n<!-- 139704106318816&#45;&gt;139704106319432 -->\n<g id=\"edge5\" class=\"edge\">\n<title>139704106318816&#45;&gt;139704106319432</title>\n<path fill=\"none\" stroke=\"#000000\" d=\"M118,-203.3685C118,-193.1925 118,-177.5606 118,-164.8912\"/>\n<polygon fill=\"#000000\" stroke=\"#000000\" points=\"121.5001,-164.7315 118,-154.7315 114.5001,-164.7316 121.5001,-164.7315\"/>\n</g>\n<!-- 139704106317192 -->\n<g id=\"node7\" class=\"node\">\n<title>139704106317192</title>\n<polygon fill=\"#d3d3d3\" stroke=\"#000000\" points=\"165,-294.5 71,-294.5 71,-273.5 165,-273.5 165,-294.5\"/>\n<text text-anchor=\"middle\" x=\"118\" y=\"-280.9\" font-family=\"Times,serif\" font-size=\"12.00\" fill=\"#000000\">ReluBackward0</text>\n</g>\n<!-- 139704106317192&#45;&gt;139704106318816 -->\n<g id=\"edge6\" class=\"edge\">\n<title>139704106317192&#45;&gt;139704106318816</title>\n<path fill=\"none\" stroke=\"#000000\" d=\"M118,-273.3685C118,-263.1925 118,-247.5606 118,-234.8912\"/>\n<polygon fill=\"#000000\" stroke=\"#000000\" points=\"121.5001,-234.7315 118,-224.7315 114.5001,-234.7316 121.5001,-234.7315\"/>\n</g>\n<!-- 139704105912640 -->\n<g id=\"node8\" class=\"node\">\n<title>139704105912640</title>\n<polygon fill=\"#d3d3d3\" stroke=\"#000000\" points=\"208,-358 28,-358 28,-337 208,-337 208,-358\"/>\n<text text-anchor=\"middle\" x=\"118\" y=\"-344.4\" font-family=\"Times,serif\" font-size=\"12.00\" fill=\"#000000\">MaxPool2DWithIndicesBackward</text>\n</g>\n<!-- 139704105912640&#45;&gt;139704106317192 -->\n<g id=\"edge7\" class=\"edge\">\n<title>139704105912640&#45;&gt;139704106317192</title>\n<path fill=\"none\" stroke=\"#000000\" d=\"M118,-336.7281C118,-328.0091 118,-315.4699 118,-304.8068\"/>\n<polygon fill=\"#000000\" stroke=\"#000000\" points=\"121.5001,-304.6128 118,-294.6128 114.5001,-304.6129 121.5001,-304.6128\"/>\n</g>\n<!-- 139704105910960 -->\n<g id=\"node9\" class=\"node\">\n<title>139704105910960</title>\n<polygon fill=\"#d3d3d3\" stroke=\"#000000\" points=\"196.5,-415 39.5,-415 39.5,-394 196.5,-394 196.5,-415\"/>\n<text text-anchor=\"middle\" x=\"118\" y=\"-401.4\" font-family=\"Times,serif\" font-size=\"12.00\" fill=\"#000000\">CudnnConvolutionBackward</text>\n</g>\n<!-- 139704105910960&#45;&gt;139704105912640 -->\n<g id=\"edge8\" class=\"edge\">\n<title>139704105910960&#45;&gt;139704105912640</title>\n<path fill=\"none\" stroke=\"#000000\" d=\"M118,-393.7787C118,-386.6134 118,-376.9517 118,-368.3097\"/>\n<polygon fill=\"#000000\" stroke=\"#000000\" points=\"121.5001,-368.1732 118,-358.1732 114.5001,-368.1732 121.5001,-368.1732\"/>\n</g>\n<!-- 139704105912248 -->\n<g id=\"node10\" class=\"node\">\n<title>139704105912248</title>\n<polygon fill=\"#add8e6\" stroke=\"#000000\" points=\"112.5,-485 31.5,-485 31.5,-451 112.5,-451 112.5,-485\"/>\n<text text-anchor=\"middle\" x=\"72\" y=\"-471.4\" font-family=\"Times,serif\" font-size=\"12.00\" fill=\"#000000\">conv1.weight</text>\n<text text-anchor=\"middle\" x=\"72\" y=\"-458.4\" font-family=\"Times,serif\" font-size=\"12.00\" fill=\"#000000\"> (16, 3, 3, 3)</text>\n</g>\n<!-- 139704105912248&#45;&gt;139704105910960 -->\n<g id=\"edge9\" class=\"edge\">\n<title>139704105912248&#45;&gt;139704105910960</title>\n<path fill=\"none\" stroke=\"#000000\" d=\"M84.3272,-450.9832C90.4107,-442.5853 97.7742,-432.4204 104.0621,-423.7404\"/>\n<polygon fill=\"#000000\" stroke=\"#000000\" points=\"107.0945,-425.5204 110.1266,-415.3687 101.4256,-421.4138 107.0945,-425.5204\"/>\n</g>\n<!-- 139704105912416 -->\n<g id=\"node11\" class=\"node\">\n<title>139704105912416</title>\n<polygon fill=\"#add8e6\" stroke=\"#000000\" points=\"199,-485 131,-485 131,-451 199,-451 199,-485\"/>\n<text text-anchor=\"middle\" x=\"165\" y=\"-471.4\" font-family=\"Times,serif\" font-size=\"12.00\" fill=\"#000000\">conv1.bias</text>\n<text text-anchor=\"middle\" x=\"165\" y=\"-458.4\" font-family=\"Times,serif\" font-size=\"12.00\" fill=\"#000000\"> (16)</text>\n</g>\n<!-- 139704105912416&#45;&gt;139704105910960 -->\n<g id=\"edge10\" class=\"edge\">\n<title>139704105912416&#45;&gt;139704105910960</title>\n<path fill=\"none\" stroke=\"#000000\" d=\"M152.4049,-450.9832C146.1237,-442.4969 138.5069,-432.2062 132.0384,-423.4668\"/>\n<polygon fill=\"#000000\" stroke=\"#000000\" points=\"134.8071,-421.3243 126.0445,-415.3687 129.1806,-425.4888 134.8071,-421.3243\"/>\n</g>\n<!-- 139704106316856 -->\n<g id=\"node12\" class=\"node\">\n<title>139704106316856</title>\n<polygon fill=\"#d3d3d3\" stroke=\"#000000\" points=\"254.5,-224.5 181.5,-224.5 181.5,-203.5 254.5,-203.5 254.5,-224.5\"/>\n<text text-anchor=\"middle\" x=\"218\" y=\"-210.9\" font-family=\"Times,serif\" font-size=\"12.00\" fill=\"#000000\">TBackward</text>\n</g>\n<!-- 139704106316856&#45;&gt;139704106319432 -->\n<g id=\"edge11\" class=\"edge\">\n<title>139704106316856&#45;&gt;139704106319432</title>\n<path fill=\"none\" stroke=\"#000000\" d=\"M202.8122,-203.3685C186.492,-191.9444 160.3486,-173.644 141.398,-160.3786\"/>\n<polygon fill=\"#000000\" stroke=\"#000000\" points=\"143.2026,-157.3695 133.0031,-154.5022 139.1883,-163.1042 143.2026,-157.3695\"/>\n</g>\n<!-- 139704105911632 -->\n<g id=\"node13\" class=\"node\">\n<title>139704105911632</title>\n<polygon fill=\"#add8e6\" stroke=\"#000000\" points=\"252.5,-301 183.5,-301 183.5,-267 252.5,-267 252.5,-301\"/>\n<text text-anchor=\"middle\" x=\"218\" y=\"-287.4\" font-family=\"Times,serif\" font-size=\"12.00\" fill=\"#000000\">fc1.weight</text>\n<text text-anchor=\"middle\" x=\"218\" y=\"-274.4\" font-family=\"Times,serif\" font-size=\"12.00\" fill=\"#000000\"> (64, 4096)</text>\n</g>\n<!-- 139704105911632&#45;&gt;139704106316856 -->\n<g id=\"edge12\" class=\"edge\">\n<title>139704105911632&#45;&gt;139704106316856</title>\n<path fill=\"none\" stroke=\"#000000\" d=\"M218,-266.6966C218,-257.0634 218,-245.003 218,-234.8518\"/>\n<polygon fill=\"#000000\" stroke=\"#000000\" points=\"221.5001,-234.7912 218,-224.7913 214.5001,-234.7913 221.5001,-234.7912\"/>\n</g>\n<!-- 139704106318424 -->\n<g id=\"node14\" class=\"node\">\n<title>139704106318424</title>\n<polygon fill=\"#d3d3d3\" stroke=\"#000000\" points=\"258.5,-84.5 185.5,-84.5 185.5,-63.5 258.5,-63.5 258.5,-84.5\"/>\n<text text-anchor=\"middle\" x=\"222\" y=\"-70.9\" font-family=\"Times,serif\" font-size=\"12.00\" fill=\"#000000\">TBackward</text>\n</g>\n<!-- 139704106318424&#45;&gt;139704106225392 -->\n<g id=\"edge13\" class=\"edge\">\n<title>139704106318424&#45;&gt;139704106225392</title>\n<path fill=\"none\" stroke=\"#000000\" d=\"M204.5275,-63.2281C188.1519,-53.1325 163.4682,-37.9149 144.8209,-26.4187\"/>\n<polygon fill=\"#000000\" stroke=\"#000000\" points=\"146.5636,-23.3814 136.2145,-21.1128 142.8901,-29.3401 146.5636,-23.3814\"/>\n</g>\n<!-- 139704106318536 -->\n<g id=\"node15\" class=\"node\">\n<title>139704106318536</title>\n<polygon fill=\"#add8e6\" stroke=\"#000000\" points=\"255.5,-161 188.5,-161 188.5,-127 255.5,-127 255.5,-161\"/>\n<text text-anchor=\"middle\" x=\"222\" y=\"-147.4\" font-family=\"Times,serif\" font-size=\"12.00\" fill=\"#000000\">fc2.weight</text>\n<text text-anchor=\"middle\" x=\"222\" y=\"-134.4\" font-family=\"Times,serif\" font-size=\"12.00\" fill=\"#000000\"> (10, 64)</text>\n</g>\n<!-- 139704106318536&#45;&gt;139704106318424 -->\n<g id=\"edge14\" class=\"edge\">\n<title>139704106318536&#45;&gt;139704106318424</title>\n<path fill=\"none\" stroke=\"#000000\" d=\"M222,-126.6966C222,-117.0634 222,-105.003 222,-94.8518\"/>\n<polygon fill=\"#000000\" stroke=\"#000000\" points=\"225.5001,-94.7912 222,-84.7913 218.5001,-94.7913 225.5001,-94.7912\"/>\n</g>\n</g>\n</svg>\n"
          },
          "metadata": {
            "tags": []
          },
          "execution_count": 6
        }
      ]
    },
    {
      "cell_type": "markdown",
      "metadata": {
        "id": "glMz-8OmoF-u",
        "colab_type": "text"
      },
      "source": [
        "## Training\n",
        "\n",
        "Next we'll define the settings we'll use for training.  \n",
        "\n",
        "In the last notebook we mentioned the idea of stochastic gradient descent where we only use a subset of the data to estimate the gradient before doing an update to our model parameters.  In the notebook from last time we used all of our data to compute the gradient (thus we just used regular gradient descent). Although reliable, this method is often slow for larger models.\n",
        "\n",
        "In this problem we are going to be using a form of **Stochastic Gradient Descent** called **Mini-batch Gradient Descent**.  For mini-batch gradient descent we will use a small batch of data to estimate our gradient and then do an update step (by moving our weights down the negative gradient).  We'll iterate through the whole dataset as a series of mini-batches and perform a step after processing each batch.  This is a much noisier process of weight optimization, but often converges more quickly than the normal gradient descent.\n",
        "\n",
        "In the code below we define a `DataLoader` function that iterates through the training set (or test set) in increments of `batch_size`. We then define a training wrapper function that will make modifying your model parameters (as we'll do later in this notebook) easier (we don't want to have to keep cutting and pasting code everywhere in this notebook)."
      ]
    },
    {
      "cell_type": "code",
      "metadata": {
        "id": "I52pm5-AmwKs",
        "colab_type": "code",
        "colab": {}
      },
      "source": [
        "# Define training parameters\n",
        "batch_size = 32\n",
        "learning_rate = 1e-2\n",
        "n_epochs = 10\n",
        "# Get our data into the mini batch size that we defined\n",
        "train_loader = torch.utils.data.DataLoader(train_set, batch_size=batch_size,\n",
        "                                           sampler=train_sampler, num_workers=2)\n",
        "test_loader = torch.utils.data.DataLoader(\n",
        "    test_set, batch_size=128, sampler=test_sampler, num_workers=2)\n",
        "\n",
        "def train_model(net):\n",
        "    \"\"\" Train a the specified network.\n",
        "\n",
        "        Outputs a tuple with the following four elements\n",
        "        train_hist_x: the x-values (batch number) that the training set was \n",
        "            evaluated on.\n",
        "        train_loss_hist: the loss values for the training set corresponding to\n",
        "            the batch numbers returned in train_hist_x\n",
        "        test_hist_x: the x-values (batch number) that the test set was \n",
        "            evaluated on.\n",
        "        test_loss_hist: the loss values for the test set corresponding to\n",
        "            the batch numbers returned in test_hist_x\n",
        "    \"\"\" \n",
        "    loss, optimizer = net.get_loss(learning_rate)\n",
        "    # Define some parameters to keep track of metrics\n",
        "    print_every = 20\n",
        "    idx = 0\n",
        "    train_hist_x = []\n",
        "    train_loss_hist = []\n",
        "    test_hist_x = []\n",
        "    test_loss_hist = []\n",
        "\n",
        "    training_start_time = time.time()\n",
        "    # Loop for n_epochs\n",
        "    for epoch in range(n_epochs):\n",
        "        running_loss = 0.0\n",
        "        start_time = time.time()\n",
        "\n",
        "        for i, data in enumerate(train_loader, 0):\n",
        "\n",
        "            # Get inputs in right form\n",
        "            inputs, labels = data\n",
        "            inputs, labels = Variable(inputs).to(device), Variable(labels).to(device)\n",
        "            \n",
        "            # In Pytorch, We need to always remember to set the optimizer gradients to 0 before we recompute the new gradients\n",
        "            optimizer.zero_grad()\n",
        "\n",
        "            # Forward pass\n",
        "            outputs = net(inputs)\n",
        "            \n",
        "            # Compute the loss and find the loss with respect to each parameter of the model\n",
        "            loss_size = loss(outputs, labels)\n",
        "            loss_size.backward()\n",
        "            \n",
        "            # Change each parameter with respect to the recently computed loss.\n",
        "            optimizer.step()\n",
        "\n",
        "            # Update statistics\n",
        "            running_loss += loss_size.data.item()\n",
        "            \n",
        "            # Print every 20th batch of an epoch\n",
        "            if (i % print_every) == print_every-1:\n",
        "                print(\"Epoch {}, Iteration {}\\t train_loss: {:.2f} took: {:.2f}s\".format(\n",
        "                    epoch + 1, i+1,running_loss / print_every, time.time() - start_time))\n",
        "                # Reset running loss and time\n",
        "                train_loss_hist.append(running_loss / print_every)\n",
        "                train_hist_x.append(idx)\n",
        "                running_loss = 0.0\n",
        "                start_time = time.time()\n",
        "            idx += 1\n",
        "\n",
        "        # At the end of the epoch, do a pass on the test set\n",
        "        total_test_loss = 0\n",
        "        for inputs, labels in test_loader:\n",
        "\n",
        "            # Wrap tensors in Variables\n",
        "            inputs, labels = Variable(inputs).to(device), Variable(labels).to(device)\n",
        "\n",
        "            # Forward pass\n",
        "            test_outputs = net(inputs)\n",
        "            test_loss_size = loss(test_outputs, labels)\n",
        "            total_test_loss += test_loss_size.data.item()\n",
        "        test_loss_hist.append(total_test_loss / len(test_loader))\n",
        "        test_hist_x.append(idx)\n",
        "        print(\"Validation loss = {:.2f}\".format(\n",
        "            total_test_loss / len(test_loader)))\n",
        "\n",
        "    print(\"Training finished, took {:.2f}s\".format(\n",
        "        time.time() - training_start_time))\n",
        "    return train_hist_x, train_loss_hist, test_hist_x, test_loss_hist"
      ],
      "execution_count": 0,
      "outputs": []
    },
    {
      "cell_type": "markdown",
      "metadata": {
        "id": "gQorZsxQBIc6",
        "colab_type": "text"
      },
      "source": [
        "### Now let's train the model!\n",
        "\n",
        "Here we go!"
      ]
    },
    {
      "cell_type": "code",
      "metadata": {
        "id": "YvcJyKgwdSR8",
        "colab_type": "code",
        "outputId": "62464195-2398-4511-8d11-9e7013cbd17b",
        "colab": {
          "base_uri": "https://localhost:8080/",
          "height": 1000
        }
      },
      "source": [
        "train_hist_x, train_loss_hist, test_hist_x, test_loss_hist = train_model(net)"
      ],
      "execution_count": 0,
      "outputs": [
        {
          "output_type": "stream",
          "text": [
            "Epoch 1, Iteration 20\t train_loss: 2.41 took: 0.30s\n",
            "Epoch 1, Iteration 40\t train_loss: 2.30 took: 0.17s\n",
            "Epoch 1, Iteration 60\t train_loss: 2.23 took: 0.18s\n",
            "Epoch 1, Iteration 80\t train_loss: 2.18 took: 0.16s\n",
            "Epoch 1, Iteration 100\t train_loss: 2.15 took: 0.18s\n",
            "Epoch 1, Iteration 120\t train_loss: 2.10 took: 0.17s\n",
            "Epoch 1, Iteration 140\t train_loss: 2.03 took: 0.18s\n",
            "Epoch 1, Iteration 160\t train_loss: 2.03 took: 0.18s\n",
            "Epoch 1, Iteration 180\t train_loss: 2.01 took: 0.19s\n",
            "Epoch 1, Iteration 200\t train_loss: 1.95 took: 0.16s\n",
            "Epoch 1, Iteration 220\t train_loss: 2.02 took: 0.17s\n",
            "Epoch 1, Iteration 240\t train_loss: 1.95 took: 0.17s\n",
            "Epoch 1, Iteration 260\t train_loss: 1.87 took: 0.17s\n",
            "Epoch 1, Iteration 280\t train_loss: 1.86 took: 0.17s\n",
            "Epoch 1, Iteration 300\t train_loss: 1.88 took: 0.21s\n",
            "Epoch 1, Iteration 320\t train_loss: 1.93 took: 0.17s\n",
            "Epoch 1, Iteration 340\t train_loss: 1.87 took: 0.16s\n",
            "Epoch 1, Iteration 360\t train_loss: 1.81 took: 0.17s\n",
            "Epoch 1, Iteration 380\t train_loss: 1.84 took: 0.17s\n",
            "Epoch 1, Iteration 400\t train_loss: 1.92 took: 0.17s\n",
            "Epoch 1, Iteration 420\t train_loss: 1.77 took: 0.18s\n",
            "Epoch 1, Iteration 440\t train_loss: 1.73 took: 0.17s\n",
            "Epoch 1, Iteration 460\t train_loss: 1.74 took: 0.17s\n",
            "Epoch 1, Iteration 480\t train_loss: 1.77 took: 0.17s\n",
            "Epoch 1, Iteration 500\t train_loss: 1.76 took: 0.17s\n",
            "Epoch 1, Iteration 520\t train_loss: 1.83 took: 0.17s\n",
            "Epoch 1, Iteration 540\t train_loss: 1.81 took: 0.19s\n",
            "Epoch 1, Iteration 560\t train_loss: 1.78 took: 0.16s\n",
            "Epoch 1, Iteration 580\t train_loss: 1.75 took: 0.17s\n",
            "Epoch 1, Iteration 600\t train_loss: 1.66 took: 0.18s\n",
            "Epoch 1, Iteration 620\t train_loss: 1.73 took: 0.17s\n",
            "Validation loss = 1.70\n",
            "Epoch 2, Iteration 20\t train_loss: 1.66 took: 0.24s\n",
            "Epoch 2, Iteration 40\t train_loss: 1.62 took: 0.17s\n",
            "Epoch 2, Iteration 60\t train_loss: 1.68 took: 0.17s\n",
            "Epoch 2, Iteration 80\t train_loss: 1.59 took: 0.17s\n",
            "Epoch 2, Iteration 100\t train_loss: 1.56 took: 0.17s\n",
            "Epoch 2, Iteration 120\t train_loss: 1.68 took: 0.17s\n",
            "Epoch 2, Iteration 140\t train_loss: 1.71 took: 0.17s\n",
            "Epoch 2, Iteration 160\t train_loss: 1.66 took: 0.18s\n",
            "Epoch 2, Iteration 180\t train_loss: 1.66 took: 0.20s\n",
            "Epoch 2, Iteration 200\t train_loss: 1.62 took: 0.18s\n",
            "Epoch 2, Iteration 220\t train_loss: 1.60 took: 0.19s\n",
            "Epoch 2, Iteration 240\t train_loss: 1.53 took: 0.18s\n",
            "Epoch 2, Iteration 260\t train_loss: 1.68 took: 0.18s\n",
            "Epoch 2, Iteration 280\t train_loss: 1.68 took: 0.19s\n",
            "Epoch 2, Iteration 300\t train_loss: 1.68 took: 0.19s\n",
            "Epoch 2, Iteration 320\t train_loss: 1.65 took: 0.18s\n",
            "Epoch 2, Iteration 340\t train_loss: 1.70 took: 0.20s\n",
            "Epoch 2, Iteration 360\t train_loss: 1.72 took: 0.18s\n",
            "Epoch 2, Iteration 380\t train_loss: 1.63 took: 0.20s\n",
            "Epoch 2, Iteration 400\t train_loss: 1.69 took: 0.20s\n",
            "Epoch 2, Iteration 420\t train_loss: 1.65 took: 0.19s\n",
            "Epoch 2, Iteration 440\t train_loss: 1.61 took: 0.20s\n",
            "Epoch 2, Iteration 460\t train_loss: 1.67 took: 0.20s\n",
            "Epoch 2, Iteration 480\t train_loss: 1.71 took: 0.19s\n",
            "Epoch 2, Iteration 500\t train_loss: 1.64 took: 0.20s\n",
            "Epoch 2, Iteration 520\t train_loss: 1.53 took: 0.19s\n",
            "Epoch 2, Iteration 540\t train_loss: 1.65 took: 0.19s\n",
            "Epoch 2, Iteration 560\t train_loss: 1.77 took: 0.19s\n",
            "Epoch 2, Iteration 580\t train_loss: 1.67 took: 0.20s\n",
            "Epoch 2, Iteration 600\t train_loss: 1.57 took: 0.17s\n",
            "Epoch 2, Iteration 620\t train_loss: 1.63 took: 0.18s\n",
            "Validation loss = 1.68\n",
            "Epoch 3, Iteration 20\t train_loss: 1.48 took: 0.25s\n",
            "Epoch 3, Iteration 40\t train_loss: 1.46 took: 0.16s\n",
            "Epoch 3, Iteration 60\t train_loss: 1.45 took: 0.17s\n",
            "Epoch 3, Iteration 80\t train_loss: 1.51 took: 0.17s\n",
            "Epoch 3, Iteration 100\t train_loss: 1.51 took: 0.17s\n",
            "Epoch 3, Iteration 120\t train_loss: 1.48 took: 0.16s\n",
            "Epoch 3, Iteration 140\t train_loss: 1.52 took: 0.17s\n",
            "Epoch 3, Iteration 160\t train_loss: 1.47 took: 0.16s\n",
            "Epoch 3, Iteration 180\t train_loss: 1.70 took: 0.17s\n",
            "Epoch 3, Iteration 200\t train_loss: 1.62 took: 0.16s\n",
            "Epoch 3, Iteration 220\t train_loss: 1.59 took: 0.19s\n",
            "Epoch 3, Iteration 240\t train_loss: 1.49 took: 0.16s\n",
            "Epoch 3, Iteration 260\t train_loss: 1.48 took: 0.17s\n",
            "Epoch 3, Iteration 280\t train_loss: 1.50 took: 0.17s\n",
            "Epoch 3, Iteration 300\t train_loss: 1.51 took: 0.20s\n",
            "Epoch 3, Iteration 320\t train_loss: 1.51 took: 0.17s\n",
            "Epoch 3, Iteration 340\t train_loss: 1.54 took: 0.18s\n",
            "Epoch 3, Iteration 360\t train_loss: 1.50 took: 0.16s\n",
            "Epoch 3, Iteration 380\t train_loss: 1.50 took: 0.18s\n",
            "Epoch 3, Iteration 400\t train_loss: 1.63 took: 0.16s\n",
            "Epoch 3, Iteration 420\t train_loss: 1.57 took: 0.18s\n",
            "Epoch 3, Iteration 440\t train_loss: 1.58 took: 0.17s\n",
            "Epoch 3, Iteration 460\t train_loss: 1.52 took: 0.20s\n",
            "Epoch 3, Iteration 480\t train_loss: 1.56 took: 0.18s\n",
            "Epoch 3, Iteration 500\t train_loss: 1.43 took: 0.18s\n",
            "Epoch 3, Iteration 520\t train_loss: 1.49 took: 0.17s\n",
            "Epoch 3, Iteration 540\t train_loss: 1.64 took: 0.16s\n",
            "Epoch 3, Iteration 560\t train_loss: 1.57 took: 0.18s\n",
            "Epoch 3, Iteration 580\t train_loss: 1.52 took: 0.18s\n",
            "Epoch 3, Iteration 600\t train_loss: 1.54 took: 0.16s\n",
            "Epoch 3, Iteration 620\t train_loss: 1.51 took: 0.17s\n",
            "Validation loss = 1.58\n",
            "Epoch 4, Iteration 20\t train_loss: 1.27 took: 0.24s\n",
            "Epoch 4, Iteration 40\t train_loss: 1.32 took: 0.16s\n",
            "Epoch 4, Iteration 60\t train_loss: 1.35 took: 0.17s\n",
            "Epoch 4, Iteration 80\t train_loss: 1.40 took: 0.18s\n",
            "Epoch 4, Iteration 100\t train_loss: 1.38 took: 0.18s\n",
            "Epoch 4, Iteration 120\t train_loss: 1.48 took: 0.17s\n",
            "Epoch 4, Iteration 140\t train_loss: 1.50 took: 0.17s\n",
            "Epoch 4, Iteration 160\t train_loss: 1.47 took: 0.17s\n",
            "Epoch 4, Iteration 180\t train_loss: 1.45 took: 0.17s\n",
            "Epoch 4, Iteration 200\t train_loss: 1.42 took: 0.17s\n",
            "Epoch 4, Iteration 220\t train_loss: 1.43 took: 0.17s\n",
            "Epoch 4, Iteration 240\t train_loss: 1.36 took: 0.17s\n",
            "Epoch 4, Iteration 260\t train_loss: 1.44 took: 0.16s\n",
            "Epoch 4, Iteration 280\t train_loss: 1.47 took: 0.18s\n",
            "Epoch 4, Iteration 300\t train_loss: 1.48 took: 0.17s\n",
            "Epoch 4, Iteration 320\t train_loss: 1.50 took: 0.18s\n",
            "Epoch 4, Iteration 340\t train_loss: 1.47 took: 0.18s\n",
            "Epoch 4, Iteration 360\t train_loss: 1.40 took: 0.17s\n",
            "Epoch 4, Iteration 380\t train_loss: 1.47 took: 0.18s\n",
            "Epoch 4, Iteration 400\t train_loss: 1.58 took: 0.17s\n",
            "Epoch 4, Iteration 420\t train_loss: 1.55 took: 0.19s\n",
            "Epoch 4, Iteration 440\t train_loss: 1.41 took: 0.18s\n",
            "Epoch 4, Iteration 460\t train_loss: 1.45 took: 0.17s\n",
            "Epoch 4, Iteration 480\t train_loss: 1.45 took: 0.17s\n",
            "Epoch 4, Iteration 500\t train_loss: 1.48 took: 0.17s\n",
            "Epoch 4, Iteration 520\t train_loss: 1.54 took: 0.17s\n",
            "Epoch 4, Iteration 540\t train_loss: 1.49 took: 0.18s\n",
            "Epoch 4, Iteration 560\t train_loss: 1.41 took: 0.17s\n",
            "Epoch 4, Iteration 580\t train_loss: 1.53 took: 0.18s\n",
            "Epoch 4, Iteration 600\t train_loss: 1.48 took: 0.16s\n",
            "Epoch 4, Iteration 620\t train_loss: 1.45 took: 0.17s\n",
            "Validation loss = 1.61\n",
            "Epoch 5, Iteration 20\t train_loss: 1.35 took: 0.29s\n",
            "Epoch 5, Iteration 40\t train_loss: 1.30 took: 0.19s\n",
            "Epoch 5, Iteration 60\t train_loss: 1.31 took: 0.19s\n",
            "Epoch 5, Iteration 80\t train_loss: 1.36 took: 0.18s\n",
            "Epoch 5, Iteration 100\t train_loss: 1.36 took: 0.18s\n",
            "Epoch 5, Iteration 120\t train_loss: 1.45 took: 0.17s\n",
            "Epoch 5, Iteration 140\t train_loss: 1.35 took: 0.18s\n",
            "Epoch 5, Iteration 160\t train_loss: 1.40 took: 0.18s\n",
            "Epoch 5, Iteration 180\t train_loss: 1.23 took: 0.17s\n",
            "Epoch 5, Iteration 200\t train_loss: 1.32 took: 0.17s\n",
            "Epoch 5, Iteration 220\t train_loss: 1.40 took: 0.18s\n",
            "Epoch 5, Iteration 240\t train_loss: 1.40 took: 0.16s\n",
            "Epoch 5, Iteration 260\t train_loss: 1.30 took: 0.17s\n",
            "Epoch 5, Iteration 280\t train_loss: 1.43 took: 0.18s\n",
            "Epoch 5, Iteration 300\t train_loss: 1.44 took: 0.18s\n",
            "Epoch 5, Iteration 320\t train_loss: 1.38 took: 0.18s\n",
            "Epoch 5, Iteration 340\t train_loss: 1.39 took: 0.17s\n",
            "Epoch 5, Iteration 360\t train_loss: 1.35 took: 0.17s\n",
            "Epoch 5, Iteration 380\t train_loss: 1.42 took: 0.18s\n",
            "Epoch 5, Iteration 400\t train_loss: 1.46 took: 0.18s\n",
            "Epoch 5, Iteration 420\t train_loss: 1.46 took: 0.19s\n",
            "Epoch 5, Iteration 440\t train_loss: 1.41 took: 0.17s\n",
            "Epoch 5, Iteration 460\t train_loss: 1.39 took: 0.18s\n",
            "Epoch 5, Iteration 480\t train_loss: 1.37 took: 0.17s\n",
            "Epoch 5, Iteration 500\t train_loss: 1.45 took: 0.20s\n",
            "Epoch 5, Iteration 520\t train_loss: 1.44 took: 0.18s\n",
            "Epoch 5, Iteration 540\t train_loss: 1.45 took: 0.17s\n",
            "Epoch 5, Iteration 560\t train_loss: 1.41 took: 0.19s\n",
            "Epoch 5, Iteration 580\t train_loss: 1.42 took: 0.20s\n",
            "Epoch 5, Iteration 600\t train_loss: 1.49 took: 0.20s\n",
            "Epoch 5, Iteration 620\t train_loss: 1.41 took: 0.21s\n",
            "Validation loss = 1.64\n",
            "Epoch 6, Iteration 20\t train_loss: 1.33 took: 0.24s\n",
            "Epoch 6, Iteration 40\t train_loss: 1.28 took: 0.18s\n",
            "Epoch 6, Iteration 60\t train_loss: 1.19 took: 0.19s\n",
            "Epoch 6, Iteration 80\t train_loss: 1.25 took: 0.18s\n",
            "Epoch 6, Iteration 100\t train_loss: 1.26 took: 0.20s\n",
            "Epoch 6, Iteration 120\t train_loss: 1.32 took: 0.19s\n",
            "Epoch 6, Iteration 140\t train_loss: 1.29 took: 0.19s\n",
            "Epoch 6, Iteration 160\t train_loss: 1.35 took: 0.17s\n",
            "Epoch 6, Iteration 180\t train_loss: 1.33 took: 0.18s\n",
            "Epoch 6, Iteration 200\t train_loss: 1.35 took: 0.17s\n",
            "Epoch 6, Iteration 220\t train_loss: 1.35 took: 0.18s\n",
            "Epoch 6, Iteration 240\t train_loss: 1.34 took: 0.16s\n",
            "Epoch 6, Iteration 260\t train_loss: 1.40 took: 0.17s\n",
            "Epoch 6, Iteration 280\t train_loss: 1.36 took: 0.16s\n",
            "Epoch 6, Iteration 300\t train_loss: 1.43 took: 0.18s\n",
            "Epoch 6, Iteration 320\t train_loss: 1.33 took: 0.17s\n",
            "Epoch 6, Iteration 340\t train_loss: 1.25 took: 0.17s\n",
            "Epoch 6, Iteration 360\t train_loss: 1.31 took: 0.16s\n",
            "Epoch 6, Iteration 380\t train_loss: 1.29 took: 0.18s\n",
            "Epoch 6, Iteration 400\t train_loss: 1.35 took: 0.17s\n",
            "Epoch 6, Iteration 420\t train_loss: 1.34 took: 0.18s\n",
            "Epoch 6, Iteration 440\t train_loss: 1.43 took: 0.20s\n",
            "Epoch 6, Iteration 460\t train_loss: 1.41 took: 0.18s\n",
            "Epoch 6, Iteration 480\t train_loss: 1.43 took: 0.17s\n",
            "Epoch 6, Iteration 500\t train_loss: 1.30 took: 0.18s\n",
            "Epoch 6, Iteration 520\t train_loss: 1.35 took: 0.17s\n",
            "Epoch 6, Iteration 540\t train_loss: 1.46 took: 0.18s\n",
            "Epoch 6, Iteration 560\t train_loss: 1.36 took: 0.17s\n",
            "Epoch 6, Iteration 580\t train_loss: 1.44 took: 0.18s\n",
            "Epoch 6, Iteration 600\t train_loss: 1.37 took: 0.16s\n",
            "Epoch 6, Iteration 620\t train_loss: 1.33 took: 0.20s\n",
            "Validation loss = 1.63\n",
            "Epoch 7, Iteration 20\t train_loss: 1.34 took: 0.25s\n",
            "Epoch 7, Iteration 40\t train_loss: 1.28 took: 0.16s\n",
            "Epoch 7, Iteration 60\t train_loss: 1.24 took: 0.18s\n",
            "Epoch 7, Iteration 80\t train_loss: 1.26 took: 0.17s\n",
            "Epoch 7, Iteration 100\t train_loss: 1.19 took: 0.18s\n",
            "Epoch 7, Iteration 120\t train_loss: 1.24 took: 0.17s\n",
            "Epoch 7, Iteration 140\t train_loss: 1.24 took: 0.17s\n",
            "Epoch 7, Iteration 160\t train_loss: 1.24 took: 0.17s\n",
            "Epoch 7, Iteration 180\t train_loss: 1.18 took: 0.17s\n",
            "Epoch 7, Iteration 200\t train_loss: 1.25 took: 0.18s\n",
            "Epoch 7, Iteration 220\t train_loss: 1.20 took: 0.18s\n",
            "Epoch 7, Iteration 240\t train_loss: 1.34 took: 0.17s\n",
            "Epoch 7, Iteration 260\t train_loss: 1.32 took: 0.18s\n",
            "Epoch 7, Iteration 280\t train_loss: 1.29 took: 0.17s\n",
            "Epoch 7, Iteration 300\t train_loss: 1.30 took: 0.19s\n",
            "Epoch 7, Iteration 320\t train_loss: 1.26 took: 0.18s\n",
            "Epoch 7, Iteration 340\t train_loss: 1.29 took: 0.19s\n",
            "Epoch 7, Iteration 360\t train_loss: 1.31 took: 0.20s\n",
            "Epoch 7, Iteration 380\t train_loss: 1.35 took: 0.19s\n",
            "Epoch 7, Iteration 400\t train_loss: 1.38 took: 0.19s\n",
            "Epoch 7, Iteration 420\t train_loss: 1.36 took: 0.19s\n",
            "Epoch 7, Iteration 440\t train_loss: 1.32 took: 0.17s\n",
            "Epoch 7, Iteration 460\t train_loss: 1.29 took: 0.18s\n",
            "Epoch 7, Iteration 480\t train_loss: 1.26 took: 0.17s\n",
            "Epoch 7, Iteration 500\t train_loss: 1.28 took: 0.19s\n",
            "Epoch 7, Iteration 520\t train_loss: 1.24 took: 0.17s\n",
            "Epoch 7, Iteration 540\t train_loss: 1.23 took: 0.18s\n",
            "Epoch 7, Iteration 560\t train_loss: 1.35 took: 0.17s\n",
            "Epoch 7, Iteration 580\t train_loss: 1.37 took: 0.18s\n",
            "Epoch 7, Iteration 600\t train_loss: 1.41 took: 0.17s\n",
            "Epoch 7, Iteration 620\t train_loss: 1.32 took: 0.18s\n",
            "Validation loss = 1.70\n",
            "Epoch 8, Iteration 20\t train_loss: 1.21 took: 0.27s\n",
            "Epoch 8, Iteration 40\t train_loss: 1.20 took: 0.17s\n",
            "Epoch 8, Iteration 60\t train_loss: 1.22 took: 0.17s\n",
            "Epoch 8, Iteration 80\t train_loss: 1.27 took: 0.17s\n",
            "Epoch 8, Iteration 100\t train_loss: 1.22 took: 0.18s\n",
            "Epoch 8, Iteration 120\t train_loss: 1.30 took: 0.18s\n",
            "Epoch 8, Iteration 140\t train_loss: 1.20 took: 0.20s\n",
            "Epoch 8, Iteration 160\t train_loss: 1.20 took: 0.17s\n",
            "Epoch 8, Iteration 180\t train_loss: 1.25 took: 0.16s\n",
            "Epoch 8, Iteration 200\t train_loss: 1.20 took: 0.16s\n",
            "Epoch 8, Iteration 220\t train_loss: 1.23 took: 0.18s\n",
            "Epoch 8, Iteration 240\t train_loss: 1.16 took: 0.17s\n",
            "Epoch 8, Iteration 260\t train_loss: 1.27 took: 0.20s\n",
            "Epoch 8, Iteration 280\t train_loss: 1.23 took: 0.19s\n",
            "Epoch 8, Iteration 300\t train_loss: 1.19 took: 0.20s\n",
            "Epoch 8, Iteration 320\t train_loss: 1.27 took: 0.19s\n",
            "Epoch 8, Iteration 340\t train_loss: 1.19 took: 0.17s\n",
            "Epoch 8, Iteration 360\t train_loss: 1.23 took: 0.19s\n",
            "Epoch 8, Iteration 380\t train_loss: 1.21 took: 0.18s\n",
            "Epoch 8, Iteration 400\t train_loss: 1.25 took: 0.18s\n",
            "Epoch 8, Iteration 420\t train_loss: 1.32 took: 0.18s\n",
            "Epoch 8, Iteration 440\t train_loss: 1.25 took: 0.17s\n",
            "Epoch 8, Iteration 460\t train_loss: 1.32 took: 0.18s\n",
            "Epoch 8, Iteration 480\t train_loss: 1.29 took: 0.18s\n",
            "Epoch 8, Iteration 500\t train_loss: 1.30 took: 0.18s\n",
            "Epoch 8, Iteration 520\t train_loss: 1.35 took: 0.16s\n",
            "Epoch 8, Iteration 540\t train_loss: 1.28 took: 0.18s\n",
            "Epoch 8, Iteration 560\t train_loss: 1.31 took: 0.17s\n",
            "Epoch 8, Iteration 580\t train_loss: 1.23 took: 0.17s\n",
            "Epoch 8, Iteration 600\t train_loss: 1.23 took: 0.19s\n",
            "Epoch 8, Iteration 620\t train_loss: 1.28 took: 0.21s\n",
            "Validation loss = 1.72\n",
            "Epoch 9, Iteration 20\t train_loss: 1.15 took: 0.24s\n",
            "Epoch 9, Iteration 40\t train_loss: 1.10 took: 0.16s\n",
            "Epoch 9, Iteration 60\t train_loss: 1.19 took: 0.17s\n",
            "Epoch 9, Iteration 80\t train_loss: 1.15 took: 0.16s\n",
            "Epoch 9, Iteration 100\t train_loss: 1.15 took: 0.19s\n",
            "Epoch 9, Iteration 120\t train_loss: 1.17 took: 0.17s\n",
            "Epoch 9, Iteration 140\t train_loss: 1.24 took: 0.17s\n",
            "Epoch 9, Iteration 160\t train_loss: 1.17 took: 0.17s\n",
            "Epoch 9, Iteration 180\t train_loss: 1.15 took: 0.18s\n",
            "Epoch 9, Iteration 200\t train_loss: 1.28 took: 0.17s\n",
            "Epoch 9, Iteration 220\t train_loss: 1.18 took: 0.18s\n",
            "Epoch 9, Iteration 240\t train_loss: 1.12 took: 0.16s\n",
            "Epoch 9, Iteration 260\t train_loss: 1.26 took: 0.18s\n",
            "Epoch 9, Iteration 280\t train_loss: 1.23 took: 0.16s\n",
            "Epoch 9, Iteration 300\t train_loss: 1.15 took: 0.17s\n",
            "Epoch 9, Iteration 320\t train_loss: 1.23 took: 0.18s\n",
            "Epoch 9, Iteration 340\t train_loss: 1.21 took: 0.18s\n",
            "Epoch 9, Iteration 360\t train_loss: 1.26 took: 0.17s\n",
            "Epoch 9, Iteration 380\t train_loss: 1.16 took: 0.17s\n",
            "Epoch 9, Iteration 400\t train_loss: 1.29 took: 0.17s\n",
            "Epoch 9, Iteration 420\t train_loss: 1.31 took: 0.19s\n",
            "Epoch 9, Iteration 440\t train_loss: 1.32 took: 0.18s\n",
            "Epoch 9, Iteration 460\t train_loss: 1.35 took: 0.18s\n",
            "Epoch 9, Iteration 480\t train_loss: 1.31 took: 0.16s\n",
            "Epoch 9, Iteration 500\t train_loss: 1.28 took: 0.18s\n",
            "Epoch 9, Iteration 520\t train_loss: 1.23 took: 0.17s\n",
            "Epoch 9, Iteration 540\t train_loss: 1.23 took: 0.18s\n",
            "Epoch 9, Iteration 560\t train_loss: 1.25 took: 0.19s\n",
            "Epoch 9, Iteration 580\t train_loss: 1.18 took: 0.20s\n",
            "Epoch 9, Iteration 600\t train_loss: 1.26 took: 0.17s\n",
            "Epoch 9, Iteration 620\t train_loss: 1.31 took: 0.17s\n",
            "Validation loss = 1.74\n",
            "Epoch 10, Iteration 20\t train_loss: 1.10 took: 0.24s\n",
            "Epoch 10, Iteration 40\t train_loss: 1.05 took: 0.17s\n",
            "Epoch 10, Iteration 60\t train_loss: 1.15 took: 0.18s\n",
            "Epoch 10, Iteration 80\t train_loss: 1.07 took: 0.16s\n",
            "Epoch 10, Iteration 100\t train_loss: 1.15 took: 0.17s\n",
            "Epoch 10, Iteration 120\t train_loss: 1.14 took: 0.16s\n",
            "Epoch 10, Iteration 140\t train_loss: 1.15 took: 0.18s\n",
            "Epoch 10, Iteration 160\t train_loss: 1.15 took: 0.17s\n",
            "Epoch 10, Iteration 180\t train_loss: 1.16 took: 0.18s\n",
            "Epoch 10, Iteration 200\t train_loss: 1.03 took: 0.16s\n",
            "Epoch 10, Iteration 220\t train_loss: 1.14 took: 0.18s\n",
            "Epoch 10, Iteration 240\t train_loss: 1.20 took: 0.16s\n",
            "Epoch 10, Iteration 260\t train_loss: 1.17 took: 0.18s\n",
            "Epoch 10, Iteration 280\t train_loss: 1.15 took: 0.17s\n",
            "Epoch 10, Iteration 300\t train_loss: 1.22 took: 0.19s\n",
            "Epoch 10, Iteration 320\t train_loss: 1.05 took: 0.17s\n",
            "Epoch 10, Iteration 340\t train_loss: 1.13 took: 0.18s\n",
            "Epoch 10, Iteration 360\t train_loss: 1.14 took: 0.18s\n",
            "Epoch 10, Iteration 380\t train_loss: 1.19 took: 0.18s\n",
            "Epoch 10, Iteration 400\t train_loss: 1.24 took: 0.17s\n",
            "Epoch 10, Iteration 420\t train_loss: 1.20 took: 0.19s\n",
            "Epoch 10, Iteration 440\t train_loss: 1.20 took: 0.17s\n",
            "Epoch 10, Iteration 460\t train_loss: 1.23 took: 0.18s\n",
            "Epoch 10, Iteration 480\t train_loss: 1.22 took: 0.18s\n",
            "Epoch 10, Iteration 500\t train_loss: 1.23 took: 0.20s\n",
            "Epoch 10, Iteration 520\t train_loss: 1.17 took: 0.20s\n",
            "Epoch 10, Iteration 540\t train_loss: 1.20 took: 0.20s\n",
            "Epoch 10, Iteration 560\t train_loss: 1.26 took: 0.18s\n",
            "Epoch 10, Iteration 580\t train_loss: 1.22 took: 0.18s\n",
            "Epoch 10, Iteration 600\t train_loss: 1.28 took: 0.17s\n",
            "Epoch 10, Iteration 620\t train_loss: 1.20 took: 0.17s\n",
            "Validation loss = 1.87\n",
            "Training finished, took 65.15s\n"
          ],
          "name": "stdout"
        }
      ]
    },
    {
      "cell_type": "markdown",
      "metadata": {
        "id": "bz_kZWhpEhuT",
        "colab_type": "text"
      },
      "source": [
        "For this problem the speedup of using a GPU is not as great as it would be for other problems (here the speedup is 2-3x).  Generally the bigger the network is (e.g., bigger images) the greater the speedup.  If you want to play around with this on your own, go the model architecture section and change the device variable to \"cpu\"."
      ]
    },
    {
      "cell_type": "markdown",
      "metadata": {
        "id": "Fh1Z2O3QzVNd",
        "colab_type": "text"
      },
      "source": [
        "## Testing\n",
        "Lets check the outputs of our network. First Let's plot the loss of the network over time to see if any learning actually occured."
      ]
    },
    {
      "cell_type": "code",
      "metadata": {
        "id": "rbLDTiF960zY",
        "colab_type": "code",
        "outputId": "70e3f6b8-88bd-4926-be00-88ec2cf3831b",
        "colab": {
          "base_uri": "https://localhost:8080/",
          "height": 283
        }
      },
      "source": [
        "plt.plot(train_hist_x,train_loss_hist)\n",
        "plt.plot(test_hist_x,test_loss_hist)\n",
        "plt.legend(['train loss', 'validation loss'])\n",
        "plt.xlabel('Batch number')\n",
        "plt.ylabel('Loss')\n",
        "plt.show()"
      ],
      "execution_count": 0,
      "outputs": [
        {
          "output_type": "display_data",
          "data": {
            "image/png": "[encoded data removed]",
            "text/plain": [
              "<Figure size 432x288 with 1 Axes>"
            ]
          },
          "metadata": {
            "tags": []
          }
        }
      ]
    },
    {
      "cell_type": "markdown",
      "metadata": {
        "id": "pi-WwSRpPA-O",
        "colab_type": "text"
      },
      "source": [
        "#### Exercise\n",
        "\n",
        "Interpret what is happening in these curves.  Why is the training curve sampled so much more often (hint: look at the train_model function)?  Why is the training loss noisier (hint: again, look at the train_model function)?  What do the shapes of the curves say about how the model training is going (i.e., is everything going great, are we overfitting?)?"
      ]
    },
    {
      "cell_type": "markdown",
      "metadata": {
        "id": "t-35nSvVIbiT",
        "colab_type": "text"
      },
      "source": [
        "#### Solution"
      ]
    },
    {
      "cell_type": "markdown",
      "metadata": {
        "id": "umz1sOrpIduk",
        "colab_type": "text"
      },
      "source": [
        "The training loss is evaluated after each mini batch so it is sampled more densely.\n",
        "\n",
        "The training loss is evaluated only on the elements of the mini-batch (32 images), therefore it is much more subject to the random variation in the datta than the validation loss that is computed over the entire validation set.\n",
        "\n",
        "These curves show that overfitting is occurring since the trianing loss is going down while the validation loss stays constant (or maybe goes up a bit)."
      ]
    },
    {
      "cell_type": "markdown",
      "metadata": {
        "id": "41PUNs48Ifgt",
        "colab_type": "text"
      },
      "source": [
        "### Showing Model Predictions\n",
        "\n",
        "For more subjective santiy-checking, we can plot some images and see what our network predicts vs the ground truth label."
      ]
    },
    {
      "cell_type": "code",
      "metadata": {
        "id": "RDL5SibNzUuV",
        "colab_type": "code",
        "outputId": "77f6816a-d076-4298-fb76-074fad0cd293",
        "colab": {
          "base_uri": "https://localhost:8080/",
          "height": 281
        }
      },
      "source": [
        "def examine_label(idx):\n",
        "    image, label = test_set[idx]\n",
        "    class_scores = net(Variable(image.unsqueeze(0)).to(device))\n",
        "    prediction = np.argmax(class_scores.cpu().detach().numpy())\n",
        "    disp_image(image, label, prediction)\n",
        "\n",
        "examine_label(20)"
      ],
      "execution_count": 0,
      "outputs": [
        {
          "output_type": "display_data",
          "data": {
            "image/png": "[encoded data removed]",
            "text/plain": [
              "<Figure size 432x288 with 1 Axes>"
            ]
          },
          "metadata": {
            "tags": []
          }
        }
      ]
    },
    {
      "cell_type": "markdown",
      "metadata": {
        "id": "fOcWaPLpAWYB",
        "colab_type": "text"
      },
      "source": [
        "## Computing Accuracy\n",
        "\n",
        "The plots of the losses over time give us a sense of how the network is learning.  The losses themselves, however, may not provide a super accurate idea of how the network is actually doing at its task (predicting the correct labels).  We'll do it for the training set."
      ]
    },
    {
      "cell_type": "code",
      "metadata": {
        "id": "a9gR_izeApfA",
        "colab_type": "code",
        "outputId": "335cc3ab-8b14-40d9-89d2-ea5b71563c24",
        "colab": {
          "base_uri": "https://localhost:8080/",
          "height": 34
        }
      },
      "source": [
        "n_correct = 0\n",
        "n_total = 0\n",
        "for i, data in enumerate(train_loader, 0):\n",
        "    # Get inputs in right form\n",
        "    inputs, labels = data\n",
        "    inputs, labels = Variable(inputs).to(device), Variable(labels).to(device)\n",
        "\n",
        "    # Forward pass\n",
        "    outputs = net(inputs)\n",
        "    n_correct += np.sum(np.argmax(outputs.cpu().detach().numpy(), axis=1) == labels.cpu().numpy())\n",
        "    n_total += labels.shape[0]\n",
        "print(\"Training accuracy is\", n_correct/n_total)"
      ],
      "execution_count": 0,
      "outputs": [
        {
          "output_type": "stream",
          "text": [
            "Training accuracy is 0.60415\n"
          ],
          "name": "stdout"
        }
      ]
    },
    {
      "cell_type": "markdown",
      "metadata": {
        "id": "b3UCwZ3mB5eo",
        "colab_type": "text"
      },
      "source": [
        "### Exercise\n",
        "\n",
        "Adapt this code so that it computes the accuracy on the test set.  Hint: consider factoring this out into a function to make it more flexible.  If you create a function, you'll want to pass in `net` and `loader` as inputs."
      ]
    },
    {
      "cell_type": "markdown",
      "metadata": {
        "id": "gR7HRd3vCFEo",
        "colab_type": "text"
      },
      "source": [
        "#### ***Solution***"
      ]
    },
    {
      "cell_type": "code",
      "metadata": {
        "id": "Lyw-OfHCBjV9",
        "colab_type": "code",
        "outputId": "b1da73e3-ee6e-47fd-c258-16b40186389c",
        "colab": {
          "base_uri": "https://localhost:8080/",
          "height": 51
        }
      },
      "source": [
        "def get_accuracy(net, loader):\n",
        "    n_correct = 0\n",
        "    n_total = 0\n",
        "    for i, data in enumerate(loader, 0):\n",
        "        # Get inputs in right form\n",
        "        inputs, labels = data\n",
        "        inputs, labels = Variable(inputs).to(device), Variable(labels).to(device)\n",
        "\n",
        "        # Forward pass\n",
        "        outputs = net(inputs)\n",
        "        n_correct += np.sum(np.argmax(outputs.cpu().detach().numpy(), axis=1) == labels.cpu().numpy())\n",
        "        n_total += labels.shape[0]\n",
        "    return n_correct/n_total\n",
        "print(\"Train accuracy is\", get_accuracy(net, train_loader))\n",
        "print(\"Test accuracy is\", get_accuracy(net, test_loader))"
      ],
      "execution_count": 0,
      "outputs": [
        {
          "output_type": "stream",
          "text": [
            "Train accuracy is 0.60415\n",
            "Test accuracy is 0.4392\n"
          ],
          "name": "stdout"
        }
      ]
    },
    {
      "cell_type": "markdown",
      "metadata": {
        "id": "vz_rgc__DKpE",
        "colab_type": "text"
      },
      "source": [
        "## Model Visualization\n",
        "\n",
        "There are some really cool visualizations you can create based on your neural network (e.g., [here](https://mc.ai/feature-visualisation-in-pytorch%E2%80%8A-%E2%80%8Asaliency-maps/)).  You saw some of them in the assignment when you looked at the convnet.js examples.  We won't do anything nearly that fancy.  For now, let's just look at convolutional kernels learned by our model."
      ]
    },
    {
      "cell_type": "code",
      "metadata": {
        "id": "zIZYhXuU54sB",
        "colab_type": "code",
        "outputId": "027f525e-d248-4654-a71e-eaa6c4db4f85",
        "colab": {
          "base_uri": "https://localhost:8080/",
          "height": 269
        }
      },
      "source": [
        "plt.subplots(4, 4)\n",
        "for i in range(net.conv1.weight.shape[0]):\n",
        "    plt.subplot(4, 4, i+1)\n",
        "    kernel = net.conv1.weight[i].cpu().detach().numpy()\n",
        "    im = kernel.mean(axis=0)\n",
        "    plt.pcolor(im, cmap='gray')\n",
        "plt.show()"
      ],
      "execution_count": 0,
      "outputs": [
        {
          "output_type": "display_data",
          "data": {
            "image/png": "[encoded data removed]",
            "text/plain": [
              "<Figure size 432x288 with 16 Axes>"
            ]
          },
          "metadata": {
            "tags": []
          }
        }
      ]
    },
    {
      "cell_type": "markdown",
      "metadata": {
        "id": "M3GhHSCS71_E",
        "colab_type": "text"
      },
      "source": [
        "There's not really all that much to see here.  These look like some edge filters.  Maybe if we use a 5 by 5 kernel they will be more interesting?\n",
        "\n",
        "Nick Steelman made some fancy visualizations for this network along the lines of the gradient activations we saw in the convnet.js example.  For this super small network, they're not really all that interpretable, but here they are in case you are interested.\n",
        "\n",
        "Please don't get hung up on trying to interpret these.  We will be giving more guidance on visualizing network features for the project.\n",
        "\n",
        "Explanation of images from left to right:\n",
        "\n",
        "1. Gradient of the network towards ground truth label\n",
        "2. Gradient of the network towards ground truth label overlayed with image\n",
        "3. Original image\n",
        "4. Gradient of the network towards predicted label overlayed with image\n",
        "5. Gradient of the network towards predicted label\n",
        "6. Precentage difference between the true and predicted gradients\n",
        "7. What pixels the network should pay more attention to fix this error\n",
        "8. What pixels the network should pay less attention to fix this error\n",
        "\n",
        "![](https://raw.githubusercontent.com/mlfa19/assignments/master/Module%201/08/conv_net_viz.png)"
      ]
    },
    {
      "cell_type": "markdown",
      "metadata": {
        "id": "iEJOv9NpDHEc",
        "colab_type": "text"
      },
      "source": [
        "## Model Iteration\n",
        "\n",
        "### Exercise\n",
        "\n",
        "At this point, try to change your model and see what happens (not necessarily to improve its performance). Here are some possibilities.\n",
        "\n",
        "* Change the size of some layer to either increase or decrease model complexity.\n",
        "* Change the activation function in the network to sigmoid or some other function.\n",
        "* Change the batch size.\n",
        "* Increase or decrease the number of epochs.\n",
        "\n",
        "***Tip: when making these changes, consider modifying your neural network class to allow for whatever you are changing to be customized, rather than just hardcoding new values*** For example, if I wanted to try changing the number of convolutional kernels, I might modify my `__init__` function to take this number as a new input (see solution below for details of this example).\n",
        "\n",
        "Run your new model, compare the performance with the default network, and visualize the model."
      ]
    },
    {
      "cell_type": "markdown",
      "metadata": {
        "id": "Z7W3Yj0pERHg",
        "colab_type": "text"
      },
      "source": [
        "#### ***Solution***"
      ]
    },
    {
      "cell_type": "code",
      "metadata": {
        "id": "9qiSi6g8EGJN",
        "colab_type": "code",
        "outputId": "9ecc7970-d023-4dd6-8bc9-120e55bea158",
        "colab": {
          "base_uri": "https://localhost:8080/",
          "height": 678
        }
      },
      "source": [
        "# ***Solution***\n",
        "class MyCNN(nn.Module):\n",
        "    # The init funciton in Pytorch classes is used to keep track of the parameters of the model\n",
        "    # specifically the ones we want to update with gradient descent + backprop\n",
        "    # So we need to make sure we keep track of all of them here\n",
        "    def __init__(self, num_kernels):\n",
        "        super(MyCNN, self).__init__()\n",
        "        # layers defined here\n",
        "\n",
        "        # Make sure you understand what this convolutional layer is doing.\n",
        "        # E.g., considering looking at help(nn.Conv2D).  Draw a picture of what\n",
        "        # this layer does to the data.\n",
        "        self.conv1 = nn.Conv2d(image_dims[0], num_kernels, kernel_size=3, stride=1, padding=1)\n",
        "\n",
        "        # Make sure you understand what this MaxPool2D layer is doing.\n",
        "        # E.g., considering looking at help(nn.MaxPool2D).  Draw a picture of\n",
        "        # what this layer does to the data.\n",
        "\n",
        "        self.pool = nn.MaxPool2d(kernel_size=2, stride=2, padding=0)\n",
        "\n",
        "        # maxpool_output_size is the total amount of data coming out of that\n",
        "        # layer.  Explain why the line of code below computes this quantity.\n",
        "        self.maxpool_output_size = int(num_kernels * (image_dims[1] / 2) * (image_dims[2] / 2))\n",
        "\n",
        "        # Add on a fully connected layer (like in our MLP)\n",
        "        # fc stands for fully connected\n",
        "        fc1_size = 64\n",
        "        self.fc1 = nn.Linear(self.maxpool_output_size, fc1_size)\n",
        "\n",
        "        # we'll use this activation function internally in the network\n",
        "        self.activation_func = torch.nn.ReLU()\n",
        "\n",
        "        # Convert our fully connected layer into outputs that we can compare to the result\n",
        "        fc2_size = len(classes)\n",
        "        self.fc2 = nn.Linear(fc1_size, fc2_size)\n",
        "\n",
        "        # Note: that the output will not represent the probability of the\n",
        "        # output being in each class.  The loss function we will use\n",
        "        # `CrossEntropyLoss` will take care of convering these values to\n",
        "        # probabilities and then computing the log loss with respect to the\n",
        "        # true label.  We could break this out into multiple steps, but it turns\n",
        "        # out that the algorithm will be more numerically stable if we do it in\n",
        "        # one go.  We have included a cell to show you the documentation for\n",
        "        # `CrossEntropyLoss` if you'd like to check it out.\n",
        "        \n",
        "    # The forward function in the class defines the operations performed on a given input to the model\n",
        "    # and returns the output of the model\n",
        "    def forward(self, x):\n",
        "        x = self.conv1(x)\n",
        "        x = self.pool(x)\n",
        "        x = self.activation_func(x)\n",
        "        # this code flattens the output of the convolution, max pool,\n",
        "        # activation sequence of steps into a vector\n",
        "        x = x.view(-1, self.maxpool_output_size)\n",
        "        x = self.fc1(x)\n",
        "        x = self.activation_func(x)\n",
        "        x = self.fc2(x)\n",
        "        return x\n",
        "\n",
        "    # The loss function (which we chose to include as a method of the class, but doesn't need to be)\n",
        "    # returns the loss and optimizer used by the model\n",
        "    def get_loss(self, learning_rate):\n",
        "      # Loss function\n",
        "      loss = nn.CrossEntropyLoss()\n",
        "      # Optimizer, self.parameters() returns all the Pytorch operations that are attributes of the class\n",
        "      optimizer = optim.Adam(self.parameters(), lr=learning_rate)\n",
        "      return loss, optimizer\n",
        "\n",
        "# Initialize the model, loss, and optimization function\n",
        "net = MyCNN(128)\n",
        "# This tells our model to send all of the tensors and operations to the GPU (or keep them at the CPU if we're not using GPU)\n",
        "net.to(device)\n",
        "# visualize the model\n",
        "visualize_network(net)"
      ],
      "execution_count": 0,
      "outputs": [
        {
          "output_type": "execute_result",
          "data": {
            "text/plain": [
              "<graphviz.dot.Digraph at 0x7f0fdd9f3940>"
            ],
            "image/svg+xml": "<?xml version=\"1.0\" encoding=\"UTF-8\" standalone=\"no\"?>\n<!DOCTYPE svg PUBLIC \"-//W3C//DTD SVG 1.1//EN\"\n \"http://www.w3.org/Graphics/SVG/1.1/DTD/svg11.dtd\">\n<!-- Generated by graphviz version 2.40.1 (20161225.0304)\n -->\n<!-- Title: %3 Pages: 1 -->\n<svg width=\"267pt\" height=\"493pt\"\n viewBox=\"0.00 0.00 266.50 493.00\" xmlns=\"http://www.w3.org/2000/svg\" xmlns:xlink=\"http://www.w3.org/1999/xlink\">\n<g id=\"graph0\" class=\"graph\" transform=\"scale(1 1) rotate(0) translate(4 489)\">\n<title>%3</title>\n<polygon fill=\"#ffffff\" stroke=\"transparent\" points=\"-4,4 -4,-489 262.5,-489 262.5,4 -4,4\"/>\n<!-- 139704040614432 -->\n<g id=\"node1\" class=\"node\">\n<title>139704040614432</title>\n<polygon fill=\"#caff70\" stroke=\"#000000\" points=\"171,-21 67,-21 67,0 171,0 171,-21\"/>\n<text text-anchor=\"middle\" x=\"119\" y=\"-7.4\" font-family=\"Times,serif\" font-size=\"12.00\" fill=\"#000000\">AddmmBackward</text>\n</g>\n<!-- 139704040613816 -->\n<g id=\"node2\" class=\"node\">\n<title>139704040613816</title>\n<polygon fill=\"#add8e6\" stroke=\"#000000\" points=\"54,-91 0,-91 0,-57 54,-57 54,-91\"/>\n<text text-anchor=\"middle\" x=\"27\" y=\"-77.4\" font-family=\"Times,serif\" font-size=\"12.00\" fill=\"#000000\">fc2.bias</text>\n<text text-anchor=\"middle\" x=\"27\" y=\"-64.4\" font-family=\"Times,serif\" font-size=\"12.00\" fill=\"#000000\"> (10)</text>\n</g>\n<!-- 139704040613816&#45;&gt;139704040614432 -->\n<g id=\"edge1\" class=\"edge\">\n<title>139704040613816&#45;&gt;139704040614432</title>\n<path fill=\"none\" stroke=\"#000000\" d=\"M51.6543,-56.9832C65.1894,-47.641 81.8926,-36.1122 95.278,-26.8734\"/>\n<polygon fill=\"#000000\" stroke=\"#000000\" points=\"97.2865,-29.7398 103.5283,-21.1788 93.3102,-23.9788 97.2865,-29.7398\"/>\n</g>\n<!-- 139704040613704 -->\n<g id=\"node3\" class=\"node\">\n<title>139704040613704</title>\n<polygon fill=\"#d3d3d3\" stroke=\"#000000\" points=\"166,-84.5 72,-84.5 72,-63.5 166,-63.5 166,-84.5\"/>\n<text text-anchor=\"middle\" x=\"119\" y=\"-70.9\" font-family=\"Times,serif\" font-size=\"12.00\" fill=\"#000000\">ReluBackward0</text>\n</g>\n<!-- 139704040613704&#45;&gt;139704040614432 -->\n<g id=\"edge2\" class=\"edge\">\n<title>139704040613704&#45;&gt;139704040614432</title>\n<path fill=\"none\" stroke=\"#000000\" d=\"M119,-63.2281C119,-54.5091 119,-41.9699 119,-31.3068\"/>\n<polygon fill=\"#000000\" stroke=\"#000000\" points=\"122.5001,-31.1128 119,-21.1128 115.5001,-31.1129 122.5001,-31.1128\"/>\n</g>\n<!-- 139704040612752 -->\n<g id=\"node4\" class=\"node\">\n<title>139704040612752</title>\n<polygon fill=\"#d3d3d3\" stroke=\"#000000\" points=\"170,-154.5 66,-154.5 66,-133.5 170,-133.5 170,-154.5\"/>\n<text text-anchor=\"middle\" x=\"118\" y=\"-140.9\" font-family=\"Times,serif\" font-size=\"12.00\" fill=\"#000000\">AddmmBackward</text>\n</g>\n<!-- 139704040612752&#45;&gt;139704040613704 -->\n<g id=\"edge3\" class=\"edge\">\n<title>139704040612752&#45;&gt;139704040613704</title>\n<path fill=\"none\" stroke=\"#000000\" d=\"M118.1519,-133.3685C118.2972,-123.1925 118.5206,-107.5606 118.7016,-94.8912\"/>\n<polygon fill=\"#000000\" stroke=\"#000000\" points=\"122.2034,-94.7806 118.8467,-84.7315 115.2041,-94.6805 122.2034,-94.7806\"/>\n</g>\n<!-- 139704040615104 -->\n<g id=\"node5\" class=\"node\">\n<title>139704040615104</title>\n<polygon fill=\"#add8e6\" stroke=\"#000000\" points=\"54,-231 0,-231 0,-197 54,-197 54,-231\"/>\n<text text-anchor=\"middle\" x=\"27\" y=\"-217.4\" font-family=\"Times,serif\" font-size=\"12.00\" fill=\"#000000\">fc1.bias</text>\n<text text-anchor=\"middle\" x=\"27\" y=\"-204.4\" font-family=\"Times,serif\" font-size=\"12.00\" fill=\"#000000\"> (64)</text>\n</g>\n<!-- 139704040615104&#45;&gt;139704040612752 -->\n<g id=\"edge4\" class=\"edge\">\n<title>139704040615104&#45;&gt;139704040612752</title>\n<path fill=\"none\" stroke=\"#000000\" d=\"M49.4944,-196.6966C63.7034,-185.7666 81.9745,-171.7119 96.0735,-160.8666\"/>\n<polygon fill=\"#000000\" stroke=\"#000000\" points=\"98.447,-163.4565 104.2393,-154.5852 94.179,-157.9081 98.447,-163.4565\"/>\n</g>\n<!-- 139704040612976 -->\n<g id=\"node6\" class=\"node\">\n<title>139704040612976</title>\n<polygon fill=\"#d3d3d3\" stroke=\"#000000\" points=\"163.5,-224.5 72.5,-224.5 72.5,-203.5 163.5,-203.5 163.5,-224.5\"/>\n<text text-anchor=\"middle\" x=\"118\" y=\"-210.9\" font-family=\"Times,serif\" font-size=\"12.00\" fill=\"#000000\">ViewBackward</text>\n</g>\n<!-- 139704040612976&#45;&gt;139704040612752 -->\n<g id=\"edge5\" class=\"edge\">\n<title>139704040612976&#45;&gt;139704040612752</title>\n<path fill=\"none\" stroke=\"#000000\" d=\"M118,-203.3685C118,-193.1925 118,-177.5606 118,-164.8912\"/>\n<polygon fill=\"#000000\" stroke=\"#000000\" points=\"121.5001,-164.7315 118,-154.7315 114.5001,-164.7316 121.5001,-164.7315\"/>\n</g>\n<!-- 139704040613088 -->\n<g id=\"node7\" class=\"node\">\n<title>139704040613088</title>\n<polygon fill=\"#d3d3d3\" stroke=\"#000000\" points=\"164,-294.5 70,-294.5 70,-273.5 164,-273.5 164,-294.5\"/>\n<text text-anchor=\"middle\" x=\"117\" y=\"-280.9\" font-family=\"Times,serif\" font-size=\"12.00\" fill=\"#000000\">ReluBackward0</text>\n</g>\n<!-- 139704040613088&#45;&gt;139704040612976 -->\n<g id=\"edge6\" class=\"edge\">\n<title>139704040613088&#45;&gt;139704040612976</title>\n<path fill=\"none\" stroke=\"#000000\" d=\"M117.1519,-273.3685C117.2972,-263.1925 117.5206,-247.5606 117.7016,-234.8912\"/>\n<polygon fill=\"#000000\" stroke=\"#000000\" points=\"121.2034,-234.7806 117.8467,-224.7315 114.2041,-234.6805 121.2034,-234.7806\"/>\n</g>\n<!-- 139704040613032 -->\n<g id=\"node8\" class=\"node\">\n<title>139704040613032</title>\n<polygon fill=\"#d3d3d3\" stroke=\"#000000\" points=\"207,-358 27,-358 27,-337 207,-337 207,-358\"/>\n<text text-anchor=\"middle\" x=\"117\" y=\"-344.4\" font-family=\"Times,serif\" font-size=\"12.00\" fill=\"#000000\">MaxPool2DWithIndicesBackward</text>\n</g>\n<!-- 139704040613032&#45;&gt;139704040613088 -->\n<g id=\"edge7\" class=\"edge\">\n<title>139704040613032&#45;&gt;139704040613088</title>\n<path fill=\"none\" stroke=\"#000000\" d=\"M117,-336.7281C117,-328.0091 117,-315.4699 117,-304.8068\"/>\n<polygon fill=\"#000000\" stroke=\"#000000\" points=\"120.5001,-304.6128 117,-294.6128 113.5001,-304.6129 120.5001,-304.6128\"/>\n</g>\n<!-- 139704040612696 -->\n<g id=\"node9\" class=\"node\">\n<title>139704040612696</title>\n<polygon fill=\"#d3d3d3\" stroke=\"#000000\" points=\"195.5,-415 38.5,-415 38.5,-394 195.5,-394 195.5,-415\"/>\n<text text-anchor=\"middle\" x=\"117\" y=\"-401.4\" font-family=\"Times,serif\" font-size=\"12.00\" fill=\"#000000\">CudnnConvolutionBackward</text>\n</g>\n<!-- 139704040612696&#45;&gt;139704040613032 -->\n<g id=\"edge8\" class=\"edge\">\n<title>139704040612696&#45;&gt;139704040613032</title>\n<path fill=\"none\" stroke=\"#000000\" d=\"M117,-393.7787C117,-386.6134 117,-376.9517 117,-368.3097\"/>\n<polygon fill=\"#000000\" stroke=\"#000000\" points=\"120.5001,-368.1732 117,-358.1732 113.5001,-368.1732 120.5001,-368.1732\"/>\n</g>\n<!-- 139704040614544 -->\n<g id=\"node10\" class=\"node\">\n<title>139704040614544</title>\n<polygon fill=\"#add8e6\" stroke=\"#000000\" points=\"111.5,-485 30.5,-485 30.5,-451 111.5,-451 111.5,-485\"/>\n<text text-anchor=\"middle\" x=\"71\" y=\"-471.4\" font-family=\"Times,serif\" font-size=\"12.00\" fill=\"#000000\">conv1.weight</text>\n<text text-anchor=\"middle\" x=\"71\" y=\"-458.4\" font-family=\"Times,serif\" font-size=\"12.00\" fill=\"#000000\"> (128, 3, 3, 3)</text>\n</g>\n<!-- 139704040614544&#45;&gt;139704040612696 -->\n<g id=\"edge9\" class=\"edge\">\n<title>139704040614544&#45;&gt;139704040612696</title>\n<path fill=\"none\" stroke=\"#000000\" d=\"M83.3272,-450.9832C89.4107,-442.5853 96.7742,-432.4204 103.0621,-423.7404\"/>\n<polygon fill=\"#000000\" stroke=\"#000000\" points=\"106.0945,-425.5204 109.1266,-415.3687 100.4256,-421.4138 106.0945,-425.5204\"/>\n</g>\n<!-- 139704040613200 -->\n<g id=\"node11\" class=\"node\">\n<title>139704040613200</title>\n<polygon fill=\"#add8e6\" stroke=\"#000000\" points=\"198,-485 130,-485 130,-451 198,-451 198,-485\"/>\n<text text-anchor=\"middle\" x=\"164\" y=\"-471.4\" font-family=\"Times,serif\" font-size=\"12.00\" fill=\"#000000\">conv1.bias</text>\n<text text-anchor=\"middle\" x=\"164\" y=\"-458.4\" font-family=\"Times,serif\" font-size=\"12.00\" fill=\"#000000\"> (128)</text>\n</g>\n<!-- 139704040613200&#45;&gt;139704040612696 -->\n<g id=\"edge10\" class=\"edge\">\n<title>139704040613200&#45;&gt;139704040612696</title>\n<path fill=\"none\" stroke=\"#000000\" d=\"M151.4049,-450.9832C145.1237,-442.4969 137.5069,-432.2062 131.0384,-423.4668\"/>\n<polygon fill=\"#000000\" stroke=\"#000000\" points=\"133.8071,-421.3243 125.0445,-415.3687 128.1806,-425.4888 133.8071,-421.3243\"/>\n</g>\n<!-- 139704040615328 -->\n<g id=\"node12\" class=\"node\">\n<title>139704040615328</title>\n<polygon fill=\"#d3d3d3\" stroke=\"#000000\" points=\"255.5,-224.5 182.5,-224.5 182.5,-203.5 255.5,-203.5 255.5,-224.5\"/>\n<text text-anchor=\"middle\" x=\"219\" y=\"-210.9\" font-family=\"Times,serif\" font-size=\"12.00\" fill=\"#000000\">TBackward</text>\n</g>\n<!-- 139704040615328&#45;&gt;139704040612752 -->\n<g id=\"edge11\" class=\"edge\">\n<title>139704040615328&#45;&gt;139704040612752</title>\n<path fill=\"none\" stroke=\"#000000\" d=\"M203.6603,-203.3685C187.1024,-191.8927 160.533,-173.4783 141.3726,-160.1988\"/>\n<polygon fill=\"#000000\" stroke=\"#000000\" points=\"143.3659,-157.3219 133.1532,-154.5022 139.3784,-163.0752 143.3659,-157.3219\"/>\n</g>\n<!-- 139704040612472 -->\n<g id=\"node13\" class=\"node\">\n<title>139704040612472</title>\n<polygon fill=\"#add8e6\" stroke=\"#000000\" points=\"257.5,-301 182.5,-301 182.5,-267 257.5,-267 257.5,-301\"/>\n<text text-anchor=\"middle\" x=\"220\" y=\"-287.4\" font-family=\"Times,serif\" font-size=\"12.00\" fill=\"#000000\">fc1.weight</text>\n<text text-anchor=\"middle\" x=\"220\" y=\"-274.4\" font-family=\"Times,serif\" font-size=\"12.00\" fill=\"#000000\"> (64, 32768)</text>\n</g>\n<!-- 139704040612472&#45;&gt;139704040615328 -->\n<g id=\"edge12\" class=\"edge\">\n<title>139704040612472&#45;&gt;139704040615328</title>\n<path fill=\"none\" stroke=\"#000000\" d=\"M219.7528,-266.6966C219.6152,-257.0634 219.4429,-245.003 219.2979,-234.8518\"/>\n<polygon fill=\"#000000\" stroke=\"#000000\" points=\"222.7967,-234.7402 219.1542,-224.7913 215.7975,-234.8403 222.7967,-234.7402\"/>\n</g>\n<!-- 139704040614936 -->\n<g id=\"node14\" class=\"node\">\n<title>139704040614936</title>\n<polygon fill=\"#d3d3d3\" stroke=\"#000000\" points=\"258.5,-84.5 185.5,-84.5 185.5,-63.5 258.5,-63.5 258.5,-84.5\"/>\n<text text-anchor=\"middle\" x=\"222\" y=\"-70.9\" font-family=\"Times,serif\" font-size=\"12.00\" fill=\"#000000\">TBackward</text>\n</g>\n<!-- 139704040614936&#45;&gt;139704040614432 -->\n<g id=\"edge13\" class=\"edge\">\n<title>139704040614936&#45;&gt;139704040614432</title>\n<path fill=\"none\" stroke=\"#000000\" d=\"M204.5275,-63.2281C188.1519,-53.1325 163.4682,-37.9149 144.8209,-26.4187\"/>\n<polygon fill=\"#000000\" stroke=\"#000000\" points=\"146.5636,-23.3814 136.2145,-21.1128 142.8901,-29.3401 146.5636,-23.3814\"/>\n</g>\n<!-- 139704040614656 -->\n<g id=\"node15\" class=\"node\">\n<title>139704040614656</title>\n<polygon fill=\"#add8e6\" stroke=\"#000000\" points=\"255.5,-161 188.5,-161 188.5,-127 255.5,-127 255.5,-161\"/>\n<text text-anchor=\"middle\" x=\"222\" y=\"-147.4\" font-family=\"Times,serif\" font-size=\"12.00\" fill=\"#000000\">fc2.weight</text>\n<text text-anchor=\"middle\" x=\"222\" y=\"-134.4\" font-family=\"Times,serif\" font-size=\"12.00\" fill=\"#000000\"> (10, 64)</text>\n</g>\n<!-- 139704040614656&#45;&gt;139704040614936 -->\n<g id=\"edge14\" class=\"edge\">\n<title>139704040614656&#45;&gt;139704040614936</title>\n<path fill=\"none\" stroke=\"#000000\" d=\"M222,-126.6966C222,-117.0634 222,-105.003 222,-94.8518\"/>\n<polygon fill=\"#000000\" stroke=\"#000000\" points=\"225.5001,-94.7912 222,-84.7913 218.5001,-94.7913 225.5001,-94.7912\"/>\n</g>\n</g>\n</svg>\n"
          },
          "metadata": {
            "tags": []
          },
          "execution_count": 14
        }
      ]
    },
    {
      "cell_type": "code",
      "metadata": {
        "id": "kdvJxTd-Mlvc",
        "colab_type": "code",
        "outputId": "6daf023f-9518-4e67-de39-5a19e9b1ac66",
        "colab": {
          "base_uri": "https://localhost:8080/",
          "height": 1000
        }
      },
      "source": [
        "# ***Solution***\n",
        "train_hist_x, train_loss_hist, test_hist_x, test_loss_hist = train_model(net)"
      ],
      "execution_count": 0,
      "outputs": [
        {
          "output_type": "stream",
          "text": [
            "Epoch 1, Iteration 20\t train_loss: 5.39 took: 0.31s\n",
            "Epoch 1, Iteration 40\t train_loss: 2.24 took: 0.21s\n",
            "Epoch 1, Iteration 60\t train_loss: 2.21 took: 0.20s\n",
            "Epoch 1, Iteration 80\t train_loss: 2.06 took: 0.19s\n",
            "Epoch 1, Iteration 100\t train_loss: 2.03 took: 0.19s\n",
            "Epoch 1, Iteration 120\t train_loss: 1.94 took: 0.19s\n",
            "Epoch 1, Iteration 140\t train_loss: 1.95 took: 0.19s\n",
            "Epoch 1, Iteration 160\t train_loss: 1.89 took: 0.20s\n",
            "Epoch 1, Iteration 180\t train_loss: 1.93 took: 0.19s\n",
            "Epoch 1, Iteration 200\t train_loss: 1.87 took: 0.21s\n",
            "Epoch 1, Iteration 220\t train_loss: 1.79 took: 0.19s\n",
            "Epoch 1, Iteration 240\t train_loss: 1.86 took: 0.20s\n",
            "Epoch 1, Iteration 260\t train_loss: 1.81 took: 0.18s\n",
            "Epoch 1, Iteration 280\t train_loss: 1.78 took: 0.19s\n",
            "Epoch 1, Iteration 300\t train_loss: 1.76 took: 0.19s\n",
            "Epoch 1, Iteration 320\t train_loss: 1.78 took: 0.20s\n",
            "Epoch 1, Iteration 340\t train_loss: 1.75 took: 0.20s\n",
            "Epoch 1, Iteration 360\t train_loss: 1.78 took: 0.19s\n",
            "Epoch 1, Iteration 380\t train_loss: 1.68 took: 0.19s\n",
            "Epoch 1, Iteration 400\t train_loss: 1.73 took: 0.18s\n",
            "Epoch 1, Iteration 420\t train_loss: 1.77 took: 0.20s\n",
            "Epoch 1, Iteration 440\t train_loss: 1.76 took: 0.19s\n",
            "Epoch 1, Iteration 460\t train_loss: 1.74 took: 0.20s\n",
            "Epoch 1, Iteration 480\t train_loss: 1.70 took: 0.18s\n",
            "Epoch 1, Iteration 500\t train_loss: 1.67 took: 0.19s\n",
            "Epoch 1, Iteration 520\t train_loss: 1.69 took: 0.19s\n",
            "Epoch 1, Iteration 540\t train_loss: 1.64 took: 0.21s\n",
            "Epoch 1, Iteration 560\t train_loss: 1.75 took: 0.21s\n",
            "Epoch 1, Iteration 580\t train_loss: 1.65 took: 0.21s\n",
            "Epoch 1, Iteration 600\t train_loss: 1.64 took: 0.21s\n",
            "Epoch 1, Iteration 620\t train_loss: 1.70 took: 0.20s\n",
            "Validation loss = 1.59\n",
            "Epoch 2, Iteration 20\t train_loss: 1.59 took: 0.25s\n",
            "Epoch 2, Iteration 40\t train_loss: 1.64 took: 0.18s\n",
            "Epoch 2, Iteration 60\t train_loss: 1.59 took: 0.18s\n",
            "Epoch 2, Iteration 80\t train_loss: 1.51 took: 0.18s\n",
            "Epoch 2, Iteration 100\t train_loss: 1.50 took: 0.20s\n",
            "Epoch 2, Iteration 120\t train_loss: 1.55 took: 0.18s\n",
            "Epoch 2, Iteration 140\t train_loss: 1.58 took: 0.20s\n",
            "Epoch 2, Iteration 160\t train_loss: 1.50 took: 0.19s\n",
            "Epoch 2, Iteration 180\t train_loss: 1.60 took: 0.19s\n",
            "Epoch 2, Iteration 200\t train_loss: 1.58 took: 0.19s\n",
            "Epoch 2, Iteration 220\t train_loss: 1.57 took: 0.20s\n",
            "Epoch 2, Iteration 240\t train_loss: 1.52 took: 0.19s\n",
            "Epoch 2, Iteration 260\t train_loss: 1.56 took: 0.21s\n",
            "Epoch 2, Iteration 280\t train_loss: 1.46 took: 0.19s\n",
            "Epoch 2, Iteration 300\t train_loss: 1.56 took: 0.21s\n",
            "Epoch 2, Iteration 320\t train_loss: 1.60 took: 0.21s\n",
            "Epoch 2, Iteration 340\t train_loss: 1.54 took: 0.19s\n",
            "Epoch 2, Iteration 360\t train_loss: 1.63 took: 0.19s\n",
            "Epoch 2, Iteration 380\t train_loss: 1.58 took: 0.19s\n",
            "Epoch 2, Iteration 400\t train_loss: 1.56 took: 0.19s\n",
            "Epoch 2, Iteration 420\t train_loss: 1.56 took: 0.19s\n",
            "Epoch 2, Iteration 440\t train_loss: 1.56 took: 0.19s\n",
            "Epoch 2, Iteration 460\t train_loss: 1.61 took: 0.19s\n",
            "Epoch 2, Iteration 480\t train_loss: 1.48 took: 0.19s\n",
            "Epoch 2, Iteration 500\t train_loss: 1.58 took: 0.19s\n",
            "Epoch 2, Iteration 520\t train_loss: 1.58 took: 0.20s\n",
            "Epoch 2, Iteration 540\t train_loss: 1.57 took: 0.20s\n",
            "Epoch 2, Iteration 560\t train_loss: 1.50 took: 0.19s\n",
            "Epoch 2, Iteration 580\t train_loss: 1.59 took: 0.19s\n",
            "Epoch 2, Iteration 600\t train_loss: 1.61 took: 0.19s\n",
            "Epoch 2, Iteration 620\t train_loss: 1.56 took: 0.20s\n",
            "Validation loss = 1.57\n",
            "Epoch 3, Iteration 20\t train_loss: 1.43 took: 0.27s\n",
            "Epoch 3, Iteration 40\t train_loss: 1.49 took: 0.18s\n",
            "Epoch 3, Iteration 60\t train_loss: 1.41 took: 0.19s\n",
            "Epoch 3, Iteration 80\t train_loss: 1.42 took: 0.18s\n",
            "Epoch 3, Iteration 100\t train_loss: 1.44 took: 0.19s\n",
            "Epoch 3, Iteration 120\t train_loss: 1.45 took: 0.19s\n",
            "Epoch 3, Iteration 140\t train_loss: 1.41 took: 0.19s\n",
            "Epoch 3, Iteration 160\t train_loss: 1.36 took: 0.19s\n",
            "Epoch 3, Iteration 180\t train_loss: 1.39 took: 0.19s\n",
            "Epoch 3, Iteration 200\t train_loss: 1.58 took: 0.19s\n",
            "Epoch 3, Iteration 220\t train_loss: 1.38 took: 0.20s\n",
            "Epoch 3, Iteration 240\t train_loss: 1.44 took: 0.19s\n",
            "Epoch 3, Iteration 260\t train_loss: 1.44 took: 0.19s\n",
            "Epoch 3, Iteration 280\t train_loss: 1.49 took: 0.18s\n",
            "Epoch 3, Iteration 300\t train_loss: 1.50 took: 0.21s\n",
            "Epoch 3, Iteration 320\t train_loss: 1.37 took: 0.25s\n",
            "Epoch 3, Iteration 340\t train_loss: 1.47 took: 0.21s\n",
            "Epoch 3, Iteration 360\t train_loss: 1.41 took: 0.22s\n",
            "Epoch 3, Iteration 380\t train_loss: 1.42 took: 0.21s\n",
            "Epoch 3, Iteration 400\t train_loss: 1.38 took: 0.19s\n",
            "Epoch 3, Iteration 420\t train_loss: 1.39 took: 0.21s\n",
            "Epoch 3, Iteration 440\t train_loss: 1.47 took: 0.23s\n",
            "Epoch 3, Iteration 460\t train_loss: 1.44 took: 0.21s\n",
            "Epoch 3, Iteration 480\t train_loss: 1.48 took: 0.21s\n",
            "Epoch 3, Iteration 500\t train_loss: 1.49 took: 0.22s\n",
            "Epoch 3, Iteration 520\t train_loss: 1.47 took: 0.21s\n",
            "Epoch 3, Iteration 540\t train_loss: 1.57 took: 0.19s\n",
            "Epoch 3, Iteration 560\t train_loss: 1.46 took: 0.20s\n",
            "Epoch 3, Iteration 580\t train_loss: 1.37 took: 0.19s\n",
            "Epoch 3, Iteration 600\t train_loss: 1.47 took: 0.19s\n",
            "Epoch 3, Iteration 620\t train_loss: 1.42 took: 0.20s\n",
            "Validation loss = 1.49\n",
            "Epoch 4, Iteration 20\t train_loss: 1.37 took: 0.29s\n",
            "Epoch 4, Iteration 40\t train_loss: 1.34 took: 0.21s\n",
            "Epoch 4, Iteration 60\t train_loss: 1.29 took: 0.18s\n",
            "Epoch 4, Iteration 80\t train_loss: 1.27 took: 0.19s\n",
            "Epoch 4, Iteration 100\t train_loss: 1.33 took: 0.20s\n",
            "Epoch 4, Iteration 120\t train_loss: 1.27 took: 0.19s\n",
            "Epoch 4, Iteration 140\t train_loss: 1.26 took: 0.19s\n",
            "Epoch 4, Iteration 160\t train_loss: 1.42 took: 0.21s\n",
            "Epoch 4, Iteration 180\t train_loss: 1.40 took: 0.21s\n",
            "Epoch 4, Iteration 200\t train_loss: 1.42 took: 0.23s\n",
            "Epoch 4, Iteration 220\t train_loss: 1.28 took: 0.22s\n",
            "Epoch 4, Iteration 240\t train_loss: 1.40 took: 0.21s\n",
            "Epoch 4, Iteration 260\t train_loss: 1.38 took: 0.19s\n",
            "Epoch 4, Iteration 280\t train_loss: 1.30 took: 0.20s\n",
            "Epoch 4, Iteration 300\t train_loss: 1.44 took: 0.20s\n",
            "Epoch 4, Iteration 320\t train_loss: 1.42 took: 0.18s\n",
            "Epoch 4, Iteration 340\t train_loss: 1.48 took: 0.20s\n",
            "Epoch 4, Iteration 360\t train_loss: 1.39 took: 0.19s\n",
            "Epoch 4, Iteration 380\t train_loss: 1.39 took: 0.19s\n",
            "Epoch 4, Iteration 400\t train_loss: 1.36 took: 0.19s\n",
            "Epoch 4, Iteration 420\t train_loss: 1.40 took: 0.19s\n",
            "Epoch 4, Iteration 440\t train_loss: 1.45 took: 0.20s\n",
            "Epoch 4, Iteration 460\t train_loss: 1.38 took: 0.20s\n",
            "Epoch 4, Iteration 480\t train_loss: 1.31 took: 0.22s\n",
            "Epoch 4, Iteration 500\t train_loss: 1.44 took: 0.20s\n",
            "Epoch 4, Iteration 520\t train_loss: 1.38 took: 0.20s\n",
            "Epoch 4, Iteration 540\t train_loss: 1.38 took: 0.20s\n",
            "Epoch 4, Iteration 560\t train_loss: 1.39 took: 0.18s\n",
            "Epoch 4, Iteration 580\t train_loss: 1.38 took: 0.21s\n",
            "Epoch 4, Iteration 600\t train_loss: 1.36 took: 0.22s\n",
            "Epoch 4, Iteration 620\t train_loss: 1.35 took: 0.19s\n",
            "Validation loss = 1.57\n",
            "Epoch 5, Iteration 20\t train_loss: 1.38 took: 0.26s\n",
            "Epoch 5, Iteration 40\t train_loss: 1.27 took: 0.18s\n",
            "Epoch 5, Iteration 60\t train_loss: 1.27 took: 0.19s\n",
            "Epoch 5, Iteration 80\t train_loss: 1.23 took: 0.18s\n",
            "Epoch 5, Iteration 100\t train_loss: 1.18 took: 0.20s\n",
            "Epoch 5, Iteration 120\t train_loss: 1.27 took: 0.19s\n",
            "Epoch 5, Iteration 140\t train_loss: 1.22 took: 0.19s\n",
            "Epoch 5, Iteration 160\t train_loss: 1.31 took: 0.18s\n",
            "Epoch 5, Iteration 180\t train_loss: 1.34 took: 0.19s\n",
            "Epoch 5, Iteration 200\t train_loss: 1.20 took: 0.19s\n",
            "Epoch 5, Iteration 220\t train_loss: 1.25 took: 0.19s\n",
            "Epoch 5, Iteration 240\t train_loss: 1.23 took: 0.18s\n",
            "Epoch 5, Iteration 260\t train_loss: 1.28 took: 0.20s\n",
            "Epoch 5, Iteration 280\t train_loss: 1.32 took: 0.19s\n",
            "Epoch 5, Iteration 300\t train_loss: 1.28 took: 0.20s\n",
            "Epoch 5, Iteration 320\t train_loss: 1.23 took: 0.19s\n",
            "Epoch 5, Iteration 340\t train_loss: 1.29 took: 0.19s\n",
            "Epoch 5, Iteration 360\t train_loss: 1.24 took: 0.18s\n",
            "Epoch 5, Iteration 380\t train_loss: 1.28 took: 0.20s\n",
            "Epoch 5, Iteration 400\t train_loss: 1.31 took: 0.20s\n",
            "Epoch 5, Iteration 420\t train_loss: 1.30 took: 0.21s\n",
            "Epoch 5, Iteration 440\t train_loss: 1.18 took: 0.19s\n",
            "Epoch 5, Iteration 460\t train_loss: 1.29 took: 0.21s\n",
            "Epoch 5, Iteration 480\t train_loss: 1.28 took: 0.21s\n",
            "Epoch 5, Iteration 500\t train_loss: 1.21 took: 0.19s\n",
            "Epoch 5, Iteration 520\t train_loss: 1.24 took: 0.21s\n",
            "Epoch 5, Iteration 540\t train_loss: 1.30 took: 0.19s\n",
            "Epoch 5, Iteration 560\t train_loss: 1.34 took: 0.20s\n",
            "Epoch 5, Iteration 580\t train_loss: 1.26 took: 0.19s\n",
            "Epoch 5, Iteration 600\t train_loss: 1.27 took: 0.22s\n",
            "Epoch 5, Iteration 620\t train_loss: 1.35 took: 0.21s\n",
            "Validation loss = 1.48\n",
            "Epoch 6, Iteration 20\t train_loss: 1.10 took: 0.27s\n",
            "Epoch 6, Iteration 40\t train_loss: 1.15 took: 0.20s\n",
            "Epoch 6, Iteration 60\t train_loss: 1.14 took: 0.22s\n",
            "Epoch 6, Iteration 80\t train_loss: 1.12 took: 0.21s\n",
            "Epoch 6, Iteration 100\t train_loss: 1.17 took: 0.22s\n",
            "Epoch 6, Iteration 120\t train_loss: 1.14 took: 0.19s\n",
            "Epoch 6, Iteration 140\t train_loss: 1.18 took: 0.19s\n",
            "Epoch 6, Iteration 160\t train_loss: 1.20 took: 0.19s\n",
            "Epoch 6, Iteration 180\t train_loss: 1.21 took: 0.19s\n",
            "Epoch 6, Iteration 200\t train_loss: 1.14 took: 0.20s\n",
            "Epoch 6, Iteration 220\t train_loss: 1.08 took: 0.19s\n",
            "Epoch 6, Iteration 240\t train_loss: 1.10 took: 0.19s\n",
            "Epoch 6, Iteration 260\t train_loss: 1.30 took: 0.19s\n",
            "Epoch 6, Iteration 280\t train_loss: 1.26 took: 0.22s\n",
            "Epoch 6, Iteration 300\t train_loss: 1.29 took: 0.20s\n",
            "Epoch 6, Iteration 320\t train_loss: 1.26 took: 0.18s\n",
            "Epoch 6, Iteration 340\t train_loss: 1.29 took: 0.20s\n",
            "Epoch 6, Iteration 360\t train_loss: 1.24 took: 0.19s\n",
            "Epoch 6, Iteration 380\t train_loss: 1.17 took: 0.21s\n",
            "Epoch 6, Iteration 400\t train_loss: 1.27 took: 0.20s\n",
            "Epoch 6, Iteration 420\t train_loss: 1.31 took: 0.20s\n",
            "Epoch 6, Iteration 440\t train_loss: 1.14 took: 0.21s\n",
            "Epoch 6, Iteration 460\t train_loss: 1.28 took: 0.19s\n",
            "Epoch 6, Iteration 480\t train_loss: 1.26 took: 0.21s\n",
            "Epoch 6, Iteration 500\t train_loss: 1.23 took: 0.20s\n",
            "Epoch 6, Iteration 520\t train_loss: 1.17 took: 0.19s\n",
            "Epoch 6, Iteration 540\t train_loss: 1.29 took: 0.19s\n",
            "Epoch 6, Iteration 560\t train_loss: 1.31 took: 0.21s\n",
            "Epoch 6, Iteration 580\t train_loss: 1.30 took: 0.21s\n",
            "Epoch 6, Iteration 600\t train_loss: 1.23 took: 0.20s\n",
            "Epoch 6, Iteration 620\t train_loss: 1.19 took: 0.18s\n",
            "Validation loss = 1.46\n",
            "Epoch 7, Iteration 20\t train_loss: 1.01 took: 0.27s\n",
            "Epoch 7, Iteration 40\t train_loss: 1.08 took: 0.18s\n",
            "Epoch 7, Iteration 60\t train_loss: 1.12 took: 0.19s\n",
            "Epoch 7, Iteration 80\t train_loss: 1.05 took: 0.19s\n",
            "Epoch 7, Iteration 100\t train_loss: 1.11 took: 0.20s\n",
            "Epoch 7, Iteration 120\t train_loss: 1.19 took: 0.18s\n",
            "Epoch 7, Iteration 140\t train_loss: 1.02 took: 0.19s\n",
            "Epoch 7, Iteration 160\t train_loss: 1.15 took: 0.18s\n",
            "Epoch 7, Iteration 180\t train_loss: 1.15 took: 0.19s\n",
            "Epoch 7, Iteration 200\t train_loss: 1.07 took: 0.19s\n",
            "Epoch 7, Iteration 220\t train_loss: 1.15 took: 0.20s\n",
            "Epoch 7, Iteration 240\t train_loss: 1.08 took: 0.20s\n",
            "Epoch 7, Iteration 260\t train_loss: 1.06 took: 0.19s\n",
            "Epoch 7, Iteration 280\t train_loss: 1.03 took: 0.19s\n",
            "Epoch 7, Iteration 300\t train_loss: 1.07 took: 0.20s\n",
            "Epoch 7, Iteration 320\t train_loss: 1.09 took: 0.19s\n",
            "Epoch 7, Iteration 340\t train_loss: 1.11 took: 0.21s\n",
            "Epoch 7, Iteration 360\t train_loss: 1.07 took: 0.20s\n",
            "Epoch 7, Iteration 380\t train_loss: 1.12 took: 0.21s\n",
            "Epoch 7, Iteration 400\t train_loss: 1.21 took: 0.20s\n",
            "Epoch 7, Iteration 420\t train_loss: 1.17 took: 0.22s\n",
            "Epoch 7, Iteration 440\t train_loss: 1.11 took: 0.25s\n",
            "Epoch 7, Iteration 460\t train_loss: 1.03 took: 0.23s\n",
            "Epoch 7, Iteration 480\t train_loss: 1.10 took: 0.22s\n",
            "Epoch 7, Iteration 500\t train_loss: 1.23 took: 0.23s\n",
            "Epoch 7, Iteration 520\t train_loss: 1.15 took: 0.21s\n",
            "Epoch 7, Iteration 540\t train_loss: 1.06 took: 0.21s\n",
            "Epoch 7, Iteration 560\t train_loss: 1.13 took: 0.24s\n",
            "Epoch 7, Iteration 580\t train_loss: 1.10 took: 0.19s\n",
            "Epoch 7, Iteration 600\t train_loss: 1.22 took: 0.22s\n",
            "Epoch 7, Iteration 620\t train_loss: 1.27 took: 0.20s\n",
            "Validation loss = 1.62\n",
            "Epoch 8, Iteration 20\t train_loss: 0.95 took: 0.29s\n",
            "Epoch 8, Iteration 40\t train_loss: 0.98 took: 0.19s\n",
            "Epoch 8, Iteration 60\t train_loss: 0.97 took: 0.20s\n",
            "Epoch 8, Iteration 80\t train_loss: 0.94 took: 0.19s\n",
            "Epoch 8, Iteration 100\t train_loss: 0.99 took: 0.19s\n",
            "Epoch 8, Iteration 120\t train_loss: 1.00 took: 0.19s\n",
            "Epoch 8, Iteration 140\t train_loss: 1.06 took: 0.19s\n",
            "Epoch 8, Iteration 160\t train_loss: 1.03 took: 0.20s\n",
            "Epoch 8, Iteration 180\t train_loss: 1.06 took: 0.20s\n",
            "Epoch 8, Iteration 200\t train_loss: 1.01 took: 0.19s\n",
            "Epoch 8, Iteration 220\t train_loss: 1.03 took: 0.19s\n",
            "Epoch 8, Iteration 240\t train_loss: 0.97 took: 0.19s\n",
            "Epoch 8, Iteration 260\t train_loss: 1.08 took: 0.19s\n",
            "Epoch 8, Iteration 280\t train_loss: 1.13 took: 0.19s\n",
            "Epoch 8, Iteration 300\t train_loss: 1.01 took: 0.19s\n",
            "Epoch 8, Iteration 320\t train_loss: 1.08 took: 0.19s\n",
            "Epoch 8, Iteration 340\t train_loss: 1.17 took: 0.20s\n",
            "Epoch 8, Iteration 360\t train_loss: 1.08 took: 0.19s\n",
            "Epoch 8, Iteration 380\t train_loss: 1.10 took: 0.21s\n",
            "Epoch 8, Iteration 400\t train_loss: 1.09 took: 0.19s\n",
            "Epoch 8, Iteration 420\t train_loss: 1.14 took: 0.20s\n",
            "Epoch 8, Iteration 440\t train_loss: 1.11 took: 0.20s\n",
            "Epoch 8, Iteration 460\t train_loss: 0.99 took: 0.19s\n",
            "Epoch 8, Iteration 480\t train_loss: 1.10 took: 0.23s\n",
            "Epoch 8, Iteration 500\t train_loss: 1.11 took: 0.20s\n",
            "Epoch 8, Iteration 520\t train_loss: 1.10 took: 0.18s\n",
            "Epoch 8, Iteration 540\t train_loss: 1.06 took: 0.20s\n",
            "Epoch 8, Iteration 560\t train_loss: 1.19 took: 0.19s\n",
            "Epoch 8, Iteration 580\t train_loss: 1.05 took: 0.21s\n",
            "Epoch 8, Iteration 600\t train_loss: 1.18 took: 0.20s\n",
            "Epoch 8, Iteration 620\t train_loss: 1.13 took: 0.19s\n",
            "Validation loss = 1.61\n",
            "Epoch 9, Iteration 20\t train_loss: 0.91 took: 0.26s\n",
            "Epoch 9, Iteration 40\t train_loss: 0.92 took: 0.18s\n",
            "Epoch 9, Iteration 60\t train_loss: 0.98 took: 0.20s\n",
            "Epoch 9, Iteration 80\t train_loss: 0.89 took: 0.18s\n",
            "Epoch 9, Iteration 100\t train_loss: 0.92 took: 0.19s\n",
            "Epoch 9, Iteration 120\t train_loss: 0.95 took: 0.18s\n",
            "Epoch 9, Iteration 140\t train_loss: 0.90 took: 0.22s\n",
            "Epoch 9, Iteration 160\t train_loss: 1.00 took: 0.22s\n",
            "Epoch 9, Iteration 180\t train_loss: 0.97 took: 0.19s\n",
            "Epoch 9, Iteration 200\t train_loss: 1.04 took: 0.20s\n",
            "Epoch 9, Iteration 220\t train_loss: 0.92 took: 0.18s\n",
            "Epoch 9, Iteration 240\t train_loss: 0.98 took: 0.19s\n",
            "Epoch 9, Iteration 260\t train_loss: 0.99 took: 0.18s\n",
            "Epoch 9, Iteration 280\t train_loss: 0.99 took: 0.20s\n",
            "Epoch 9, Iteration 300\t train_loss: 1.07 took: 0.18s\n",
            "Epoch 9, Iteration 320\t train_loss: 0.99 took: 0.20s\n",
            "Epoch 9, Iteration 340\t train_loss: 1.11 took: 0.20s\n",
            "Epoch 9, Iteration 360\t train_loss: 1.02 took: 0.19s\n",
            "Epoch 9, Iteration 380\t train_loss: 1.06 took: 0.20s\n",
            "Epoch 9, Iteration 400\t train_loss: 1.02 took: 0.21s\n",
            "Epoch 9, Iteration 420\t train_loss: 1.06 took: 0.20s\n",
            "Epoch 9, Iteration 440\t train_loss: 1.06 took: 0.19s\n",
            "Epoch 9, Iteration 460\t train_loss: 1.06 took: 0.19s\n",
            "Epoch 9, Iteration 480\t train_loss: 1.03 took: 0.21s\n",
            "Epoch 9, Iteration 500\t train_loss: 1.04 took: 0.21s\n",
            "Epoch 9, Iteration 520\t train_loss: 1.04 took: 0.19s\n",
            "Epoch 9, Iteration 540\t train_loss: 1.05 took: 0.21s\n",
            "Epoch 9, Iteration 560\t train_loss: 1.00 took: 0.21s\n",
            "Epoch 9, Iteration 580\t train_loss: 0.98 took: 0.19s\n",
            "Epoch 9, Iteration 600\t train_loss: 1.00 took: 0.19s\n",
            "Epoch 9, Iteration 620\t train_loss: 1.04 took: 0.19s\n",
            "Validation loss = 1.70\n",
            "Epoch 10, Iteration 20\t train_loss: 0.99 took: 0.27s\n",
            "Epoch 10, Iteration 40\t train_loss: 0.98 took: 0.18s\n",
            "Epoch 10, Iteration 60\t train_loss: 0.88 took: 0.18s\n",
            "Epoch 10, Iteration 80\t train_loss: 0.86 took: 0.19s\n",
            "Epoch 10, Iteration 100\t train_loss: 0.86 took: 0.19s\n",
            "Epoch 10, Iteration 120\t train_loss: 0.98 took: 0.20s\n",
            "Epoch 10, Iteration 140\t train_loss: 0.91 took: 0.22s\n",
            "Epoch 10, Iteration 160\t train_loss: 0.91 took: 0.21s\n",
            "Epoch 10, Iteration 180\t train_loss: 0.94 took: 0.22s\n",
            "Epoch 10, Iteration 200\t train_loss: 0.86 took: 0.19s\n",
            "Epoch 10, Iteration 220\t train_loss: 0.92 took: 0.20s\n",
            "Epoch 10, Iteration 240\t train_loss: 0.89 took: 0.18s\n",
            "Epoch 10, Iteration 260\t train_loss: 0.96 took: 0.20s\n",
            "Epoch 10, Iteration 280\t train_loss: 1.10 took: 0.20s\n",
            "Epoch 10, Iteration 300\t train_loss: 1.06 took: 0.19s\n",
            "Epoch 10, Iteration 320\t train_loss: 0.99 took: 0.19s\n",
            "Epoch 10, Iteration 340\t train_loss: 0.88 took: 0.19s\n",
            "Epoch 10, Iteration 360\t train_loss: 0.93 took: 0.19s\n",
            "Epoch 10, Iteration 380\t train_loss: 0.88 took: 0.20s\n",
            "Epoch 10, Iteration 400\t train_loss: 0.83 took: 0.20s\n",
            "Epoch 10, Iteration 420\t train_loss: 0.93 took: 0.22s\n",
            "Epoch 10, Iteration 440\t train_loss: 1.01 took: 0.23s\n",
            "Epoch 10, Iteration 460\t train_loss: 0.98 took: 0.23s\n",
            "Epoch 10, Iteration 480\t train_loss: 0.96 took: 0.23s\n",
            "Epoch 10, Iteration 500\t train_loss: 0.99 took: 0.21s\n",
            "Epoch 10, Iteration 520\t train_loss: 0.98 took: 0.22s\n",
            "Epoch 10, Iteration 540\t train_loss: 0.92 took: 0.20s\n",
            "Epoch 10, Iteration 560\t train_loss: 0.98 took: 0.21s\n",
            "Epoch 10, Iteration 580\t train_loss: 1.01 took: 0.21s\n",
            "Epoch 10, Iteration 600\t train_loss: 0.99 took: 0.21s\n",
            "Epoch 10, Iteration 620\t train_loss: 0.92 took: 0.22s\n",
            "Validation loss = 1.73\n",
            "Training finished, took 72.69s\n"
          ],
          "name": "stdout"
        }
      ]
    },
    {
      "cell_type": "code",
      "metadata": {
        "id": "I9DHRO7sI9jH",
        "colab_type": "code",
        "outputId": "82904dfa-2d9b-4c0a-ec26-0864b52deba4",
        "colab": {
          "base_uri": "https://localhost:8080/",
          "height": 317
        }
      },
      "source": [
        "plt.plot(train_hist_x,train_loss_hist)\n",
        "plt.plot(test_hist_x,test_loss_hist)\n",
        "plt.legend(['train loss', 'validation loss'])\n",
        "plt.xlabel('Batch number')\n",
        "plt.ylabel('Loss')\n",
        "plt.show()\n",
        "\n",
        "print(\"Train accuracy is\", get_accuracy(net, train_loader))\n",
        "print(\"Test accuracy is\", get_accuracy(net, test_loader))"
      ],
      "execution_count": 0,
      "outputs": [
        {
          "output_type": "display_data",
          "data": {
            "image/png": "[encoded data removed]",
            "text/plain": [
              "<Figure size 432x288 with 1 Axes>"
            ]
          },
          "metadata": {
            "tags": []
          }
        },
        {
          "output_type": "stream",
          "text": [
            "Train accuracy is 0.71065\n",
            "Test accuracy is 0.4956\n"
          ],
          "name": "stdout"
        }
      ]
    },
    {
      "cell_type": "code",
      "metadata": {
        "id": "ogVa8vQaxT2K",
        "colab_type": "code",
        "colab": {}
      },
      "source": [
        ""
      ],
      "execution_count": 0,
      "outputs": []
    }
  ]
}